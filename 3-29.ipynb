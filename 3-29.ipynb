{
 "cells": [
  {
   "cell_type": "code",
   "execution_count": 286,
   "metadata": {},
   "outputs": [],
   "source": [
    "from sympy import *\n",
    "from sympy.physics.quantum import *\n",
    "from sympy.physics.quantum.qubit import *"
   ]
  },
  {
   "cell_type": "code",
   "execution_count": 361,
   "metadata": {},
   "outputs": [],
   "source": [
    "d, p, p_0, k_0, x, h, a, p_hat, t, M, k = symbols('d, p, p_0, k_0, x, h, a, p_hat, t, M, k', nonzero=True, real=True)"
   ]
  },
  {
   "cell_type": "code",
   "execution_count": 362,
   "metadata": {},
   "outputs": [
    {
     "data": {
      "text/latex": [
       "$\\displaystyle \\frac{d^{2} e^{- \\frac{\\left(- a + x\\right)^{2}}{2 d^{2}}} e^{\\frac{i p_{0} x}{h}}}{4 \\pi}$"
      ],
      "text/plain": [
       "d**2*exp(-(-a + x)**2/(2*d**2))*exp(I*p_0*x/h)/(4*pi)"
      ]
     },
     "execution_count": 362,
     "metadata": {},
     "output_type": "execute_result"
    }
   ],
   "source": [
    "psi_x = ((1 / pi * d**2) ** 1/4) * exp(I * p_0 * x / h) * exp(-((x-a)**2) / (2*d**2)); psi_x"
   ]
  },
  {
   "cell_type": "markdown",
   "metadata": {},
   "source": [
    "## Wave Evolution"
   ]
  },
  {
   "cell_type": "code",
   "execution_count": 363,
   "metadata": {},
   "outputs": [
    {
     "data": {
      "text/latex": [
       "$\\displaystyle \\frac{\\sqrt{d} e^{- \\frac{d^{2} \\left(k - k_{0}\\right)^{2}}{2}} e^{- i a \\left(k - k_{0}\\right)}}{\\pi^{0.25}}$"
      ],
      "text/plain": [
       "sqrt(d)*exp(-d**2*(k - k_0)**2/2)*exp(-I*a*(k - k_0))/pi**0.25"
      ]
     },
     "execution_count": 363,
     "metadata": {},
     "output_type": "execute_result"
    }
   ],
   "source": [
    "psi_k = (sqrt(d) / pi**0.25) * exp(-I * (k-k_0) * a) * exp(-(k-k_0)**2 * d**2 / 2); psi_k"
   ]
  },
  {
   "cell_type": "code",
   "execution_count": 364,
   "metadata": {},
   "outputs": [
    {
     "data": {
      "text/latex": [
       "$\\displaystyle e^{- \\frac{i h k^{2} t}{2 M}}$"
      ],
      "text/plain": [
       "exp(-I*h*k**2*t/(2*M))"
      ]
     },
     "execution_count": 364,
     "metadata": {},
     "output_type": "execute_result"
    }
   ],
   "source": [
    "U_t = exp(-I * p ** 2 * t / (2 * M )/h).subs({p: (k*h)}); U_t"
   ]
  },
  {
   "cell_type": "code",
   "execution_count": 365,
   "metadata": {},
   "outputs": [
    {
     "data": {
      "text/latex": [
       "$\\displaystyle \\frac{\\sqrt{d} e^{- \\frac{d^{2} \\left(k - k_{0}\\right)^{2}}{2}} e^{- i a \\left(k - k_{0}\\right)} e^{- \\frac{i h k^{2} t}{2 M}}}{\\pi^{0.25}}$"
      ],
      "text/plain": [
       "sqrt(d)*exp(-d**2*(k - k_0)**2/2)*exp(-I*a*(k - k_0))*exp(-I*h*k**2*t/(2*M))/pi**0.25"
      ]
     },
     "execution_count": 365,
     "metadata": {},
     "output_type": "execute_result"
    }
   ],
   "source": [
    "psi_k_t = (U_t * psi_k).subs({p:k*h}); psi_k_t"
   ]
  },
  {
   "cell_type": "markdown",
   "metadata": {},
   "source": [
    "## Coordinate View"
   ]
  },
  {
   "cell_type": "code",
   "execution_count": 366,
   "metadata": {},
   "outputs": [
    {
     "data": {
      "text/latex": [
       "$\\displaystyle \\frac{\\sqrt{d} \\mathcal{F}^{-1}_{k}\\left[e^{- \\frac{d^{2} \\left(k - k_{0}\\right)^{2}}{2}} e^{- \\frac{i h k^{2} t}{2 M}} e^{- i a k + i a k_{0}}\\right]\\left(x\\right)}{\\pi^{0.25}}$"
      ],
      "text/plain": [
       "sqrt(d)*InverseFourierTransform(exp(-d**2*(k - k_0)**2/2)*exp(-I*h*k**2*t/(2*M))*exp(-I*a*k + I*a*k_0), k, x)/pi**0.25"
      ]
     },
     "execution_count": 366,
     "metadata": {},
     "output_type": "execute_result"
    }
   ],
   "source": [
    "psi_x_t = inverse_fourier_transform(psi_k_t, k, x); psi_x_t"
   ]
  },
  {
   "cell_type": "markdown",
   "metadata": {},
   "source": [
    "## PDF"
   ]
  },
  {
   "cell_type": "code",
   "execution_count": 367,
   "metadata": {},
   "outputs": [
    {
     "data": {
      "text/latex": [
       "$\\displaystyle \\frac{\\sqrt{d} \\mathcal{F}^{-1}_{k}\\left[e^{- \\frac{d^{2} \\left(k - k_{0}\\right)^{2}}{2}} e^{- \\frac{i h k^{2} t}{2 M}} e^{- i a k + i a k_{0}}\\right]\\left(x\\right) \\overline{\\sqrt{d}} \\mathcal{F}^{-1}_{k}\\left[e^{- \\frac{d^{2} \\left(k - k_{0}\\right)^{2}}{2}} e^{- \\frac{i h k^{2} t}{2 M}} e^{- i a k + i a k_{0}}\\right]\\left(x\\right)^{\\dagger}}{\\pi^{0.5}}$"
      ],
      "text/plain": [
       "sqrt(d)*InverseFourierTransform(exp(-d**2*(k - k_0)**2/2)*exp(-I*h*k**2*t/(2*M))*exp(-I*a*k + I*a*k_0), k, x)*conjugate(sqrt(d))*Dagger(InverseFourierTransform(exp(-d**2*(k - k_0)**2/2)*exp(-I*h*k**2*t/(2*M))*exp(-I*a*k + I*a*k_0), k, x))/pi**0.5"
      ]
     },
     "execution_count": 367,
     "metadata": {},
     "output_type": "execute_result"
    }
   ],
   "source": [
    "pdf = Dagger(psi_x_t) * psi_x_t; pdf"
   ]
  },
  {
   "cell_type": "code",
   "execution_count": 368,
   "metadata": {},
   "outputs": [
    {
     "data": {
      "text/latex": [
       "$\\displaystyle \\frac{\\sqrt{d} \\overline{\\sqrt{d}} \\int\\limits_{-\\infty}^{\\infty} x \\mathcal{F}^{-1}_{k}\\left[e^{- \\frac{d^{2} k^{2}}{2}} e^{- \\frac{d^{2} k_{0}^{2}}{2}} e^{- i a k} e^{i a k_{0}} e^{d^{2} k k_{0}} e^{- \\frac{i h k^{2} t}{2 M}}\\right]\\left(x\\right) \\mathcal{F}^{-1}_{k}\\left[e^{- \\frac{d^{2} k^{2}}{2}} e^{- \\frac{d^{2} k_{0}^{2}}{2}} e^{- i a k} e^{i a k_{0}} e^{d^{2} k k_{0}} e^{- \\frac{i h k^{2} t}{2 M}}\\right]\\left(x\\right)^{\\dagger}\\, dx}{\\pi^{0.5}}$"
      ],
      "text/plain": [
       "sqrt(d)*conjugate(sqrt(d))*Integral(x*InverseFourierTransform(exp(-d**2*k**2/2)*exp(-d**2*k_0**2/2)*exp(-I*a*k)*exp(I*a*k_0)*exp(d**2*k*k_0)*exp(-I*h*k**2*t/(2*M)), k, x)*Dagger(InverseFourierTransform(exp(-d**2*k**2/2)*exp(-d**2*k_0**2/2)*exp(-I*a*k)*exp(I*a*k_0)*exp(d**2*k*k_0)*exp(-I*h*k**2*t/(2*M)), k, x)), (x, -oo, oo))/pi**0.5"
      ]
     },
     "execution_count": 368,
     "metadata": {},
     "output_type": "execute_result"
    }
   ],
   "source": [
    "mean = integrate(x * pdf, (x, -oo, oo)); mean"
   ]
  },
  {
   "cell_type": "code",
   "execution_count": 373,
   "metadata": {},
   "outputs": [
    {
     "data": {
      "text/latex": [
       "$\\displaystyle \\frac{\\sqrt{d} \\overline{\\sqrt{d}} \\int\\limits_{-\\infty}^{\\infty} x^{2} \\mathcal{F}^{-1}_{k}\\left[e^{- \\frac{d^{2} k^{2}}{2}} e^{- \\frac{d^{2} k_{0}^{2}}{2}} e^{- i a k} e^{i a k_{0}} e^{d^{2} k k_{0}} e^{- \\frac{i h k^{2} t}{2 M}}\\right]\\left(x\\right) \\mathcal{F}^{-1}_{k}\\left[e^{- \\frac{d^{2} k^{2}}{2}} e^{- \\frac{d^{2} k_{0}^{2}}{2}} e^{- i a k} e^{i a k_{0}} e^{d^{2} k k_{0}} e^{- \\frac{i h k^{2} t}{2 M}}\\right]\\left(x\\right)^{\\dagger}\\, dx}{\\pi^{0.5}}$"
      ],
      "text/plain": [
       "sqrt(d)*conjugate(sqrt(d))*Integral(x**2*InverseFourierTransform(exp(-d**2*k**2/2)*exp(-d**2*k_0**2/2)*exp(-I*a*k)*exp(I*a*k_0)*exp(d**2*k*k_0)*exp(-I*h*k**2*t/(2*M)), k, x)*Dagger(InverseFourierTransform(exp(-d**2*k**2/2)*exp(-d**2*k_0**2/2)*exp(-I*a*k)*exp(I*a*k_0)*exp(d**2*k*k_0)*exp(-I*h*k**2*t/(2*M)), k, x)), (x, -oo, oo))/pi**0.5"
      ]
     },
     "execution_count": 373,
     "metadata": {},
     "output_type": "execute_result"
    }
   ],
   "source": [
    "variance = integrate((x)**2 * pdf, (x, -oo, oo)); variance.subs({x:x-mean})"
   ]
  },
  {
   "cell_type": "markdown",
   "metadata": {},
   "source": [
    "Doesn't match with book expl"
   ]
  },
  {
   "cell_type": "code",
   "execution_count": null,
   "metadata": {},
   "outputs": [],
   "source": []
  }
 ],
 "metadata": {
  "kernelspec": {
   "display_name": "quantum",
   "language": "python",
   "name": "python3"
  },
  "language_info": {
   "codemirror_mode": {
    "name": "ipython",
    "version": 3
   },
   "file_extension": ".py",
   "mimetype": "text/x-python",
   "name": "python",
   "nbconvert_exporter": "python",
   "pygments_lexer": "ipython3",
   "version": "3.11.5"
  }
 },
 "nbformat": 4,
 "nbformat_minor": 2
}
