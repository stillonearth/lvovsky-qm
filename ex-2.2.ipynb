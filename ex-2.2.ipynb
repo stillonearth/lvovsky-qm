{
 "cells": [
  {
   "cell_type": "code",
   "execution_count": 2,
   "metadata": {},
   "outputs": [],
   "source": [
    "from sympy import *\n",
    "from sympy.physics.quantum import *\n",
    "from sympy.physics.quantum.qubit import *"
   ]
  },
  {
   "cell_type": "code",
   "execution_count": 7,
   "metadata": {},
   "outputs": [
    {
     "data": {
      "text/latex": [
       "$\\displaystyle {\\left|1\\right\\rangle }$"
      ],
      "text/plain": [
       "|1>"
      ]
     },
     "execution_count": 7,
     "metadata": {},
     "output_type": "execute_result"
    }
   ],
   "source": [
    "H = Qubit(1); H"
   ]
  },
  {
   "cell_type": "code",
   "execution_count": 8,
   "metadata": {},
   "outputs": [
    {
     "data": {
      "text/latex": [
       "$\\displaystyle {\\left|0\\right\\rangle }$"
      ],
      "text/plain": [
       "|0>"
      ]
     },
     "execution_count": 8,
     "metadata": {},
     "output_type": "execute_result"
    }
   ],
   "source": [
    "V = Qubit(0); V"
   ]
  },
  {
   "cell_type": "code",
   "execution_count": 9,
   "metadata": {},
   "outputs": [
    {
     "data": {
      "text/latex": [
       "$\\displaystyle {\\left|0\\right\\rangle }{\\left\\langle 0\\right|} + {\\left|1\\right\\rangle }{\\left\\langle 1\\right|}$"
      ],
      "text/plain": [
       "|0><0| + |1><1|"
      ]
     },
     "execution_count": 9,
     "metadata": {},
     "output_type": "execute_result"
    }
   ],
   "source": [
    "б_z = H * Dagger(H) + V * Dagger(V); б_z"
   ]
  },
  {
   "cell_type": "code",
   "execution_count": 16,
   "metadata": {},
   "outputs": [
    {
     "data": {
      "text/latex": [
       "$\\displaystyle \\phi$"
      ],
      "text/plain": [
       "phi"
      ]
     },
     "execution_count": 16,
     "metadata": {},
     "output_type": "execute_result"
    }
   ],
   "source": [
    "phi_ = symbols('phi', rea=True); phi_"
   ]
  },
  {
   "cell_type": "code",
   "execution_count": 27,
   "metadata": {},
   "outputs": [
    {
     "data": {
      "text/latex": [
       "$\\displaystyle \\sin{\\left(\\phi \\right)} {\\left|0\\right\\rangle } + \\cos{\\left(\\phi \\right)} {\\left|1\\right\\rangle }$"
      ],
      "text/plain": [
       "sin(phi)*|0> + cos(phi)*|1>"
      ]
     },
     "execution_count": 27,
     "metadata": {},
     "output_type": "execute_result"
    }
   ],
   "source": [
    "phi = cos(phi_)  * H + sin(phi_) * V; phi"
   ]
  },
  {
   "cell_type": "code",
   "execution_count": 28,
   "metadata": {},
   "outputs": [
    {
     "data": {
      "text/latex": [
       "$\\displaystyle - \\sin{\\left(\\phi \\right)} {\\left|1\\right\\rangle } + \\cos{\\left(\\phi \\right)} {\\left|0\\right\\rangle }$"
      ],
      "text/plain": [
       "-sin(phi)*|1> + cos(phi)*|0>"
      ]
     },
     "execution_count": 28,
     "metadata": {},
     "output_type": "execute_result"
    }
   ],
   "source": [
    "phi_plus_pi_2 = cos(phi_ + pi/2)  * H + sin(phi_+pi/2) * V; phi_plus_pi_2"
   ]
  },
  {
   "cell_type": "code",
   "execution_count": 29,
   "metadata": {},
   "outputs": [
    {
     "data": {
      "text/latex": [
       "$\\displaystyle \\left(\\sin{\\left(\\phi \\right)} {\\left|0\\right\\rangle } + \\cos{\\left(\\phi \\right)} {\\left|1\\right\\rangle }\\right) \\left(\\operatorname{transpose}{\\left(\\sin{\\left(\\overline{\\phi} \\right)} \\right)} {\\left\\langle 0\\right|} + \\operatorname{transpose}{\\left(\\cos{\\left(\\overline{\\phi} \\right)} \\right)} {\\left\\langle 1\\right|}\\right)$"
      ],
      "text/plain": [
       "(sin(phi)*|0> + cos(phi)*|1>)*(transpose(sin(conjugate(phi)))*<0| + transpose(cos(conjugate(phi)))*<1|)"
      ]
     },
     "execution_count": 29,
     "metadata": {},
     "output_type": "execute_result"
    }
   ],
   "source": [
    "phi*Dagger(phi)"
   ]
  },
  {
   "cell_type": "code",
   "execution_count": 30,
   "metadata": {},
   "outputs": [
    {
     "data": {
      "text/latex": [
       "$\\displaystyle \\left(- \\sin{\\left(\\phi \\right)} {\\left|1\\right\\rangle } + \\cos{\\left(\\phi \\right)} {\\left|0\\right\\rangle }\\right) \\left(- \\operatorname{transpose}{\\left(\\sin{\\left(\\overline{\\phi} \\right)} \\right)} {\\left\\langle 1\\right|} + \\operatorname{transpose}{\\left(\\cos{\\left(\\overline{\\phi} \\right)} \\right)} {\\left\\langle 0\\right|}\\right)$"
      ],
      "text/plain": [
       "(-sin(phi)*|1> + cos(phi)*|0>)*(-transpose(sin(conjugate(phi)))*<1| + transpose(cos(conjugate(phi)))*<0|)"
      ]
     },
     "execution_count": 30,
     "metadata": {},
     "output_type": "execute_result"
    }
   ],
   "source": [
    "phi_plus_pi_2*Dagger(phi_plus_pi_2)"
   ]
  },
  {
   "cell_type": "code",
   "execution_count": 25,
   "metadata": {},
   "outputs": [
    {
     "data": {
      "text/latex": [
       "$\\displaystyle \\left(\\sin{\\left(\\phi \\right)} {\\left|0\\right\\rangle } + \\cos{\\left(\\phi \\right)} {\\left|1\\right\\rangle }\\right) \\left(\\operatorname{transpose}{\\left(\\sin{\\left(\\overline{\\phi} \\right)} \\right)} {\\left\\langle 0\\right|} + \\operatorname{transpose}{\\left(\\cos{\\left(\\overline{\\phi} \\right)} \\right)} {\\left\\langle 1\\right|}\\right) - \\left(- \\sin{\\left(\\phi \\right)} {\\left|1\\right\\rangle } + \\cos{\\left(\\phi \\right)} {\\left|0\\right\\rangle }\\right) \\left(- \\operatorname{transpose}{\\left(\\sin{\\left(\\overline{\\phi} \\right)} \\right)} {\\left\\langle 1\\right|} + \\operatorname{transpose}{\\left(\\cos{\\left(\\overline{\\phi} \\right)} \\right)} {\\left\\langle 0\\right|}\\right)$"
      ],
      "text/plain": [
       "(sin(phi)*|0> + cos(phi)*|1>)*(transpose(sin(conjugate(phi)))*<0| + transpose(cos(conjugate(phi)))*<1|) - (-sin(phi)*|1> + cos(phi)*|0>)*(-transpose(sin(conjugate(phi)))*<1| + transpose(cos(conjugate(phi)))*<0|)"
      ]
     },
     "execution_count": 25,
     "metadata": {},
     "output_type": "execute_result"
    }
   ],
   "source": [
    "б_phi = phi * Dagger(phi) - phi_plus_pi_2 * Dagger(phi_plus_pi_2); б_phi"
   ]
  },
  {
   "cell_type": "markdown",
   "metadata": {},
   "source": [
    "## A"
   ]
  },
  {
   "cell_type": "code",
   "execution_count": 31,
   "metadata": {},
   "outputs": [
    {
     "data": {
      "text/latex": [
       "$\\displaystyle \\left(\\sin{\\left(\\phi \\right)} {\\left|0\\right\\rangle } + \\cos{\\left(\\phi \\right)} {\\left|1\\right\\rangle }\\right) \\left(\\operatorname{transpose}{\\left(\\sin{\\left(\\overline{\\phi} \\right)} \\right)} {\\left\\langle 0\\right|} + \\operatorname{transpose}{\\left(\\cos{\\left(\\overline{\\phi} \\right)} \\right)} {\\left\\langle 1\\right|}\\right) + \\left(- \\sin{\\left(\\phi \\right)} {\\left|1\\right\\rangle } + \\cos{\\left(\\phi \\right)} {\\left|0\\right\\rangle }\\right) \\left(- \\operatorname{transpose}{\\left(\\sin{\\left(\\overline{\\phi} \\right)} \\right)} {\\left\\langle 1\\right|} + \\operatorname{transpose}{\\left(\\cos{\\left(\\overline{\\phi} \\right)} \\right)} {\\left\\langle 0\\right|}\\right)$"
      ],
      "text/plain": [
       "(sin(phi)*|0> + cos(phi)*|1>)*(transpose(sin(conjugate(phi)))*<0| + transpose(cos(conjugate(phi)))*<1|) + (-sin(phi)*|1> + cos(phi)*|0>)*(-transpose(sin(conjugate(phi)))*<1| + transpose(cos(conjugate(phi)))*<0|)"
      ]
     },
     "execution_count": 31,
     "metadata": {},
     "output_type": "execute_result"
    }
   ],
   "source": [
    "phi*Dagger(phi) + phi_plus_pi_2*Dagger(phi_plus_pi_2)"
   ]
  },
  {
   "cell_type": "markdown",
   "metadata": {},
   "source": [
    "## B"
   ]
  },
  {
   "cell_type": "code",
   "execution_count": 32,
   "metadata": {},
   "outputs": [
    {
     "data": {
      "text/latex": [
       "$\\displaystyle \\left[\\begin{matrix}1 & \\sin{\\left(2 \\phi \\right)}\\\\0 & \\cos{\\left(2 \\phi \\right)}\\end{matrix}\\right]$"
      ],
      "text/plain": [
       "Matrix([\n",
       "[1, sin(2*phi)],\n",
       "[0, cos(2*phi)]])"
      ]
     },
     "execution_count": 32,
     "metadata": {},
     "output_type": "execute_result"
    }
   ],
   "source": [
    "canonical = Matrix([[1, sin(2*phi_)], [0, cos(2*phi_)]]); canonical"
   ]
  },
  {
   "cell_type": "code",
   "execution_count": 43,
   "metadata": {},
   "outputs": [
    {
     "data": {
      "text/latex": [
       "$\\displaystyle \\left[\\begin{matrix}1\\\\\\sin{\\left(2 \\phi \\right)}\\\\0\\\\\\cos{\\left(2 \\phi \\right)}\\end{matrix}\\right]$"
      ],
      "text/plain": [
       "Matrix([\n",
       "[         1],\n",
       "[sin(2*phi)],\n",
       "[         0],\n",
       "[cos(2*phi)]])"
      ]
     },
     "execution_count": 43,
     "metadata": {},
     "output_type": "execute_result"
    }
   ],
   "source": [
    "canonical_4 = canonical.reshape(4,1); canonical_4"
   ]
  },
  {
   "cell_type": "code",
   "execution_count": 44,
   "metadata": {},
   "outputs": [
    {
     "data": {
      "text/latex": [
       "$\\displaystyle \\left[\\begin{matrix}\\frac{\\sqrt{2}}{2} & \\frac{\\sqrt{2}}{2}\\\\\\frac{\\sqrt{2}}{2} & - \\frac{\\sqrt{2}}{2}\\end{matrix}\\right]$"
      ],
      "text/plain": [
       "Matrix([\n",
       "[sqrt(2)/2,  sqrt(2)/2],\n",
       "[sqrt(2)/2, -sqrt(2)/2]])"
      ]
     },
     "execution_count": 44,
     "metadata": {},
     "output_type": "execute_result"
    }
   ],
   "source": [
    "hadamard = Matrix([[1, 1], [1, -1]]) / sqrt(2); hadamard"
   ]
  },
  {
   "cell_type": "code",
   "execution_count": 47,
   "metadata": {},
   "outputs": [
    {
     "data": {
      "text/latex": [
       "$\\displaystyle \\left[\\begin{matrix}\\frac{1}{2} & \\frac{1}{2} & \\frac{1}{2} & \\frac{1}{2}\\\\\\frac{1}{2} & - \\frac{1}{2} & \\frac{1}{2} & - \\frac{1}{2}\\\\\\frac{1}{2} & \\frac{1}{2} & - \\frac{1}{2} & - \\frac{1}{2}\\\\\\frac{1}{2} & - \\frac{1}{2} & - \\frac{1}{2} & \\frac{1}{2}\\end{matrix}\\right]$"
      ],
      "text/plain": [
       "Matrix([\n",
       "[1/2,  1/2,  1/2,  1/2],\n",
       "[1/2, -1/2,  1/2, -1/2],\n",
       "[1/2,  1/2, -1/2, -1/2],\n",
       "[1/2, -1/2, -1/2,  1/2]])"
      ]
     },
     "execution_count": 47,
     "metadata": {},
     "output_type": "execute_result"
    }
   ],
   "source": [
    "hadamard_2 = TensorProduct(hadamard, hadamard); hadamard_2"
   ]
  },
  {
   "cell_type": "code",
   "execution_count": 50,
   "metadata": {},
   "outputs": [
    {
     "data": {
      "text/latex": [
       "$\\displaystyle \\left[\\begin{matrix}\\frac{\\sin{\\left(2 \\phi \\right)}}{2} + \\frac{\\cos{\\left(2 \\phi \\right)}}{2} + \\frac{1}{2} & - \\frac{\\sin{\\left(2 \\phi \\right)}}{2} - \\frac{\\cos{\\left(2 \\phi \\right)}}{2} + \\frac{1}{2}\\\\\\frac{\\sin{\\left(2 \\phi \\right)}}{2} - \\frac{\\cos{\\left(2 \\phi \\right)}}{2} + \\frac{1}{2} & - \\frac{\\sin{\\left(2 \\phi \\right)}}{2} + \\frac{\\cos{\\left(2 \\phi \\right)}}{2} + \\frac{1}{2}\\end{matrix}\\right]$"
      ],
      "text/plain": [
       "Matrix([\n",
       "[sin(2*phi)/2 + cos(2*phi)/2 + 1/2, -sin(2*phi)/2 - cos(2*phi)/2 + 1/2],\n",
       "[sin(2*phi)/2 - cos(2*phi)/2 + 1/2, -sin(2*phi)/2 + cos(2*phi)/2 + 1/2]])"
      ]
     },
     "execution_count": 50,
     "metadata": {},
     "output_type": "execute_result"
    }
   ],
   "source": [
    "bell_state = (hadamard_2 * canonical_4).reshape(2, 2); bell_state"
   ]
  },
  {
   "cell_type": "markdown",
   "metadata": {},
   "source": [
    "## C"
   ]
  },
  {
   "cell_type": "code",
   "execution_count": 70,
   "metadata": {},
   "outputs": [
    {
     "data": {
      "text/latex": [
       "$\\displaystyle \\cos{\\left(2 \\phi \\right)}$"
      ],
      "text/plain": [
       "cos(2*phi)"
      ]
     },
     "execution_count": 70,
     "metadata": {},
     "output_type": "execute_result"
    }
   ],
   "source": [
    "simplify(list(bell_state.eigenvals().keys())[0])"
   ]
  },
  {
   "cell_type": "code",
   "execution_count": 69,
   "metadata": {},
   "outputs": [
    {
     "data": {
      "text/latex": [
       "$\\displaystyle 1$"
      ],
      "text/plain": [
       "1"
      ]
     },
     "execution_count": 69,
     "metadata": {},
     "output_type": "execute_result"
    }
   ],
   "source": [
    "simplify(list(bell_state.eigenvals().keys())[1])"
   ]
  },
  {
   "cell_type": "code",
   "execution_count": 71,
   "metadata": {},
   "outputs": [
    {
     "data": {
      "text/latex": [
       "$\\displaystyle \\left[\\begin{matrix}\\frac{1}{\\tan{\\left(\\phi + \\frac{\\pi}{4} \\right)}}\\\\1\\end{matrix}\\right]$"
      ],
      "text/plain": [
       "Matrix([\n",
       "[1/tan(phi + pi/4)],\n",
       "[                1]])"
      ]
     },
     "execution_count": 71,
     "metadata": {},
     "output_type": "execute_result"
    }
   ],
   "source": [
    "simplify(bell_state.eigenvects()[0][2][0])"
   ]
  },
  {
   "cell_type": "code",
   "execution_count": 72,
   "metadata": {},
   "outputs": [
    {
     "data": {
      "text/latex": [
       "$\\displaystyle \\left[\\begin{matrix}1\\\\1\\end{matrix}\\right]$"
      ],
      "text/plain": [
       "Matrix([\n",
       "[1],\n",
       "[1]])"
      ]
     },
     "execution_count": 72,
     "metadata": {},
     "output_type": "execute_result"
    }
   ],
   "source": [
    "simplify(bell_state.eigenvects()[1][2][0])"
   ]
  },
  {
   "cell_type": "markdown",
   "metadata": {},
   "source": [
    "## D"
   ]
  },
  {
   "cell_type": "code",
   "execution_count": 55,
   "metadata": {},
   "outputs": [
    {
     "data": {
      "text/latex": [
       "$\\displaystyle \\left[\\begin{matrix}0 & \\frac{\\sqrt{2}}{2}\\\\- \\frac{\\sqrt{2}}{2} & 0\\end{matrix}\\right]$"
      ],
      "text/plain": [
       "Matrix([\n",
       "[         0, sqrt(2)/2],\n",
       "[-sqrt(2)/2,         0]])"
      ]
     },
     "execution_count": 55,
     "metadata": {},
     "output_type": "execute_result"
    }
   ],
   "source": [
    "psi_minus = Matrix([[0, 1], [-1, 0]]) / sqrt(2); psi_minus"
   ]
  },
  {
   "cell_type": "code",
   "execution_count": 74,
   "metadata": {},
   "outputs": [
    {
     "data": {
      "text/latex": [
       "$\\displaystyle \\left[\\begin{matrix}\\frac{\\sqrt{2} \\cos{\\left(2 \\phi + \\frac{\\pi}{4} \\right)}}{4} + \\frac{1}{4} & \\frac{\\sqrt{2} \\cos{\\left(2 \\phi + \\frac{\\pi}{4} \\right)}}{4} - \\frac{1}{4}\\\\\\frac{\\sqrt{2} \\sin{\\left(2 \\phi + \\frac{\\pi}{4} \\right)}}{4} - \\frac{1}{4} & \\frac{\\sqrt{2} \\sin{\\left(2 \\phi + \\frac{\\pi}{4} \\right)}}{4} + \\frac{1}{4}\\end{matrix}\\right]$"
      ],
      "text/plain": [
       "Matrix([\n",
       "[sqrt(2)*cos(2*phi + pi/4)/4 + 1/4, sqrt(2)*cos(2*phi + pi/4)/4 - 1/4],\n",
       "[sqrt(2)*sin(2*phi + pi/4)/4 - 1/4, sqrt(2)*sin(2*phi + pi/4)/4 + 1/4]])"
      ]
     },
     "execution_count": 74,
     "metadata": {},
     "output_type": "execute_result"
    }
   ],
   "source": [
    "mean = Dagger(psi_minus) @ bell_state @ psi_minus; simplify(mean)"
   ]
  },
  {
   "cell_type": "code",
   "execution_count": 75,
   "metadata": {},
   "outputs": [
    {
     "data": {
      "text/latex": [
       "$\\displaystyle \\left[\\begin{matrix}- \\frac{3 \\sin{\\left(2 \\phi \\right)}}{8} + \\frac{\\cos{\\left(2 \\phi \\right)}}{8} + \\frac{1}{8} & - \\frac{\\sin{\\left(2 \\phi \\right)}}{8} + \\frac{3 \\cos{\\left(2 \\phi \\right)}}{8} - \\frac{3}{8}\\\\\\frac{\\sin{\\left(2 \\phi \\right)}}{8} + \\frac{3 \\cos{\\left(2 \\phi \\right)}}{8} - \\frac{3}{8} & \\frac{3 \\sin{\\left(2 \\phi \\right)}}{8} + \\frac{\\cos{\\left(2 \\phi \\right)}}{8} + \\frac{1}{8}\\end{matrix}\\right]$"
      ],
      "text/plain": [
       "Matrix([\n",
       "[-3*sin(2*phi)/8 + cos(2*phi)/8 + 1/8, -sin(2*phi)/8 + 3*cos(2*phi)/8 - 3/8],\n",
       "[ sin(2*phi)/8 + 3*cos(2*phi)/8 - 3/8,  3*sin(2*phi)/8 + cos(2*phi)/8 + 1/8]])"
      ]
     },
     "execution_count": 75,
     "metadata": {},
     "output_type": "execute_result"
    }
   ],
   "source": [
    "dispersion = Dagger(psi_minus) @ (bell_state-mean) @ psi_minus; simplify(dispersion)"
   ]
  },
  {
   "cell_type": "code",
   "execution_count": null,
   "metadata": {},
   "outputs": [],
   "source": []
  }
 ],
 "metadata": {
  "kernelspec": {
   "display_name": "quantum",
   "language": "python",
   "name": "python3"
  },
  "language_info": {
   "codemirror_mode": {
    "name": "ipython",
    "version": 3
   },
   "file_extension": ".py",
   "mimetype": "text/x-python",
   "name": "python",
   "nbconvert_exporter": "python",
   "pygments_lexer": "ipython3",
   "version": "3.11.5"
  }
 },
 "nbformat": 4,
 "nbformat_minor": 2
}
