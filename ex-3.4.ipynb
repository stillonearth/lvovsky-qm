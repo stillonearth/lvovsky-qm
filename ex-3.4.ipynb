{
  "cells": [
    {
      "cell_type": "code",
      "execution_count": 5,
      "metadata": {
        "id": "rIvGvjPVhky2"
      },
      "outputs": [],
      "source": [
        "from sympy import *\n",
        "from sympy import init_printing\n",
        "from sympy.physics.quantum import Dagger\n",
        "\n",
        "init_printing(use_latex=\"mathjax\")"
      ]
    },
    {
      "cell_type": "code",
      "execution_count": 70,
      "metadata": {
        "id": "B-dfYJNxhpYv"
      },
      "outputs": [],
      "source": [
        "V0, x, E, M, h_hat = symbols(\"V0, x, E, M, h_hat\")\n",
        "a, x = symbols(\"a, x\", real=True)"
      ]
    },
    {
      "cell_type": "code",
      "execution_count": 43,
      "metadata": {},
      "outputs": [
        {
          "data": {
            "text/latex": [
              "$\\displaystyle \\begin{cases} V_{0} & \\text{for}\\: \\left|{x}\\right| > \\frac{a}{2} \\\\0 & \\text{otherwise} \\end{cases}$"
            ],
            "text/plain": [
              "⎧              a\n",
              "⎪V₀  for │x│ > ─\n",
              "⎨              2\n",
              "⎪               \n",
              "⎩0    otherwise "
            ]
          },
          "execution_count": 43,
          "metadata": {},
          "output_type": "execute_result"
        }
      ],
      "source": [
        "# V\n",
        "V = Piecewise((V0, abs(x) > a/2), (0, (abs(x) <= a/2)))\n",
        "V"
      ]
    },
    {
      "cell_type": "code",
      "execution_count": 44,
      "metadata": {},
      "outputs": [
        {
          "data": {
            "text/latex": [
              "$\\displaystyle \\frac{2 \\sqrt{3}}{a^{1.5}}$"
            ],
            "text/plain": [
              "      -1.5\n",
              "2⋅√3⋅a    "
            ]
          },
          "execution_count": 44,
          "metadata": {},
          "output_type": "execute_result"
        }
      ],
      "source": [
        "# Psi_x ; A\n",
        "A = 2 * sqrt(3) / a**(3./2); A"
      ]
    },
    {
      "cell_type": "code",
      "execution_count": 46,
      "metadata": {},
      "outputs": [
        {
          "data": {
            "text/latex": [
              "$\\displaystyle \\begin{cases} \\frac{2 \\sqrt{3} x}{a^{1.5}} & \\text{for}\\: \\left|{x}\\right| < \\frac{a}{2} \\\\0 & \\text{otherwise} \\end{cases}$"
            ],
            "text/plain": [
              "⎧      -1.5              a\n",
              "⎪2⋅√3⋅a    ⋅x  for │x│ < ─\n",
              "⎨                        2\n",
              "⎪                         \n",
              "⎩     0         otherwise "
            ]
          },
          "execution_count": 46,
          "metadata": {},
          "output_type": "execute_result"
        }
      ],
      "source": [
        "# Psi_x ; A\n",
        "Psi_x = Piecewise((A*x, abs(x) < a/2), (0, (abs(x) >= a/2))); Psi_x"
      ]
    },
    {
      "cell_type": "code",
      "execution_count": 60,
      "metadata": {},
      "outputs": [
        {
          "data": {
            "text/latex": [
              "$\\displaystyle - E \\left(\\begin{cases} \\frac{2 \\sqrt{3} x}{a^{1.5}} & \\text{for}\\: \\left|{x}\\right| < \\frac{a}{2} \\\\0 & \\text{otherwise} \\end{cases}\\right) + \\left(\\begin{cases} V_{0} & \\text{for}\\: \\left|{x}\\right| > \\frac{a}{2} \\\\0 & \\text{otherwise} \\end{cases}\\right) \\left(\\begin{cases} \\frac{2 \\sqrt{3} x}{a^{1.5}} & \\text{for}\\: \\left|{x}\\right| < \\frac{a}{2} \\\\0 & \\text{otherwise} \\end{cases}\\right)$"
            ],
            "text/plain": [
              "    ⎛⎧      -1.5              a⎞   ⎛⎧              a⎞ ⎛⎧      -1.5            \n",
              "    ⎜⎪2⋅√3⋅a    ⋅x  for │x│ < ─⎟   ⎜⎪V₀  for │x│ > ─⎟ ⎜⎪2⋅√3⋅a    ⋅x  for │x│ \n",
              "- E⋅⎜⎨                        2⎟ + ⎜⎨              2⎟⋅⎜⎨                      \n",
              "    ⎜⎪                         ⎟   ⎜⎪               ⎟ ⎜⎪                      \n",
              "    ⎝⎩     0         otherwise ⎠   ⎝⎩0    otherwise ⎠ ⎝⎩     0         otherwi\n",
              "\n",
              "  a⎞\n",
              "< ─⎟\n",
              "  2⎟\n",
              "   ⎟\n",
              "se ⎠"
            ]
          },
          "execution_count": 60,
          "metadata": {},
          "output_type": "execute_result"
        }
      ],
      "source": [
        "# Shrodinger Equation\n",
        "\n",
        "equation = V * Psi_x - E * Psi_x;\n",
        "equation"
      ]
    },
    {
      "cell_type": "code",
      "execution_count": 63,
      "metadata": {},
      "outputs": [
        {
          "data": {
            "text/latex": [
              "$\\displaystyle \\begin{cases} 0 & \\text{for}\\: \\left|{x}\\right| > \\frac{a}{2} \\\\- \\frac{2 \\sqrt{3} E x}{a^{1.5}} & \\text{for}\\: \\left|{x}\\right| < \\frac{a}{2} \\\\0 & \\text{otherwise} \\end{cases}$"
            ],
            "text/plain": [
              "⎧                           a\n",
              "⎪       0         for │x│ > ─\n",
              "⎪                           2\n",
              "⎪                            \n",
              "⎨         -1.5              a\n",
              "⎪-2⋅√3⋅E⋅a    ⋅x  for │x│ < ─\n",
              "⎪                           2\n",
              "⎪                            \n",
              "⎩       0          otherwise "
            ]
          },
          "execution_count": 63,
          "metadata": {},
          "output_type": "execute_result"
        }
      ],
      "source": [
        "equation = simplify(equation);\n",
        "equation "
      ]
    },
    {
      "cell_type": "code",
      "execution_count": 65,
      "metadata": {},
      "outputs": [
        {
          "data": {
            "text/latex": [
              "$\\displaystyle \\frac{2 \\sqrt{3} E x}{a^{1.5}}$"
            ],
            "text/plain": [
              "        -1.5  \n",
              "2⋅√3⋅E⋅a    ⋅x"
            ]
          },
          "execution_count": 65,
          "metadata": {},
          "output_type": "execute_result"
        }
      ],
      "source": [
        "# solve only nonzero part\n",
        "equation_nonzero = A * E * x; equation_nonzero"
      ]
    },
    {
      "cell_type": "code",
      "execution_count": 66,
      "metadata": {},
      "outputs": [
        {
          "data": {
            "text/latex": [
              "$\\displaystyle \\left[ 0.0\\right]$"
            ],
            "text/plain": [
              "[0.0]"
            ]
          },
          "execution_count": 66,
          "metadata": {},
          "output_type": "execute_result"
        }
      ],
      "source": [
        "solutions = solve(equation_nonzero, E); solutions"
      ]
    },
    {
      "cell_type": "code",
      "execution_count": 74,
      "metadata": {},
      "outputs": [],
      "source": [
        "# odd\n",
        "n = symbols(\"n\", integer=True, positive=True)"
      ]
    },
    {
      "cell_type": "code",
      "execution_count": 76,
      "metadata": {},
      "outputs": [
        {
          "data": {
            "text/latex": [
              "$\\displaystyle \\sqrt{2} \\sqrt{\\frac{1}{a}} \\cos{\\left(\\frac{\\pi n x}{a} \\right)}$"
            ],
            "text/plain": [
              "       ___           \n",
              "      ╱ 1     ⎛π⋅n⋅x⎞\n",
              "√2⋅  ╱  ─ ⋅cos⎜─────⎟\n",
              "   ╲╱   a     ⎝  a  ⎠"
            ]
          },
          "execution_count": 76,
          "metadata": {},
          "output_type": "execute_result"
        }
      ],
      "source": [
        "psi_odd = sqrt(2 / a) * cos (pi*n*x/a); psi_odd"
      ]
    },
    {
      "cell_type": "code",
      "execution_count": 78,
      "metadata": {},
      "outputs": [
        {
          "data": {
            "text/latex": [
              "$\\displaystyle 0$"
            ],
            "text/plain": [
              "0"
            ]
          },
          "execution_count": 78,
          "metadata": {},
          "output_type": "execute_result"
        }
      ],
      "source": [
        "c_n_odd = integrate(psi_odd * A * x, (x, -a/2, a/2)); c_n_odd"
      ]
    },
    {
      "cell_type": "code",
      "execution_count": 79,
      "metadata": {},
      "outputs": [
        {
          "data": {
            "text/latex": [
              "$\\displaystyle \\sqrt{2} \\sqrt{\\frac{1}{a}} \\sin{\\left(\\frac{\\pi n x}{a} \\right)}$"
            ],
            "text/plain": [
              "       ___           \n",
              "      ╱ 1     ⎛π⋅n⋅x⎞\n",
              "√2⋅  ╱  ─ ⋅sin⎜─────⎟\n",
              "   ╲╱   a     ⎝  a  ⎠"
            ]
          },
          "execution_count": 79,
          "metadata": {},
          "output_type": "execute_result"
        }
      ],
      "source": [
        "# even\n",
        "psi_even = sqrt(2 / a) * sin (pi*n*x/a); psi_even"
      ]
    },
    {
      "cell_type": "code",
      "execution_count": 81,
      "metadata": {},
      "outputs": [
        {
          "data": {
            "text/latex": [
              "$\\displaystyle \\frac{2 \\sqrt{6} a^{0.5} \\left(- \\pi n \\cos{\\left(\\frac{\\pi n}{2} \\right)} + 2 \\sin{\\left(\\frac{\\pi n}{2} \\right)}\\right) \\sqrt{\\frac{1}{a}}}{\\pi^{2} n^{2}}$"
            ],
            "text/plain": [
              "                                            ___\n",
              "      0.5 ⎛         ⎛π⋅n⎞        ⎛π⋅n⎞⎞    ╱ 1 \n",
              "2⋅√6⋅a   ⋅⎜- π⋅n⋅cos⎜───⎟ + 2⋅sin⎜───⎟⎟⋅  ╱  ─ \n",
              "          ⎝         ⎝ 2 ⎠        ⎝ 2 ⎠⎠ ╲╱   a \n",
              "───────────────────────────────────────────────\n",
              "                      2  2                     \n",
              "                     π ⋅n                      "
            ]
          },
          "execution_count": 81,
          "metadata": {},
          "output_type": "execute_result"
        }
      ],
      "source": [
        "c_n_even = simplify(integrate(psi_even * A * x, (x, -a/2, a/2))); c_n_even"
      ]
    },
    {
      "cell_type": "code",
      "execution_count": 93,
      "metadata": {},
      "outputs": [
        {
          "data": {
            "text/latex": [
              "$\\displaystyle \\frac{2 \\sqrt{6} \\left|{a^{0.5} \\left(\\pi n \\cos{\\left(\\frac{\\pi n}{2} \\right)} - 2 \\sin{\\left(\\frac{\\pi n}{2} \\right)}\\right) \\sqrt{\\frac{1}{a}}}\\right|}{\\pi^{2} n^{2}}$"
            ],
            "text/plain": [
              "     │                                     ___│\n",
              "     │ 0.5 ⎛       ⎛π⋅n⎞        ⎛π⋅n⎞⎞    ╱ 1 │\n",
              "2⋅√6⋅│a   ⋅⎜π⋅n⋅cos⎜───⎟ - 2⋅sin⎜───⎟⎟⋅  ╱  ─ │\n",
              "     │     ⎝       ⎝ 2 ⎠        ⎝ 2 ⎠⎠ ╲╱   a │\n",
              "───────────────────────────────────────────────\n",
              "                      2  2                     \n",
              "                     π ⋅n                      "
            ]
          },
          "execution_count": 93,
          "metadata": {},
          "output_type": "execute_result"
        }
      ],
      "source": [
        "# probabilty to find n particle in the box\n",
        "\n",
        "P_n = simplify(abs(c_n_even)); P_n"
      ]
    },
    {
      "cell_type": "code",
      "execution_count": 94,
      "metadata": {},
      "outputs": [
        {
          "data": {
            "text/latex": [
              "$\\displaystyle \\frac{2 \\sqrt{6} \\sum_{n=1}^{\\infty} \\frac{\\left|{a^{0.5} \\left(\\pi n \\cos{\\left(\\frac{\\pi n}{2} \\right)} - 2 \\sin{\\left(\\frac{\\pi n}{2} \\right)}\\right) \\sqrt{\\frac{1}{a}}}\\right|}{n^{2}}}{\\pi^{2}}$"
            ],
            "text/plain": [
              "       ∞                                              \n",
              "     ______                                           \n",
              "     ╲                                                \n",
              "      ╲                                               \n",
              "       ╲    │                                     ___│\n",
              "        ╲   │ 0.5 ⎛       ⎛π⋅n⎞        ⎛π⋅n⎞⎞    ╱ 1 │\n",
              "         ╲  │a   ⋅⎜π⋅n⋅cos⎜───⎟ - 2⋅sin⎜───⎟⎟⋅  ╱  ─ │\n",
              "2⋅√6⋅    ╱  │     ⎝       ⎝ 2 ⎠        ⎝ 2 ⎠⎠ ╲╱   a │\n",
              "        ╱   ──────────────────────────────────────────\n",
              "       ╱                         2                    \n",
              "      ╱                         n                     \n",
              "     ╱                                                \n",
              "     ‾‾‾‾‾‾                                           \n",
              "     n = 1                                            \n",
              "──────────────────────────────────────────────────────\n",
              "                           2                          \n",
              "                          π                           "
            ]
          },
          "execution_count": 94,
          "metadata": {},
          "output_type": "execute_result"
        }
      ],
      "source": [
        "# check total probability is one\n",
        "\n",
        "P_total = simplify(summation(P_n, (n, 1, oo))); P_total"
      ]
    },
    {
      "cell_type": "code",
      "execution_count": 96,
      "metadata": {},
      "outputs": [],
      "source": [
        "# P_total should --> 1"
      ]
    }
  ],
  "metadata": {
    "colab": {
      "provenance": []
    },
    "kernelspec": {
      "display_name": "Python 3",
      "name": "python3"
    },
    "language_info": {
      "codemirror_mode": {
        "name": "ipython",
        "version": 3
      },
      "file_extension": ".py",
      "mimetype": "text/x-python",
      "name": "python",
      "nbconvert_exporter": "python",
      "pygments_lexer": "ipython3",
      "version": "3.11.9"
    }
  },
  "nbformat": 4,
  "nbformat_minor": 0
}
