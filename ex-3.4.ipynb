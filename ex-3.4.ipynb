{
  "cells": [
    {
      "cell_type": "markdown",
      "metadata": {},
      "source": [
        "Основная идея состоит в том чтобы представить волновую функцию, как собственную волновую фукнцию. (упр 3.39).\n",
        "Далее мы можем спроецировать волновую функцию на собственную через формулу integrate(conjugate(eigen_psi(x) * psi(x) dx от 0 до a/2\n",
        "Получим c_n который есть вероятность нахождения частицы в энергетическом состоянии с n\n",
        "Сами значения энергии в упр 3.39"
      ]
    },
    {
      "cell_type": "code",
      "execution_count": 18,
      "metadata": {
        "id": "rIvGvjPVhky2"
      },
      "outputs": [],
      "source": [
        "from sympy import *\n",
        "from sympy import init_printing\n",
        "from sympy.physics.quantum import Dagger\n",
        "\n",
        "init_printing(use_latex=\"mathjax\")"
      ]
    },
    {
      "cell_type": "code",
      "execution_count": 22,
      "metadata": {
        "id": "B-dfYJNxhpYv"
      },
      "outputs": [],
      "source": [
        "V0, x, E, M, h_hat = symbols(\"V0, x, E, M, h_hat\")\n",
        "a, x, t = symbols(\"a, x, t\", real=True)"
      ]
    },
    {
      "cell_type": "code",
      "execution_count": 23,
      "metadata": {},
      "outputs": [],
      "source": [
        "E = h_hat**2 * pi**2 * n**2 / (2 * M * a**2)"
      ]
    },
    {
      "cell_type": "code",
      "execution_count": 25,
      "metadata": {},
      "outputs": [
        {
          "data": {
            "text/latex": [
              "$\\displaystyle e^{- \\frac{i \\pi^{2} h_{hat} n^{2} t}{2 M a^{2}}}$"
            ],
            "text/plain": [
              "     2       2   \n",
              " -ⅈ⋅π ⋅hₕₐₜ⋅n ⋅t \n",
              " ────────────────\n",
              "           2     \n",
              "      2⋅M⋅a      \n",
              "ℯ                "
            ]
          },
          "execution_count": 25,
          "metadata": {},
          "output_type": "execute_result"
        }
      ],
      "source": [
        "period_f = exp(-I*E*t/h_hat); period_f"
      ]
    },
    {
      "cell_type": "code",
      "execution_count": 26,
      "metadata": {},
      "outputs": [
        {
          "data": {
            "text/latex": [
              "$\\displaystyle \\frac{4 M a^{2}}{\\pi h_{hat}}$"
            ],
            "text/plain": [
              "     2\n",
              "4⋅M⋅a \n",
              "──────\n",
              "π⋅hₕₐₜ"
            ]
          },
          "execution_count": 26,
          "metadata": {},
          "output_type": "execute_result"
        }
      ],
      "source": [
        "t_period = 4 * M * a**2 / (pi * h_hat); t_period"
      ]
    },
    {
      "cell_type": "code",
      "execution_count": 27,
      "metadata": {},
      "outputs": [
        {
          "data": {
            "text/latex": [
              "$\\displaystyle 1$"
            ],
            "text/plain": [
              "1"
            ]
          },
          "execution_count": 27,
          "metadata": {},
          "output_type": "execute_result"
        }
      ],
      "source": [
        "period_f.subs(t, 0)"
      ]
    },
    {
      "cell_type": "code",
      "execution_count": 28,
      "metadata": {},
      "outputs": [
        {
          "data": {
            "text/latex": [
              "$\\displaystyle 1$"
            ],
            "text/plain": [
              "1"
            ]
          },
          "execution_count": 28,
          "metadata": {},
          "output_type": "execute_result"
        }
      ],
      "source": [
        "period_f.subs(t, t_period)"
      ]
    },
    {
      "cell_type": "code",
      "execution_count": null,
      "metadata": {},
      "outputs": [],
      "source": [
        "# чтд"
      ]
    }
  ],
  "metadata": {
    "colab": {
      "provenance": []
    },
    "kernelspec": {
      "display_name": "Python 3",
      "name": "python3"
    },
    "language_info": {
      "codemirror_mode": {
        "name": "ipython",
        "version": 3
      },
      "file_extension": ".py",
      "mimetype": "text/x-python",
      "name": "python",
      "nbconvert_exporter": "python",
      "pygments_lexer": "ipython3",
      "version": "3.11.9"
    }
  },
  "nbformat": 4,
  "nbformat_minor": 0
}
