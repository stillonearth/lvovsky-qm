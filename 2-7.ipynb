{
 "cells": [
  {
   "cell_type": "code",
   "execution_count": 4,
   "metadata": {},
   "outputs": [],
   "source": [
    "from sympy import *\n",
    "from sympy.physics.quantum import *"
   ]
  },
  {
   "cell_type": "code",
   "execution_count": 5,
   "metadata": {},
   "outputs": [],
   "source": [
    "init_printing(use_unicode=True)"
   ]
  },
  {
   "cell_type": "code",
   "execution_count": 6,
   "metadata": {},
   "outputs": [
    {
     "data": {
      "image/png": "[encoded data removed]",
      "text/latex": [
       "$\\displaystyle \\frac{\\sqrt{2} \\left({\\left|01\\right\\rangle } + {\\left|10\\right\\rangle }\\right)}{2}$"
      ],
      "text/plain": [
       "√2⋅(❘01⟩ + ❘10⟩)\n",
       "────────────────\n",
       "       2        "
      ]
     },
     "execution_count": 6,
     "metadata": {},
     "output_type": "execute_result"
    }
   ],
   "source": [
    "psi_plus = 1/sqrt(2)*(Qubit('01') + Qubit('10')); psi_plus"
   ]
  },
  {
   "cell_type": "code",
   "execution_count": 7,
   "metadata": {},
   "outputs": [
    {
     "data": {
      "image/png": "[encoded data removed]",
      "text/latex": [
       "$\\displaystyle \\frac{\\sqrt{2} \\left({\\left|01\\right\\rangle } - {\\left|10\\right\\rangle }\\right)}{2}$"
      ],
      "text/plain": [
       "√2⋅(❘01⟩ - ❘10⟩)\n",
       "────────────────\n",
       "       2        "
      ]
     },
     "execution_count": 7,
     "metadata": {},
     "output_type": "execute_result"
    }
   ],
   "source": [
    "psi_minus = 1/sqrt(2)*(Qubit('01') - Qubit('10')); psi_minus"
   ]
  },
  {
   "cell_type": "code",
   "execution_count": 8,
   "metadata": {},
   "outputs": [
    {
     "data": {
      "image/png": "[encoded data removed]",
      "text/latex": [
       "$\\displaystyle \\frac{\\sqrt{2} \\left({\\left|00\\right\\rangle } + {\\left|11\\right\\rangle }\\right)}{2}$"
      ],
      "text/plain": [
       "√2⋅(❘00⟩ + ❘11⟩)\n",
       "────────────────\n",
       "       2        "
      ]
     },
     "execution_count": 8,
     "metadata": {},
     "output_type": "execute_result"
    }
   ],
   "source": [
    "phi_plus = 1/sqrt(2)*(Qubit('00') + Qubit('11')); phi_plus"
   ]
  },
  {
   "cell_type": "code",
   "execution_count": 9,
   "metadata": {},
   "outputs": [
    {
     "data": {
      "image/png": "[encoded data removed]",
      "text/latex": [
       "$\\displaystyle \\frac{\\sqrt{2} \\left({\\left|00\\right\\rangle } - {\\left|11\\right\\rangle }\\right)}{2}$"
      ],
      "text/plain": [
       "√2⋅(❘00⟩ - ❘11⟩)\n",
       "────────────────\n",
       "       2        "
      ]
     },
     "execution_count": 9,
     "metadata": {},
     "output_type": "execute_result"
    }
   ],
   "source": [
    "phi_minus = 1/sqrt(2)*(Qubit('00') - Qubit('11')); phi_minus"
   ]
  },
  {
   "cell_type": "markdown",
   "metadata": {},
   "source": [
    "Check whether all of them orthogonal"
   ]
  },
  {
   "cell_type": "code",
   "execution_count": 10,
   "metadata": {},
   "outputs": [],
   "source": [
    "quantum_states = [psi_plus, psi_minus, phi_plus, phi_minus]"
   ]
  },
  {
   "cell_type": "code",
   "execution_count": 13,
   "metadata": {},
   "outputs": [
    {
     "name": "stdout",
     "output_type": "stream",
     "text": [
      "(0, 1) = 0\n",
      "(0, 2) = 0\n",
      "(0, 3) = 0\n",
      "(1, 0) = 0\n",
      "(1, 2) = 0\n",
      "(1, 3) = 0\n",
      "(2, 0) = 0\n",
      "(2, 1) = 0\n",
      "(2, 3) = 0\n",
      "(3, 0) = 0\n",
      "(3, 1) = 0\n",
      "(3, 2) = 0\n"
     ]
    }
   ],
   "source": [
    "for i in range(0, 4):\n",
    "    for j in range(0, 4):\n",
    "        if i == j: continue\n",
    "        # if i < j: continue\n",
    "        state_1 = quantum_states[i]\n",
    "        state_2 = quantum_states[j]\n",
    "        print('(%s, %s) = %s' % (i, j, qapply((Dagger(state_1)*state_2))))"
   ]
  },
  {
   "cell_type": "markdown",
   "metadata": {},
   "source": [
    "Check norm"
   ]
  },
  {
   "cell_type": "code",
   "execution_count": 14,
   "metadata": {},
   "outputs": [
    {
     "name": "stdout",
     "output_type": "stream",
     "text": [
      "(0, 0) = 1\n",
      "(1, 1) = 1\n",
      "(2, 2) = 1\n",
      "(3, 3) = 1\n"
     ]
    }
   ],
   "source": [
    "for i in range(0, 4):\n",
    "    for j in range(0, 4):\n",
    "        if i != j: continue\n",
    "        # if i < j: continue\n",
    "        state_1 = quantum_states[i]\n",
    "        state_2 = quantum_states[j]\n",
    "        print('(%s, %s) = %s' % (i, j, qapply((Dagger(state_1)*state_2))))"
   ]
  },
  {
   "cell_type": "code",
   "execution_count": null,
   "metadata": {},
   "outputs": [],
   "source": []
  }
 ],
 "metadata": {
  "kernelspec": {
   "display_name": "jax",
   "language": "python",
   "name": "python3"
  },
  "language_info": {
   "codemirror_mode": {
    "name": "ipython",
    "version": 3
   },
   "file_extension": ".py",
   "mimetype": "text/x-python",
   "name": "python",
   "nbconvert_exporter": "python",
   "pygments_lexer": "ipython3",
   "version": "3.10.12"
  },
  "orig_nbformat": 4
 },
 "nbformat": 4,
 "nbformat_minor": 2
}
