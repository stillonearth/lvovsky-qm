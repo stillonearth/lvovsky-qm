{
 "cells": [
  {
   "cell_type": "code",
   "execution_count": 38,
   "metadata": {},
   "outputs": [],
   "source": [
    "from sympy import *\n",
    "import numpy as np"
   ]
  },
  {
   "cell_type": "markdown",
   "metadata": {},
   "source": [
    "## A"
   ]
  },
  {
   "cell_type": "code",
   "execution_count": 5,
   "metadata": {},
   "outputs": [],
   "source": [
    "init_printing(use_unicode=True)"
   ]
  },
  {
   "cell_type": "code",
   "execution_count": 9,
   "metadata": {},
   "outputs": [],
   "source": [
    "a = symbols('a')"
   ]
  },
  {
   "cell_type": "code",
   "execution_count": 16,
   "metadata": {},
   "outputs": [],
   "source": [
    "h, t0 = symbols('h t_0')"
   ]
  },
  {
   "cell_type": "code",
   "execution_count": 17,
   "metadata": {},
   "outputs": [
    {
     "data": {
      "text/latex": [
       "$\\displaystyle \\left[\\begin{matrix}- \\cos{\\left(2 a \\right)} & - \\sin{\\left(2 a \\right)}\\\\- \\sin{\\left(2 a \\right)} & \\cos{\\left(2 a \\right)}\\end{matrix}\\right]$"
      ],
      "text/plain": [
       "⎡-cos(2⋅a)  -sin(2⋅a)⎤\n",
       "⎢                    ⎥\n",
       "⎣-sin(2⋅a)  cos(2⋅a) ⎦"
      ]
     },
     "execution_count": 17,
     "metadata": {},
     "output_type": "execute_result"
    }
   ],
   "source": [
    "A_hwp = Matrix([[-cos(2*a), -sin(2*a)], [-sin(2*a), cos(2*a)],])\n",
    "A_hwp"
   ]
  },
  {
   "cell_type": "code",
   "execution_count": 58,
   "metadata": {},
   "outputs": [
    {
     "data": {
      "text/latex": [
       "$\\displaystyle \\frac{1.0 i h \\log{\\left(\\left[\\begin{matrix}- \\cos{\\left(2 a \\right)} & - \\sin{\\left(2 a \\right)}\\\\- \\sin{\\left(2 a \\right)} & \\cos{\\left(2 a \\right)}\\end{matrix}\\right] \\right)}}{t_{0}}$"
      ],
      "text/plain": [
       "           ⎛⎡-cos(2⋅a)  -sin(2⋅a)⎤⎞\n",
       "1.0⋅ⅈ⋅h⋅log⎜⎢                    ⎥⎟\n",
       "           ⎝⎣-sin(2⋅a)  cos(2⋅a) ⎦⎠\n",
       "───────────────────────────────────\n",
       "                 t₀                "
      ]
     },
     "execution_count": 58,
     "metadata": {},
     "output_type": "execute_result"
    }
   ],
   "source": [
    "H_a = -ln(A_hwp)*h/(t0*1j)\n",
    "H_a"
   ]
  },
  {
   "cell_type": "markdown",
   "metadata": {},
   "source": [
    "## B"
   ]
  },
  {
   "cell_type": "code",
   "execution_count": 24,
   "metadata": {},
   "outputs": [],
   "source": [
    "from sympy.simplify.fu import fu, L, TR9, TR10i, TR11"
   ]
  },
  {
   "cell_type": "code",
   "execution_count": 36,
   "metadata": {},
   "outputs": [
    {
     "data": {
      "text/latex": [
       "$\\displaystyle \\left[\\begin{matrix}\\frac{\\left(1 - i\\right) \\left(- \\cos{\\left(2 a \\right)} + i\\right)}{2} & \\frac{\\left(-1 + i\\right) \\sin{\\left(2 a \\right)}}{2}\\\\0.5 \\left(-1 + i\\right) \\sin{\\left(2 a \\right)} & 0.5 \\cdot \\left(1 - i\\right) \\cos{\\left(2 a \\right)} + 0.5 + 0.5 i\\end{matrix}\\right]$"
      ],
      "text/plain": [
       "⎡(1 - ⅈ)⋅(-cos(2⋅a) + ⅈ)          (-1 + ⅈ)⋅sin(2⋅a)         ⎤\n",
       "⎢───────────────────────          ─────────────────         ⎥\n",
       "⎢           2                             2                 ⎥\n",
       "⎢                                                           ⎥\n",
       "⎣ 0.5⋅(-1 + ⅈ)⋅sin(2⋅a)   0.5⋅(1 - ⅈ)⋅cos(2⋅a) + 0.5 + 0.5⋅ⅈ⎦"
      ]
     },
     "execution_count": 36,
     "metadata": {},
     "output_type": "execute_result"
    }
   ],
   "source": [
    "A_qwp = simplify(TR10i(exp((-1j/h)*H*t0/2)))\n",
    "A_qwp"
   ]
  },
  {
   "cell_type": "code",
   "execution_count": 37,
   "metadata": {},
   "outputs": [
    {
     "data": {
      "text/plain": [
       "(1-0j)"
      ]
     },
     "execution_count": 37,
     "metadata": {},
     "output_type": "execute_result"
    }
   ],
   "source": [
    "-1j*1j"
   ]
  },
  {
   "cell_type": "markdown",
   "metadata": {},
   "source": [
    "## C"
   ]
  },
  {
   "cell_type": "code",
   "execution_count": 60,
   "metadata": {},
   "outputs": [
    {
     "data": {
      "text/latex": [
       "$\\displaystyle \\left[\\begin{matrix}- \\frac{1}{2} & - \\frac{\\sqrt{3}}{2}\\\\- \\frac{\\sqrt{3}}{2} & \\frac{1}{2}\\end{matrix}\\right]$"
      ],
      "text/plain": [
       "⎡      -√3 ⎤\n",
       "⎢-1/2  ────⎥\n",
       "⎢       2  ⎥\n",
       "⎢          ⎥\n",
       "⎢-√3       ⎥\n",
       "⎢────  1/2 ⎥\n",
       "⎣ 2        ⎦"
      ]
     },
     "execution_count": 60,
     "metadata": {},
     "output_type": "execute_result"
    }
   ],
   "source": [
    "U=exp(-(1j/h)*H_a*t0).subs(a, pi/6)\n",
    "U"
   ]
  },
  {
   "cell_type": "code",
   "execution_count": 61,
   "metadata": {},
   "outputs": [
    {
     "data": {
      "text/latex": [
       "$\\displaystyle \\left[\\begin{matrix}1\\\\0\\end{matrix}\\right]$"
      ],
      "text/plain": [
       "⎡1⎤\n",
       "⎢ ⎥\n",
       "⎣0⎦"
      ]
     },
     "execution_count": 61,
     "metadata": {},
     "output_type": "execute_result"
    }
   ],
   "source": [
    "H = Matrix([1, 0])\n",
    "H"
   ]
  },
  {
   "cell_type": "code",
   "execution_count": 62,
   "metadata": {},
   "outputs": [
    {
     "data": {
      "text/latex": [
       "$\\displaystyle \\left[\\begin{matrix}- \\frac{1}{2}\\\\- \\frac{\\sqrt{3}}{2}\\end{matrix}\\right]$"
      ],
      "text/plain": [
       "⎡-1/2⎤\n",
       "⎢    ⎥\n",
       "⎢-√3 ⎥\n",
       "⎢────⎥\n",
       "⎣ 2  ⎦"
      ]
     },
     "execution_count": 62,
     "metadata": {},
     "output_type": "execute_result"
    }
   ],
   "source": [
    "U*H"
   ]
  },
  {
   "cell_type": "code",
   "execution_count": 63,
   "metadata": {},
   "outputs": [
    {
     "data": {
      "text/latex": [
       "$\\displaystyle \\left[\\begin{matrix}- \\frac{1}{2} & - \\frac{\\sqrt{3}}{2}\\\\- \\frac{\\sqrt{3}}{2} & \\frac{1}{2}\\end{matrix}\\right]$"
      ],
      "text/plain": [
       "⎡      -√3 ⎤\n",
       "⎢-1/2  ────⎥\n",
       "⎢       2  ⎥\n",
       "⎢          ⎥\n",
       "⎢-√3       ⎥\n",
       "⎢────  1/2 ⎥\n",
       "⎣ 2        ⎦"
      ]
     },
     "execution_count": 63,
     "metadata": {},
     "output_type": "execute_result"
    }
   ],
   "source": [
    "A_hwp.subs(a, pi/6)"
   ]
  },
  {
   "cell_type": "code",
   "execution_count": null,
   "metadata": {},
   "outputs": [],
   "source": []
  }
 ],
 "metadata": {
  "kernelspec": {
   "display_name": "jax",
   "language": "python",
   "name": "python3"
  },
  "language_info": {
   "codemirror_mode": {
    "name": "ipython",
    "version": 3
   },
   "file_extension": ".py",
   "mimetype": "text/x-python",
   "name": "python",
   "nbconvert_exporter": "python",
   "pygments_lexer": "ipython3",
   "version": "3.10.12"
  },
  "orig_nbformat": 4
 },
 "nbformat": 4,
 "nbformat_minor": 2
}
