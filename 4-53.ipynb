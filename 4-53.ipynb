{
 "cells": [
  {
   "cell_type": "code",
   "execution_count": null,
   "metadata": {},
   "outputs": [],
   "source": [
    "import numpy as np"
   ]
  },
  {
   "cell_type": "code",
   "execution_count": 1,
   "metadata": {},
   "outputs": [],
   "source": [
    "from sympy import *\n",
    "from sympy.physics.quantum import *\n",
    "from sympy.physics.quantum.qubit import *"
   ]
  },
  {
   "cell_type": "code",
   "execution_count": 65,
   "metadata": {},
   "outputs": [],
   "source": [
    "theta, phi  = symbols('theta phi', real=True)"
   ]
  },
  {
   "cell_type": "code",
   "execution_count": 66,
   "metadata": {},
   "outputs": [
    {
     "data": {
      "text/latex": [
       "$\\displaystyle \\left[\\begin{matrix}\\cos{\\left(\\frac{\\theta}{2} \\right)}\\\\e^{i \\phi} \\sin{\\left(\\frac{\\theta}{2} \\right)}\\end{matrix}\\right]$"
      ],
      "text/plain": [
       "Matrix([\n",
       "[           cos(theta/2)],\n",
       "[exp(I*phi)*sin(theta/2)]])"
      ]
     },
     "execution_count": 66,
     "metadata": {},
     "output_type": "execute_result"
    }
   ],
   "source": [
    "PSI_1 = Matrix([cos(theta/2), sin(theta/2)*exp(I*phi)]); PSI_1"
   ]
  },
  {
   "cell_type": "code",
   "execution_count": 67,
   "metadata": {},
   "outputs": [
    {
     "data": {
      "text/latex": [
       "$\\displaystyle \\left[\\begin{matrix}1\\\\0\\end{matrix}\\right]$"
      ],
      "text/plain": [
       "Matrix([\n",
       "[1],\n",
       "[0]])"
      ]
     },
     "execution_count": 67,
     "metadata": {},
     "output_type": "execute_result"
    }
   ],
   "source": [
    "UP = Matrix([1,0 ]); UP"
   ]
  },
  {
   "cell_type": "code",
   "execution_count": 68,
   "metadata": {},
   "outputs": [
    {
     "data": {
      "text/latex": [
       "$\\displaystyle \\left[\\begin{matrix}0\\\\1\\end{matrix}\\right]$"
      ],
      "text/plain": [
       "Matrix([\n",
       "[0],\n",
       "[1]])"
      ]
     },
     "execution_count": 68,
     "metadata": {},
     "output_type": "execute_result"
    }
   ],
   "source": [
    "DOWN = Matrix([0, 1]); DOWN"
   ]
  },
  {
   "cell_type": "code",
   "execution_count": 69,
   "metadata": {},
   "outputs": [
    {
     "data": {
      "text/latex": [
       "$\\displaystyle \\left[\\begin{matrix}0\\\\1\\\\0\\\\0\\end{matrix}\\right]$"
      ],
      "text/plain": [
       "Matrix([\n",
       "[0],\n",
       "[1],\n",
       "[0],\n",
       "[0]])"
      ]
     },
     "execution_count": 69,
     "metadata": {},
     "output_type": "execute_result"
    }
   ],
   "source": [
    "UPDOWN = TensorProduct(UP, DOWN); UPDOWN"
   ]
  },
  {
   "cell_type": "code",
   "execution_count": 70,
   "metadata": {},
   "outputs": [
    {
     "data": {
      "text/latex": [
       "$\\displaystyle \\left[\\begin{matrix}0\\\\0\\\\1\\\\0\\end{matrix}\\right]$"
      ],
      "text/plain": [
       "Matrix([\n",
       "[0],\n",
       "[0],\n",
       "[1],\n",
       "[0]])"
      ]
     },
     "execution_count": 70,
     "metadata": {},
     "output_type": "execute_result"
    }
   ],
   "source": [
    "DOWNUP = TensorProduct(DOWN, UP); DOWNUP"
   ]
  },
  {
   "cell_type": "code",
   "execution_count": 71,
   "metadata": {},
   "outputs": [
    {
     "data": {
      "text/latex": [
       "$\\displaystyle \\left[\\begin{matrix}0\\\\\\frac{\\sqrt{2}}{2}\\\\- \\frac{\\sqrt{2}}{2}\\\\0\\end{matrix}\\right]$"
      ],
      "text/plain": [
       "Matrix([\n",
       "[         0],\n",
       "[ sqrt(2)/2],\n",
       "[-sqrt(2)/2],\n",
       "[         0]])"
      ]
     },
     "execution_count": 71,
     "metadata": {},
     "output_type": "execute_result"
    }
   ],
   "source": [
    "PSI_MINUS = 1 / sqrt(2) * (UPDOWN - DOWNUP); PSI_MINUS"
   ]
  },
  {
   "cell_type": "code",
   "execution_count": 72,
   "metadata": {},
   "outputs": [
    {
     "data": {
      "text/latex": [
       "$\\displaystyle \\left[\\begin{matrix}\\cos^{2}{\\left(\\frac{\\theta}{2} \\right)} & e^{- i \\phi} \\sin{\\left(\\frac{\\theta}{2} \\right)} \\cos{\\left(\\frac{\\theta}{2} \\right)}\\\\e^{i \\phi} \\sin{\\left(\\frac{\\theta}{2} \\right)} \\cos{\\left(\\frac{\\theta}{2} \\right)} & \\sin^{2}{\\left(\\frac{\\theta}{2} \\right)}\\end{matrix}\\right]$"
      ],
      "text/plain": [
       "Matrix([\n",
       "[                     cos(theta/2)**2, exp(-I*phi)*sin(theta/2)*cos(theta/2)],\n",
       "[exp(I*phi)*sin(theta/2)*cos(theta/2),                       sin(theta/2)**2]])"
      ]
     },
     "execution_count": 72,
     "metadata": {},
     "output_type": "execute_result"
    }
   ],
   "source": [
    "PSI_2 = PSI_1 * Dagger(PSI_1); PSI_2"
   ]
  },
  {
   "cell_type": "code",
   "execution_count": 73,
   "metadata": {},
   "outputs": [
    {
     "data": {
      "text/latex": [
       "$\\displaystyle \\left[\\begin{matrix}\\cos^{2}{\\left(\\frac{\\theta}{2} \\right)} & 0 & e^{- i \\phi} \\sin{\\left(\\frac{\\theta}{2} \\right)} \\cos{\\left(\\frac{\\theta}{2} \\right)} & 0\\\\0 & \\cos^{2}{\\left(\\frac{\\theta}{2} \\right)} & 0 & e^{- i \\phi} \\sin{\\left(\\frac{\\theta}{2} \\right)} \\cos{\\left(\\frac{\\theta}{2} \\right)}\\\\e^{i \\phi} \\sin{\\left(\\frac{\\theta}{2} \\right)} \\cos{\\left(\\frac{\\theta}{2} \\right)} & 0 & \\sin^{2}{\\left(\\frac{\\theta}{2} \\right)} & 0\\\\0 & e^{i \\phi} \\sin{\\left(\\frac{\\theta}{2} \\right)} \\cos{\\left(\\frac{\\theta}{2} \\right)} & 0 & \\sin^{2}{\\left(\\frac{\\theta}{2} \\right)}\\end{matrix}\\right]$"
      ],
      "text/plain": [
       "Matrix([\n",
       "[                     cos(theta/2)**2,                                    0, exp(-I*phi)*sin(theta/2)*cos(theta/2),                                     0],\n",
       "[                                   0,                      cos(theta/2)**2,                                     0, exp(-I*phi)*sin(theta/2)*cos(theta/2)],\n",
       "[exp(I*phi)*sin(theta/2)*cos(theta/2),                                    0,                       sin(theta/2)**2,                                     0],\n",
       "[                                   0, exp(I*phi)*sin(theta/2)*cos(theta/2),                                     0,                       sin(theta/2)**2]])"
      ]
     },
     "execution_count": 73,
     "metadata": {},
     "output_type": "execute_result"
    }
   ],
   "source": [
    "P_v = TensorProduct(PSI_2, eye(2)); P_v"
   ]
  },
  {
   "cell_type": "code",
   "execution_count": 80,
   "metadata": {},
   "outputs": [
    {
     "data": {
      "text/latex": [
       "$\\displaystyle \\left[\\begin{matrix}- \\frac{\\sqrt{2} e^{- i \\phi} \\sin{\\left(\\frac{\\theta}{2} \\right)} \\cos{\\left(\\frac{\\theta}{2} \\right)}}{2}\\\\\\frac{\\sqrt{2} \\cos^{2}{\\left(\\frac{\\theta}{2} \\right)}}{2}\\\\- \\frac{\\sqrt{2} \\sin^{2}{\\left(\\frac{\\theta}{2} \\right)}}{2}\\\\\\frac{\\sqrt{2} e^{i \\phi} \\sin{\\left(\\frac{\\theta}{2} \\right)} \\cos{\\left(\\frac{\\theta}{2} \\right)}}{2}\\end{matrix}\\right]$"
      ],
      "text/plain": [
       "Matrix([\n",
       "[-sqrt(2)*exp(-I*phi)*sin(theta/2)*cos(theta/2)/2],\n",
       "[                       sqrt(2)*cos(theta/2)**2/2],\n",
       "[                      -sqrt(2)*sin(theta/2)**2/2],\n",
       "[  sqrt(2)*exp(I*phi)*sin(theta/2)*cos(theta/2)/2]])"
      ]
     },
     "execution_count": 80,
     "metadata": {},
     "output_type": "execute_result"
    }
   ],
   "source": [
    "state_1 = P_v * PSI_MINUS; state_1"
   ]
  },
  {
   "cell_type": "code",
   "execution_count": 84,
   "metadata": {},
   "outputs": [
    {
     "data": {
      "text/latex": [
       "$\\displaystyle \\sin^{4}{\\left(\\frac{\\theta}{2} \\right)} - \\sin^{2}{\\left(\\frac{\\theta}{2} \\right)} + \\frac{\\sin^{2}{\\left(\\theta \\right)}}{4} + \\frac{1}{2}$"
      ],
      "text/plain": [
       "sin(theta/2)**4 - sin(theta/2)**2 + sin(theta)**2/4 + 1/2"
      ]
     },
     "execution_count": 84,
     "metadata": {},
     "output_type": "execute_result"
    }
   ],
   "source": [
    "simplify(sum(abs(state_1[i])**2 for i in range(4)))"
   ]
  },
  {
   "cell_type": "code",
   "execution_count": 64,
   "metadata": {},
   "outputs": [],
   "source": [
    "# вероятность проекции первого кубита на R(theta, phi)"
   ]
  },
  {
   "cell_type": "code",
   "execution_count": 87,
   "metadata": {},
   "outputs": [
    {
     "data": {
      "text/latex": [
       "$\\displaystyle \\left[\\begin{matrix}- \\frac{\\sqrt{2} \\sin^{2}{\\left(\\frac{\\theta}{2} \\right)}}{2}\\\\\\frac{\\sqrt{2} e^{i \\phi} \\sin{\\left(\\frac{\\theta}{2} \\right)} \\cos{\\left(\\frac{\\theta}{2} \\right)}}{2}\\end{matrix}\\right]$"
      ],
      "text/plain": [
       "Matrix([\n",
       "[                    -sqrt(2)*sin(theta/2)**2/2],\n",
       "[sqrt(2)*exp(I*phi)*sin(theta/2)*cos(theta/2)/2]])"
      ]
     },
     "execution_count": 87,
     "metadata": {},
     "output_type": "execute_result"
    }
   ],
   "source": [
    "bobs_state = Matrix(state_1[2:]); bobs_state"
   ]
  },
  {
   "cell_type": "code",
   "execution_count": 88,
   "metadata": {},
   "outputs": [
    {
     "data": {
      "text/latex": [
       "$\\displaystyle \\frac{\\sqrt{2} \\left|{\\sin{\\left(\\frac{\\theta}{2} \\right)}}\\right|}{2}$"
      ],
      "text/plain": [
       "sqrt(2)*Abs(sin(theta/2))/2"
      ]
     },
     "execution_count": 88,
     "metadata": {},
     "output_type": "execute_result"
    }
   ],
   "source": [
    "norm = sqrt(simplify(sum(abs(state_1[i])**2 for i in range(2, 4)))); norm"
   ]
  },
  {
   "cell_type": "code",
   "execution_count": 89,
   "metadata": {},
   "outputs": [
    {
     "data": {
      "text/latex": [
       "$\\displaystyle \\left[\\begin{matrix}- \\frac{\\sin^{2}{\\left(\\frac{\\theta}{2} \\right)} \\left|{\\sin{\\left(\\frac{\\theta}{2} \\right)}}\\right|}{2}\\\\\\frac{e^{i \\phi} \\sin{\\left(\\frac{\\theta}{2} \\right)} \\cos{\\left(\\frac{\\theta}{2} \\right)} \\left|{\\sin{\\left(\\frac{\\theta}{2} \\right)}}\\right|}{2}\\end{matrix}\\right]$"
      ],
      "text/plain": [
       "Matrix([\n",
       "[                    -sin(theta/2)**2*Abs(sin(theta/2))/2],\n",
       "[exp(I*phi)*sin(theta/2)*cos(theta/2)*Abs(sin(theta/2))/2]])"
      ]
     },
     "execution_count": 89,
     "metadata": {},
     "output_type": "execute_result"
    }
   ],
   "source": [
    "norm * bobs_state "
   ]
  },
  {
   "cell_type": "code",
   "execution_count": null,
   "metadata": {},
   "outputs": [],
   "source": []
  }
 ],
 "metadata": {
  "kernelspec": {
   "display_name": "jax",
   "language": "python",
   "name": "python3"
  },
  "language_info": {
   "codemirror_mode": {
    "name": "ipython",
    "version": 3
   },
   "file_extension": ".py",
   "mimetype": "text/x-python",
   "name": "python",
   "nbconvert_exporter": "python",
   "pygments_lexer": "ipython3",
   "version": "3.11.7"
  }
 },
 "nbformat": 4,
 "nbformat_minor": 2
}
