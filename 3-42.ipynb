{
 "cells": [
  {
   "cell_type": "code",
   "execution_count": 1,
   "metadata": {},
   "outputs": [],
   "source": [
    "from sympy import *\n",
    "from sympy.physics.quantum import *\n",
    "from sympy.physics.quantum.qubit import *"
   ]
  },
  {
   "cell_type": "code",
   "execution_count": 67,
   "metadata": {},
   "outputs": [],
   "source": [
    "M, W0, hbar, x = symbols(\"M, W0, hbar, x\", real=True)"
   ]
  },
  {
   "cell_type": "code",
   "execution_count": 68,
   "metadata": {},
   "outputs": [
    {
     "data": {
      "text/latex": [
       "$\\displaystyle - W_{0} \\delta\\left(x\\right)$"
      ],
      "text/plain": [
       "-W0*DiracDelta(x)"
      ]
     },
     "execution_count": 68,
     "metadata": {},
     "output_type": "execute_result"
    }
   ],
   "source": [
    "V_1_x = - W0 * DiracDelta(x); V_1_x"
   ]
  },
  {
   "cell_type": "code",
   "execution_count": 69,
   "metadata": {},
   "outputs": [
    {
     "data": {
      "text/latex": [
       "$\\displaystyle - W_{0} \\delta\\left(0\\right)$"
      ],
      "text/plain": [
       "-W0*DiracDelta(0)"
      ]
     },
     "execution_count": 69,
     "metadata": {},
     "output_type": "execute_result"
    }
   ],
   "source": [
    "V1_0 = V_1_x.evalf(subs={x:0}); V1_0"
   ]
  },
  {
   "cell_type": "code",
   "execution_count": 70,
   "metadata": {},
   "outputs": [
    {
     "data": {
      "text/latex": [
       "$\\displaystyle \\frac{M W_{0}^{2}}{2 \\hbar}$"
      ],
      "text/plain": [
       "M*W0**2/(2*hbar)"
      ]
     },
     "execution_count": 70,
     "metadata": {},
     "output_type": "execute_result"
    }
   ],
   "source": [
    "E1 = W0**2*M / (2 * hbar); E1"
   ]
  },
  {
   "cell_type": "code",
   "execution_count": 71,
   "metadata": {},
   "outputs": [
    {
     "data": {
      "text/latex": [
       "$\\displaystyle \\frac{\\sqrt{2} \\sqrt{M \\left(- \\frac{M W_{0}^{2}}{2 \\hbar} - W_{0} \\delta\\left(0\\right)\\right)}}{\\hbar}$"
      ],
      "text/plain": [
       "sqrt(2)*sqrt(M*(-M*W0**2/(2*hbar) - W0*DiracDelta(0)))/hbar"
      ]
     },
     "execution_count": 71,
     "metadata": {},
     "output_type": "execute_result"
    }
   ],
   "source": [
    "k1 = sqrt(2 * M * (V1_0-E1)) / hbar; k1"
   ]
  },
  {
   "cell_type": "code",
   "execution_count": 72,
   "metadata": {},
   "outputs": [
    {
     "data": {
      "text/latex": [
       "$\\displaystyle \\begin{cases} \\sqrt[4]{2} \\sqrt{\\frac{\\sqrt{M \\left(- \\frac{M W_{0}^{2}}{2 \\hbar} - W_{0} \\delta\\left(0\\right)\\right)}}{\\hbar}} e^{- \\frac{\\sqrt{2} x \\sqrt{M \\left(- \\frac{M W_{0}^{2}}{2 \\hbar} - W_{0} \\delta\\left(0\\right)\\right)}}{\\hbar}} & \\text{for}\\: x > 0 \\\\\\sqrt[4]{2} \\sqrt{\\frac{\\sqrt{M \\left(- \\frac{M W_{0}^{2}}{2 \\hbar} - W_{0} \\delta\\left(0\\right)\\right)}}{\\hbar}} e^{\\frac{\\sqrt{2} x \\sqrt{M \\left(- \\frac{M W_{0}^{2}}{2 \\hbar} - W_{0} \\delta\\left(0\\right)\\right)}}{\\hbar}} & \\text{for}\\: x < 0 \\end{cases}$"
      ],
      "text/plain": [
       "Piecewise((2**(1/4)*sqrt(sqrt(M*(-M*W0**2/(2*hbar) - W0*DiracDelta(0)))/hbar)*exp(-sqrt(2)*x*sqrt(M*(-M*W0**2/(2*hbar) - W0*DiracDelta(0)))/hbar), x > 0), (2**(1/4)*sqrt(sqrt(M*(-M*W0**2/(2*hbar) - W0*DiracDelta(0)))/hbar)*exp(sqrt(2)*x*sqrt(M*(-M*W0**2/(2*hbar) - W0*DiracDelta(0)))/hbar), x < 0))"
      ]
     },
     "execution_count": 72,
     "metadata": {},
     "output_type": "execute_result"
    }
   ],
   "source": [
    "psi_1_x = Piecewise((sqrt(k1) * exp(-k1*x), x > 0 ), ((sqrt(k1) * exp(k1*x), x < 0))); psi_1_x"
   ]
  },
  {
   "cell_type": "code",
   "execution_count": 73,
   "metadata": {},
   "outputs": [
    {
     "data": {
      "text/latex": [
       "$\\displaystyle - 2 W_{0} \\delta\\left(x\\right)$"
      ],
      "text/plain": [
       "-2*W0*DiracDelta(x)"
      ]
     },
     "execution_count": 73,
     "metadata": {},
     "output_type": "execute_result"
    }
   ],
   "source": [
    "V_2_x = - 2 * W0 * DiracDelta(x); V_2_x"
   ]
  },
  {
   "cell_type": "code",
   "execution_count": 74,
   "metadata": {},
   "outputs": [
    {
     "data": {
      "text/latex": [
       "$\\displaystyle - 2.0 W_{0} \\delta\\left(0\\right)$"
      ],
      "text/plain": [
       "-2.0*W0*DiracDelta(0)"
      ]
     },
     "execution_count": 74,
     "metadata": {},
     "output_type": "execute_result"
    }
   ],
   "source": [
    "V2_0 = V_2_x.evalf(subs={x:0}); V2_0"
   ]
  },
  {
   "cell_type": "code",
   "execution_count": 75,
   "metadata": {},
   "outputs": [
    {
     "data": {
      "text/latex": [
       "$\\displaystyle - \\frac{2 M W_{0}^{2}}{\\hbar}$"
      ],
      "text/plain": [
       "-2*M*W0**2/hbar"
      ]
     },
     "execution_count": 75,
     "metadata": {},
     "output_type": "execute_result"
    }
   ],
   "source": [
    "E2 = -2 * W0**2*M / (hbar); E2"
   ]
  },
  {
   "cell_type": "code",
   "execution_count": 76,
   "metadata": {},
   "outputs": [
    {
     "data": {
      "text/latex": [
       "$\\displaystyle \\frac{\\sqrt{2} \\sqrt{M \\left(\\frac{2 M W_{0}^{2}}{\\hbar} - 2.0 W_{0} \\delta\\left(0\\right)\\right)}}{\\hbar}$"
      ],
      "text/plain": [
       "sqrt(2)*sqrt(M*(2*M*W0**2/hbar - 2.0*W0*DiracDelta(0)))/hbar"
      ]
     },
     "execution_count": 76,
     "metadata": {},
     "output_type": "execute_result"
    }
   ],
   "source": [
    "k2 = sqrt(2 * M * (V2_0-E2)) / hbar; k2"
   ]
  },
  {
   "cell_type": "code",
   "execution_count": 77,
   "metadata": {},
   "outputs": [
    {
     "data": {
      "text/latex": [
       "$\\displaystyle \\begin{cases} \\sqrt[4]{2} \\sqrt{\\frac{\\sqrt{M \\left(\\frac{2 M W_{0}^{2}}{\\hbar} - 2.0 W_{0} \\delta\\left(0\\right)\\right)}}{\\hbar}} e^{- \\frac{\\sqrt{2} x \\sqrt{M \\left(\\frac{2 M W_{0}^{2}}{\\hbar} - 2.0 W_{0} \\delta\\left(0\\right)\\right)}}{\\hbar}} & \\text{for}\\: x > 0 \\\\\\sqrt[4]{2} \\sqrt{\\frac{\\sqrt{M \\left(\\frac{2 M W_{0}^{2}}{\\hbar} - 2.0 W_{0} \\delta\\left(0\\right)\\right)}}{\\hbar}} e^{\\frac{\\sqrt{2} x \\sqrt{M \\left(\\frac{2 M W_{0}^{2}}{\\hbar} - 2.0 W_{0} \\delta\\left(0\\right)\\right)}}{\\hbar}} & \\text{for}\\: x < 0 \\end{cases}$"
      ],
      "text/plain": [
       "Piecewise((2**(1/4)*sqrt(sqrt(M*(2*M*W0**2/hbar - 2.0*W0*DiracDelta(0)))/hbar)*exp(-sqrt(2)*x*sqrt(M*(2*M*W0**2/hbar - 2.0*W0*DiracDelta(0)))/hbar), x > 0), (2**(1/4)*sqrt(sqrt(M*(2*M*W0**2/hbar - 2.0*W0*DiracDelta(0)))/hbar)*exp(sqrt(2)*x*sqrt(M*(2*M*W0**2/hbar - 2.0*W0*DiracDelta(0)))/hbar), x < 0))"
      ]
     },
     "execution_count": 77,
     "metadata": {},
     "output_type": "execute_result"
    }
   ],
   "source": [
    "psi_2_x = Piecewise((sqrt(k2) * exp(-k2*x), x > 0 ), ((sqrt(k2) * exp(k2*x), x < 0))); psi_2_x"
   ]
  },
  {
   "cell_type": "code",
   "execution_count": 78,
   "metadata": {},
   "outputs": [
    {
     "data": {
      "text/latex": [
       "$\\displaystyle \\begin{cases} 1.41421356237309 \\sqrt{2} e^{- \\frac{x \\left(2.82842712474619 \\sqrt{2} \\cos{\\left(\\frac{\\operatorname{atan}_{2}{\\left(0,M W_{0} \\left(\\frac{M W_{0}}{\\hbar} - \\delta\\left(0\\right)\\right) \\right)}}{2} \\right)} \\left|{\\frac{\\sqrt{M} \\sqrt{W_{0}} \\sqrt{M W_{0} - \\hbar \\delta\\left(0\\right)}}{\\sqrt{\\hbar}}}\\right| + \\sqrt{- \\frac{M W_{0} \\left(M W_{0} + 2 \\hbar \\delta\\left(0\\right)\\right)}{\\hbar}}^{\\dagger} + \\operatorname{transpose}{\\left(\\sqrt{- \\frac{M W_{0} \\left(M W_{0} + 2 \\hbar \\delta\\left(0\\right)\\right)}{\\hbar}} \\right)}\\right)}{\\hbar}} \\left|{\\sqrt{\\frac{\\sqrt{\\frac{M W_{0} \\left(M W_{0} - \\hbar \\delta\\left(0\\right)\\right)}{\\hbar}}}{\\hbar}}}\\right|^{2} \\sqrt{\\frac{\\sqrt{- \\frac{M W_{0} \\left(M W_{0} + 2 \\hbar \\delta\\left(0\\right)\\right)}{\\hbar}}}{\\hbar}}^{\\dagger} \\operatorname{transpose}{\\left(\\sqrt{\\frac{\\sqrt{- \\frac{M W_{0} \\left(M W_{0} + 2 \\hbar \\delta\\left(0\\right)\\right)}{\\hbar}}}{\\hbar}} \\right)} & \\text{for}\\: x > 0 \\\\1.41421356237309 \\sqrt{2} e^{\\frac{x \\left(2.82842712474619 \\sqrt{2} \\cos{\\left(\\frac{\\operatorname{atan}_{2}{\\left(0,M W_{0} \\left(\\frac{M W_{0}}{\\hbar} - \\delta\\left(0\\right)\\right) \\right)}}{2} \\right)} \\left|{\\frac{\\sqrt{M} \\sqrt{W_{0}} \\sqrt{M W_{0} - \\hbar \\delta\\left(0\\right)}}{\\sqrt{\\hbar}}}\\right| + \\sqrt{- \\frac{M W_{0} \\left(M W_{0} + 2 \\hbar \\delta\\left(0\\right)\\right)}{\\hbar}}^{\\dagger} + \\operatorname{transpose}{\\left(\\sqrt{- \\frac{M W_{0} \\left(M W_{0} + 2 \\hbar \\delta\\left(0\\right)\\right)}{\\hbar}} \\right)}\\right)}{\\hbar}} \\left|{\\sqrt{\\frac{\\sqrt{\\frac{M W_{0} \\left(M W_{0} - \\hbar \\delta\\left(0\\right)\\right)}{\\hbar}}}{\\hbar}}}\\right|^{2} \\sqrt{\\frac{\\sqrt{- \\frac{M W_{0} \\left(M W_{0} + 2 \\hbar \\delta\\left(0\\right)\\right)}{\\hbar}}}{\\hbar}}^{\\dagger} \\operatorname{transpose}{\\left(\\sqrt{\\frac{\\sqrt{- \\frac{M W_{0} \\left(M W_{0} + 2 \\hbar \\delta\\left(0\\right)\\right)}{\\hbar}}}{\\hbar}} \\right)} & \\text{for}\\: x < 0 \\\\\\text{NaN} & \\text{otherwise} \\end{cases}$"
      ],
      "text/plain": [
       "Piecewise((1.41421356237309*sqrt(2)*exp(-x*(2.82842712474619*sqrt(2)*cos(atan2(0, M*W0*(M*W0/hbar - DiracDelta(0)))/2)*Abs(sqrt(M)*sqrt(W0)*sqrt(M*W0 - hbar*DiracDelta(0))/sqrt(hbar)) + Dagger(sqrt(-M*W0*(M*W0 + 2*hbar*DiracDelta(0))/hbar)) + transpose(sqrt(-M*W0*(M*W0 + 2*hbar*DiracDelta(0))/hbar)))/hbar)*Abs(sqrt(sqrt(M*W0*(M*W0 - hbar*DiracDelta(0))/hbar)/hbar))**2*Dagger(sqrt(sqrt(-M*W0*(M*W0 + 2*hbar*DiracDelta(0))/hbar)/hbar))*transpose(sqrt(sqrt(-M*W0*(M*W0 + 2*hbar*DiracDelta(0))/hbar)/hbar)), x > 0), (1.41421356237309*sqrt(2)*exp(x*(2.82842712474619*sqrt(2)*cos(atan2(0, M*W0*(M*W0/hbar - DiracDelta(0)))/2)*Abs(sqrt(M)*sqrt(W0)*sqrt(M*W0 - hbar*DiracDelta(0))/sqrt(hbar)) + Dagger(sqrt(-M*W0*(M*W0 + 2*hbar*DiracDelta(0))/hbar)) + transpose(sqrt(-M*W0*(M*W0 + 2*hbar*DiracDelta(0))/hbar)))/hbar)*Abs(sqrt(sqrt(M*W0*(M*W0 - hbar*DiracDelta(0))/hbar)/hbar))**2*Dagger(sqrt(sqrt(-M*W0*(M*W0 + 2*hbar*DiracDelta(0))/hbar)/hbar))*transpose(sqrt(sqrt(-M*W0*(M*W0 + 2*hbar*DiracDelta(0))/hbar)/hbar)), x < 0), (nan, True))"
      ]
     },
     "execution_count": 78,
     "metadata": {},
     "output_type": "execute_result"
    }
   ],
   "source": [
    "simplify(abs(Dagger(psi_1_x)*psi_2_x)**2)"
   ]
  },
  {
   "cell_type": "code",
   "execution_count": 84,
   "metadata": {},
   "outputs": [],
   "source": [
    "a = symbols(\"a\")"
   ]
  },
  {
   "cell_type": "code",
   "execution_count": 85,
   "metadata": {},
   "outputs": [
    {
     "data": {
      "text/latex": [
       "$\\displaystyle \\begin{cases} \\frac{1}{a} & \\text{for}\\: \\left|{\\arg{\\left(a \\right)}}\\right| < \\frac{\\pi}{2} \\\\\\int\\limits_{0}^{\\infty} e^{- a x}\\, dx & \\text{otherwise} \\end{cases}$"
      ],
      "text/plain": [
       "Piecewise((1/a, Abs(arg(a)) < pi/2), (Integral(exp(-a*x), (x, 0, oo)), True))"
      ]
     },
     "execution_count": 85,
     "metadata": {},
     "output_type": "execute_result"
    }
   ],
   "source": [
    "integrate(exp(-a*x), (x, 0, oo))"
   ]
  },
  {
   "cell_type": "code",
   "execution_count": null,
   "metadata": {},
   "outputs": [],
   "source": [
    "# okk"
   ]
  }
 ],
 "metadata": {
  "kernelspec": {
   "display_name": "quantum",
   "language": "python",
   "name": "python3"
  },
  "language_info": {
   "codemirror_mode": {
    "name": "ipython",
    "version": 3
   },
   "file_extension": ".py",
   "mimetype": "text/x-python",
   "name": "python",
   "nbconvert_exporter": "python",
   "pygments_lexer": "ipython3",
   "version": "3.11.5"
  }
 },
 "nbformat": 4,
 "nbformat_minor": 2
}
