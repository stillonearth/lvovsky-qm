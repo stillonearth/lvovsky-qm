{
 "cells": [
  {
   "cell_type": "code",
   "execution_count": 1,
   "metadata": {},
   "outputs": [],
   "source": [
    "from sympy import *\n",
    "from sympy.physics.quantum import *\n",
    "from sympy.physics.quantum.qubit import *"
   ]
  },
  {
   "cell_type": "code",
   "execution_count": 2,
   "metadata": {},
   "outputs": [],
   "source": [
    "init_printing(use_unicode=True)"
   ]
  },
  {
   "cell_type": "code",
   "execution_count": 10,
   "metadata": {},
   "outputs": [
    {
     "data": {
      "image/png": "[encoded data removed]",
      "text/latex": [
       "$\\displaystyle N$"
      ],
      "text/plain": [
       "N"
      ]
     },
     "execution_count": 10,
     "metadata": {},
     "output_type": "execute_result"
    }
   ],
   "source": [
    "N = symbols(\"N\", real=True); N"
   ]
  },
  {
   "cell_type": "code",
   "execution_count": 11,
   "metadata": {},
   "outputs": [
    {
     "data": {
      "image/png": "[encoded data removed]",
      "text/latex": [
       "$\\displaystyle {\\left|0\\right\\rangle }$"
      ],
      "text/plain": [
       "❘0⟩"
      ]
     },
     "execution_count": 11,
     "metadata": {},
     "output_type": "execute_result"
    }
   ],
   "source": [
    "H = Qubit(0); H"
   ]
  },
  {
   "cell_type": "code",
   "execution_count": 12,
   "metadata": {},
   "outputs": [
    {
     "data": {
      "image/png": "[encoded data removed]",
      "text/latex": [
       "$\\displaystyle 1$"
      ],
      "text/plain": [
       "1"
      ]
     },
     "execution_count": 12,
     "metadata": {},
     "output_type": "execute_result"
    }
   ],
   "source": [
    "V = Qubit(1);1"
   ]
  },
  {
   "cell_type": "code",
   "execution_count": 13,
   "metadata": {},
   "outputs": [
    {
     "data": {
      "image/png": "[encoded data removed]",
      "text/latex": [
       "$\\displaystyle \\frac{\\sqrt{2} N \\left({{\\left|0\\right\\rangle }}\\otimes {{\\left|0\\right\\rangle }} + 2 {{\\left|0\\right\\rangle }}\\otimes {{\\left|1\\right\\rangle }} + i {{\\left|1\\right\\rangle }}\\otimes {{\\left|1\\right\\rangle }}\\right)}{2}$"
      ],
      "text/plain": [
       "√2⋅N⋅(❘0⟩⨂ ❘0⟩ + 2⋅❘0⟩⨂ ❘1⟩ + ⅈ⋅❘1⟩⨂ ❘1⟩)\n",
       "─────────────────────────────────────────\n",
       "                    2                    "
      ]
     },
     "execution_count": 13,
     "metadata": {},
     "output_type": "execute_result"
    }
   ],
   "source": [
    "PSI = (N/sqrt(2)) * (2*TensorProduct(H, V) + I * TensorProduct(V, V) + TensorProduct(H, H)); PSI"
   ]
  },
  {
   "cell_type": "code",
   "execution_count": 14,
   "metadata": {},
   "outputs": [
    {
     "data": {
      "image/png": "[encoded data removed]",
      "text/latex": [
       "$\\displaystyle \\frac{N^{2} \\left({{\\left\\langle 0\\right|}}\\otimes {{\\left\\langle 0\\right|}} + 2 {{\\left\\langle 0\\right|}}\\otimes {{\\left\\langle 1\\right|}} - i {{\\left\\langle 1\\right|}}\\otimes {{\\left\\langle 1\\right|}}\\right) \\left({{\\left|0\\right\\rangle }}\\otimes {{\\left|0\\right\\rangle }} + 2 {{\\left|0\\right\\rangle }}\\otimes {{\\left|1\\right\\rangle }} + i {{\\left|1\\right\\rangle }}\\otimes {{\\left|1\\right\\rangle }}\\right)}{2}$"
      ],
      "text/plain": [
       " 2                                                                          \n",
       "N ⋅(⟨0❘⨂ ⟨0❘ + 2⋅⟨0❘⨂ ⟨1❘ - ⅈ⋅⟨1❘⨂ ⟨1❘)⋅(❘0⟩⨂ ❘0⟩ + 2⋅❘0⟩⨂ ❘1⟩ + ⅈ⋅❘1⟩⨂ ❘1⟩)\n",
       "────────────────────────────────────────────────────────────────────────────\n",
       "                                     2                                      "
      ]
     },
     "execution_count": 14,
     "metadata": {},
     "output_type": "execute_result"
    }
   ],
   "source": [
    "norm = Dagger(PSI) * PSI; norm"
   ]
  },
  {
   "cell_type": "code",
   "execution_count": null,
   "metadata": {},
   "outputs": [],
   "source": []
  }
 ],
 "metadata": {
  "kernelspec": {
   "display_name": "jax",
   "language": "python",
   "name": "python3"
  },
  "language_info": {
   "codemirror_mode": {
    "name": "ipython",
    "version": 3
   },
   "file_extension": ".py",
   "mimetype": "text/x-python",
   "name": "python",
   "nbconvert_exporter": "python",
   "pygments_lexer": "ipython3",
   "version": "3.10.12"
  },
  "orig_nbformat": 4
 },
 "nbformat": 4,
 "nbformat_minor": 2
}
