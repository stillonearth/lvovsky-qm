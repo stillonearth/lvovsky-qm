{
 "cells": [
  {
   "cell_type": "code",
   "execution_count": 106,
   "metadata": {},
   "outputs": [],
   "source": [
    "import numpy as np"
   ]
  },
  {
   "cell_type": "code",
   "execution_count": 107,
   "metadata": {},
   "outputs": [],
   "source": [
    "orig_basis = (np.array([[1+0j, 0+0j],]), np.array([[0+0j, 1+0j],]))"
   ]
  },
  {
   "cell_type": "code",
   "execution_count": 108,
   "metadata": {},
   "outputs": [],
   "source": [
    "term = np.sqrt(1/2)"
   ]
  },
  {
   "cell_type": "code",
   "execution_count": 109,
   "metadata": {},
   "outputs": [],
   "source": [
    "l_r_basis = (term*np.array([[1+0j, 1j],]), term*np.array([[1+0j, -1j],]))"
   ]
  },
  {
   "cell_type": "code",
   "execution_count": 110,
   "metadata": {},
   "outputs": [],
   "source": [
    "plus = term * np.array([[1+0j, 1+0j],])\n",
    "minus = term * np.array([[1+0j, -1+0j],])"
   ]
  },
  {
   "cell_type": "code",
   "execution_count": 111,
   "metadata": {},
   "outputs": [],
   "source": [
    "A = plus.T*minus"
   ]
  },
  {
   "cell_type": "code",
   "execution_count": 121,
   "metadata": {},
   "outputs": [
    {
     "name": "stderr",
     "output_type": "stream",
     "text": [
      "/tmp/ipykernel_66101/1568830489.py:11: DeprecationWarning: Conversion of an array with ndim > 0 to a scalar is deprecated, and will error in future. Ensure you extract a single element from your array before performing this operation. (Deprecated NumPy 1.25.)\n",
      "  B[i, j] += el_1 * el_2 * el_3\n"
     ]
    }
   ],
   "source": [
    "B = np.zeros_like(A)\n",
    "\n",
    "for i in range(A.shape[0]):\n",
    "    for j in range(A.shape[1]):\n",
    "        for k in range(len(orig_basis)):\n",
    "            for m in range(len(orig_basis)):\n",
    "                el_1 = np.matmul(l_r_basis[i], orig_basis[k].T)\n",
    "                el_2 = A[k, m]\n",
    "                el_3 = np.matmul(orig_basis[m], l_r_basis[j].T)\n",
    "                prod = el_1 * el_2 * el_3\n",
    "                B[i, j] += el_1 * el_2 * el_3"
   ]
  },
  {
   "cell_type": "code",
   "execution_count": 125,
   "metadata": {},
   "outputs": [
    {
     "data": {
      "text/plain": [
       "array([[0. +0.5j, 0.5+0.j ],\n",
       "       [0.5+0.j , 0. -0.5j]])"
      ]
     },
     "execution_count": 125,
     "metadata": {},
     "output_type": "execute_result"
    }
   ],
   "source": [
    "np.flip(B, 1)\n",
    "\n",
    "# I've no ide why flip is required...."
   ]
  }
 ],
 "metadata": {
  "kernelspec": {
   "display_name": "jax",
   "language": "python",
   "name": "python3"
  },
  "language_info": {
   "codemirror_mode": {
    "name": "ipython",
    "version": 3
   },
   "file_extension": ".py",
   "mimetype": "text/x-python",
   "name": "python",
   "nbconvert_exporter": "python",
   "pygments_lexer": "ipython3",
   "version": "3.11.3"
  },
  "orig_nbformat": 4
 },
 "nbformat": 4,
 "nbformat_minor": 2
}
