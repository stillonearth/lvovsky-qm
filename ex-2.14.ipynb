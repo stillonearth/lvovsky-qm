{
 "cells": [
  {
   "cell_type": "code",
   "execution_count": 1,
   "metadata": {},
   "outputs": [],
   "source": [
    "from sympy import *\n",
    "from sympy.physics.quantum import *\n",
    "from sympy.physics.quantum.qubit import *"
   ]
  },
  {
   "cell_type": "code",
   "execution_count": 11,
   "metadata": {},
   "outputs": [
    {
     "data": {
      "text/latex": [
       "$\\displaystyle {\\left|0\\right\\rangle }$"
      ],
      "text/plain": [
       "|0>"
      ]
     },
     "execution_count": 11,
     "metadata": {},
     "output_type": "execute_result"
    }
   ],
   "source": [
    "v_0 = Qubit(0); v_0"
   ]
  },
  {
   "cell_type": "code",
   "execution_count": 12,
   "metadata": {},
   "outputs": [
    {
     "data": {
      "text/latex": [
       "$\\displaystyle {\\left|1\\right\\rangle }$"
      ],
      "text/plain": [
       "|1>"
      ]
     },
     "execution_count": 12,
     "metadata": {},
     "output_type": "execute_result"
    }
   ],
   "source": [
    "v_1 = Qubit(1); v_1"
   ]
  },
  {
   "cell_type": "code",
   "execution_count": 10,
   "metadata": {},
   "outputs": [],
   "source": [
    "h, w = symbols('h, omega')"
   ]
  },
  {
   "cell_type": "code",
   "execution_count": 15,
   "metadata": {},
   "outputs": [
    {
     "data": {
      "text/latex": [
       "$\\displaystyle 3 h \\omega {\\left|1\\right\\rangle }$"
      ],
      "text/plain": [
       "3*h*omega*|1>"
      ]
     },
     "execution_count": 15,
     "metadata": {},
     "output_type": "execute_result"
    }
   ],
   "source": [
    "H_0 = 3 * h * w * v_1; H_0"
   ]
  },
  {
   "cell_type": "code",
   "execution_count": 16,
   "metadata": {},
   "outputs": [
    {
     "data": {
      "text/latex": [
       "$\\displaystyle 2 i h \\omega {\\left|0\\right\\rangle } {\\left\\langle 1\\right|} - 2 i h \\omega {\\left|1\\right\\rangle } {\\left\\langle 0\\right|}$"
      ],
      "text/plain": [
       "2*I*h*omega*|0>*<1| - 2*I*h*omega*|1>*<0|"
      ]
     },
     "execution_count": 16,
     "metadata": {},
     "output_type": "execute_result"
    }
   ],
   "source": [
    "V = 2 * I * h * w * v_0 * Dagger(v_1) - 2 * I * h * w * v_1 * Dagger(v_0); V"
   ]
  },
  {
   "cell_type": "code",
   "execution_count": 17,
   "metadata": {},
   "outputs": [
    {
     "data": {
      "text/latex": [
       "$\\displaystyle 2 i h \\omega {\\left|0\\right\\rangle } {\\left\\langle 1\\right|} + 3 h \\omega {\\left|1\\right\\rangle } - 2 i h \\omega {\\left|1\\right\\rangle } {\\left\\langle 0\\right|}$"
      ],
      "text/plain": [
       "2*I*h*omega*|0>*<1| + 3*h*omega*|1> - 2*I*h*omega*|1>*<0|"
      ]
     },
     "execution_count": 17,
     "metadata": {},
     "output_type": "execute_result"
    }
   ],
   "source": [
    "H = H_0 + V; H"
   ]
  },
  {
   "cell_type": "code",
   "execution_count": 18,
   "metadata": {},
   "outputs": [
    {
     "data": {
      "text/latex": [
       "$\\displaystyle t$"
      ],
      "text/plain": [
       "t"
      ]
     },
     "execution_count": 18,
     "metadata": {},
     "output_type": "execute_result"
    }
   ],
   "source": [
    "t = symbols('t'); t"
   ]
  },
  {
   "cell_type": "code",
   "execution_count": 19,
   "metadata": {},
   "outputs": [
    {
     "data": {
      "text/latex": [
       "$\\displaystyle e^{- \\frac{i t \\left(2 i h \\omega {\\left|0\\right\\rangle } {\\left\\langle 1\\right|} + 3 h \\omega {\\left|1\\right\\rangle } - 2 i h \\omega {\\left|1\\right\\rangle } {\\left\\langle 0\\right|}\\right)}{h}}$"
      ],
      "text/plain": [
       "exp(-I*t*(2*I*h*omega*|0>*<1| + 3*h*omega*|1> - 2*I*h*omega*|1>*<0|)/h)"
      ]
     },
     "execution_count": 19,
     "metadata": {},
     "output_type": "execute_result"
    }
   ],
   "source": [
    "U_t = exp(-(I/h)*H*t); U_t"
   ]
  },
  {
   "cell_type": "code",
   "execution_count": 20,
   "metadata": {},
   "outputs": [
    {
     "data": {
      "text/latex": [
       "$\\displaystyle e^{- \\frac{i t \\left(2 i h \\omega {\\left|0\\right\\rangle } {\\left\\langle 1\\right|} + 3 h \\omega {\\left|1\\right\\rangle } - 2 i h \\omega {\\left|1\\right\\rangle } {\\left\\langle 0\\right|}\\right)}{h}} {\\left|0\\right\\rangle }$"
      ],
      "text/plain": [
       "exp(-I*t*(2*I*h*omega*|0>*<1| + 3*h*omega*|1> - 2*I*h*omega*|1>*<0|)/h)*|0>"
      ]
     },
     "execution_count": 20,
     "metadata": {},
     "output_type": "execute_result"
    }
   ],
   "source": [
    "state = U_t * v_0; state"
   ]
  },
  {
   "cell_type": "code",
   "execution_count": 21,
   "metadata": {},
   "outputs": [
    {
     "data": {
      "text/latex": [
       "$\\displaystyle {\\left|0\\right\\rangle } e^{\\omega t \\left(2 {\\left|0\\right\\rangle } {\\left\\langle 1\\right|} - 3 i {\\left|1\\right\\rangle } - 2 {\\left|1\\right\\rangle } {\\left\\langle 0\\right|}\\right)}$"
      ],
      "text/plain": [
       "|0>*exp(omega*t*(2*|0>*<1| - 3*I*|1> - 2*|1>*<0|))"
      ]
     },
     "execution_count": 21,
     "metadata": {},
     "output_type": "execute_result"
    }
   ],
   "source": [
    "simplify(state)"
   ]
  },
  {
   "cell_type": "code",
   "execution_count": null,
   "metadata": {},
   "outputs": [],
   "source": []
  }
 ],
 "metadata": {
  "kernelspec": {
   "display_name": "quantum",
   "language": "python",
   "name": "python3"
  },
  "language_info": {
   "codemirror_mode": {
    "name": "ipython",
    "version": 3
   },
   "file_extension": ".py",
   "mimetype": "text/x-python",
   "name": "python",
   "nbconvert_exporter": "python",
   "pygments_lexer": "ipython3",
   "version": "3.11.5"
  }
 },
 "nbformat": 4,
 "nbformat_minor": 2
}
