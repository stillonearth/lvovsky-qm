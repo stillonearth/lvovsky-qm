{
 "cells": [
  {
   "cell_type": "code",
   "execution_count": 1,
   "metadata": {},
   "outputs": [],
   "source": [
    "from sympy import *\n",
    "import numpy as np"
   ]
  },
  {
   "cell_type": "markdown",
   "metadata": {},
   "source": [
    "## A"
   ]
  },
  {
   "cell_type": "code",
   "execution_count": 2,
   "metadata": {},
   "outputs": [],
   "source": [
    "init_printing(use_unicode=True)"
   ]
  },
  {
   "cell_type": "code",
   "execution_count": 24,
   "metadata": {},
   "outputs": [
    {
     "data": {
      "text/latex": [
       "$\\displaystyle \\left[\\begin{matrix}5.0 + 3.0 i & - 3.0 i\\\\-3 & 3\\end{matrix}\\right]$"
      ],
      "text/plain": [
       "⎡5.0 + 3.0⋅ⅈ  -3.0⋅ⅈ⎤\n",
       "⎢                   ⎥\n",
       "⎣    -3         3   ⎦"
      ]
     },
     "execution_count": 24,
     "metadata": {},
     "output_type": "execute_result"
    }
   ],
   "source": [
    "П = Matrix([[5+3j, -3j], [-3, 3]])\n",
    "П"
   ]
  },
  {
   "cell_type": "code",
   "execution_count": 36,
   "metadata": {},
   "outputs": [
    {
     "data": {
      "text/latex": [
       "$\\displaystyle \\left[\\begin{matrix}2.5 & 0.5 i\\\\1.0 + 1.5 i & -1.5 - 1.0 i\\end{matrix}\\right]$"
      ],
      "text/plain": [
       "⎡    2.5       0.5⋅ⅈ  ⎤\n",
       "⎢                     ⎥\n",
       "⎣1.0 + 1.5⋅ⅈ  -1.5 - ⅈ⎦"
      ]
     },
     "execution_count": 36,
     "metadata": {},
     "output_type": "execute_result"
    }
   ],
   "source": [
    "О = Matrix([[5/2, 1j/2], [1+(3j/2), -3/2-1j]])\n",
    "О"
   ]
  },
  {
   "cell_type": "code",
   "execution_count": 37,
   "metadata": {},
   "outputs": [
    {
     "data": {
      "text/latex": [
       "$\\displaystyle \\left[\\begin{matrix}5.0 - 3.0 i & -3\\\\3.0 i & 3\\end{matrix}\\right]$"
      ],
      "text/plain": [
       "⎡5.0 - 3.0⋅ⅈ  -3⎤\n",
       "⎢               ⎥\n",
       "⎣   3.0⋅ⅈ     3 ⎦"
      ]
     },
     "execution_count": 37,
     "metadata": {},
     "output_type": "execute_result"
    }
   ],
   "source": [
    "П_ = conjugate(П.T)\n",
    "П_"
   ]
  },
  {
   "cell_type": "code",
   "execution_count": 38,
   "metadata": {},
   "outputs": [
    {
     "data": {
      "image/png": "[encoded data removed]",
      "text/latex": [
       "$\\displaystyle 3.5 - 9.0 i$"
      ],
      "text/plain": [
       "3.5 - 9.0⋅ⅈ"
      ]
     },
     "execution_count": 38,
     "metadata": {},
     "output_type": "execute_result"
    }
   ],
   "source": [
    "simplify(П_[0,0]*О[0,0] + П_[0,1]*О[0,1] + П_[1,0]*О[1,0] + П_[1,1]*О[1,1])"
   ]
  },
  {
   "cell_type": "code",
   "execution_count": null,
   "metadata": {},
   "outputs": [],
   "source": []
  }
 ],
 "metadata": {
  "kernelspec": {
   "display_name": "jax",
   "language": "python",
   "name": "python3"
  },
  "language_info": {
   "codemirror_mode": {
    "name": "ipython",
    "version": 3
   },
   "file_extension": ".py",
   "mimetype": "text/x-python",
   "name": "python",
   "nbconvert_exporter": "python",
   "pygments_lexer": "ipython3",
   "version": "3.10.12"
  },
  "orig_nbformat": 4
 },
 "nbformat": 4,
 "nbformat_minor": 2
}
