{
 "cells": [
  {
   "cell_type": "code",
   "execution_count": 17,
   "metadata": {},
   "outputs": [],
   "source": [
    "import matplotlib.pyplot as plt"
   ]
  },
  {
   "cell_type": "code",
   "execution_count": 32,
   "metadata": {},
   "outputs": [],
   "source": [
    "from sympy import init_printing, symbols, Function, ln\n",
    "init_printing()\n",
    "\n",
    "n, k, x = symbols(\"n, k, x\")\n",
    "f = sympy.ln\n",
    "\n",
    "# f(x).series(x, x0=h, n=2)"
   ]
  },
  {
   "cell_type": "code",
   "execution_count": 35,
   "metadata": {},
   "outputs": [
    {
     "data": {
      "image/png": "[encoded data removed]",
      "text/latex": [
       "$\\displaystyle x \\left(\\log{\\left(x \\right)} - 1\\right)$"
      ],
      "text/plain": [
       "x⋅(log(x) - 1)"
      ]
     },
     "execution_count": 35,
     "metadata": {},
     "output_type": "execute_result"
    }
   ],
   "source": [
    "stirling = x * (ln(x) - 1)\n",
    "stirling"
   ]
  },
  {
   "cell_type": "code",
   "execution_count": 36,
   "metadata": {},
   "outputs": [
    {
     "ename": "TypeError",
     "evalue": "'Mul' object is not callable",
     "output_type": "error",
     "traceback": [
      "\u001b[0;31m---------------------------------------------------------------------------\u001b[0m",
      "\u001b[0;31mTypeError\u001b[0m                                 Traceback (most recent call last)",
      "\u001b[1;32m/home/cwiz/git/lvovsky-qm/2-59.ipynb Cell 4\u001b[0m line \u001b[0;36m1\n\u001b[0;32m----> <a href='vscode-notebook-cell:/home/cwiz/git/lvovsky-qm/2-59.ipynb#X12sZmlsZQ%3D%3D?line=0'>1</a>\u001b[0m tree_ratio \u001b[39m=\u001b[39m ((\u001b[39m1\u001b[39m\u001b[39m/\u001b[39m\u001b[39m2\u001b[39m)\u001b[39m*\u001b[39m\u001b[39m*\u001b[39m(n))\u001b[39m*\u001b[39mstirling(n) \u001b[39m/\u001b[39m (stirling(k)\u001b[39m*\u001b[39mstirling(n\u001b[39m-\u001b[39mk))\n",
      "\u001b[0;31mTypeError\u001b[0m: 'Mul' object is not callable"
     ]
    }
   ],
   "source": [
    "# tree_ratio = ((1/2)**(n))*stirling(n) / (stirling(k)*stirling(n-k))"
   ]
  },
  {
   "cell_type": "code",
   "execution_count": null,
   "metadata": {},
   "outputs": [],
   "source": []
  }
 ],
 "metadata": {
  "kernelspec": {
   "display_name": "quantum",
   "language": "python",
   "name": "python3"
  },
  "language_info": {
   "codemirror_mode": {
    "name": "ipython",
    "version": 3
   },
   "file_extension": ".py",
   "mimetype": "text/x-python",
   "name": "python",
   "nbconvert_exporter": "python",
   "pygments_lexer": "ipython3",
   "version": "3.11.5"
  }
 },
 "nbformat": 4,
 "nbformat_minor": 2
}
