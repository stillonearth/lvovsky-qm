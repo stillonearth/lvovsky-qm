{
 "cells": [
  {
   "cell_type": "code",
   "execution_count": 4,
   "metadata": {},
   "outputs": [],
   "source": [
    "import numpy as np"
   ]
  },
  {
   "cell_type": "code",
   "execution_count": 5,
   "metadata": {},
   "outputs": [],
   "source": [
    "def A_hwp(alpha):\n",
    "  return np.array([\n",
    "    [-np.cos(2*alpha), -np.sin(2*alpha)],\n",
    "    [-np.sin(2*alpha),  np.cos(2*alpha)]\n",
    "  ])"
   ]
  },
  {
   "cell_type": "code",
   "execution_count": 8,
   "metadata": {},
   "outputs": [
    {
     "data": {
      "text/plain": [
       "array([-1.57079633, -1.47079633, -1.37079633, -1.27079633, -1.17079633,\n",
       "       -1.07079633, -0.97079633, -0.87079633, -0.77079633, -0.67079633,\n",
       "       -0.57079633, -0.47079633, -0.37079633, -0.27079633, -0.17079633,\n",
       "       -0.07079633,  0.02920367,  0.12920367,  0.22920367,  0.32920367,\n",
       "        0.42920367,  0.52920367,  0.62920367,  0.72920367,  0.82920367,\n",
       "        0.92920367,  1.02920367,  1.12920367,  1.22920367,  1.32920367,\n",
       "        1.42920367,  1.52920367])"
      ]
     },
     "execution_count": 8,
     "metadata": {},
     "output_type": "execute_result"
    }
   ],
   "source": [
    "values = np.arange(-np.pi/2, np.pi/2, 0.1); values"
   ]
  },
  {
   "cell_type": "code",
   "execution_count": 11,
   "metadata": {},
   "outputs": [],
   "source": [
    "vs = A_hwp(values)"
   ]
  },
  {
   "cell_type": "code",
   "execution_count": 17,
   "metadata": {},
   "outputs": [
    {
     "name": "stdout",
     "output_type": "stream",
     "text": [
      "[1.0000000e+00 1.2246468e-16]\n",
      "[0.98006658 0.19866933]\n",
      "[0.92106099 0.38941834]\n",
      "[0.82533561 0.56464247]\n",
      "[0.69670671 0.71735609]\n",
      "[0.54030231 0.84147098]\n",
      "[0.36235775 0.93203909]\n",
      "[0.16996714 0.98544973]\n",
      "[-0.02919952  0.9995736 ]\n",
      "[-0.22720209  0.97384763]\n",
      "[-0.41614684  0.90929743]\n",
      "[-0.58850112  0.8084964 ]\n",
      "[-0.73739372  0.67546318]\n",
      "[-0.85688875  0.51550137]\n",
      "[-0.94222234  0.33498815]\n",
      "[-0.9899925   0.14112001]\n",
      "[-0.99829478 -0.05837414]\n",
      "[-0.96679819 -0.2555411 ]\n",
      "[-0.89675842 -0.44252044]\n",
      "[-0.79096771 -0.61185789]\n",
      "[-0.65364362 -0.7568025 ]\n",
      "[-0.49026082 -0.87157577]\n",
      "[-0.30733287 -0.95160207]\n",
      "[-0.11215253 -0.993691  ]\n",
      "[ 0.08749898 -0.99616461]\n",
      "[ 0.28366219 -0.95892427]\n",
      "[ 0.46851667 -0.88345466]\n",
      "[ 0.63469288 -0.77276449]\n",
      "[ 0.77556588 -0.63126664]\n",
      "[ 0.88551952 -0.46460218]\n",
      "[ 0.96017029 -0.2794155 ]\n",
      "[ 0.9965421 -0.0830894]\n"
     ]
    }
   ],
   "source": [
    "ass = []\n",
    "bss = []\n",
    "\n",
    "for v in values:\n",
    "    hwp = A_hwp(v)\n",
    "    result = hwp @ np.array([1, 0]).T\n",
    "    ass.append(result[0])\n",
    "    bss.append(result[1])"
   ]
  },
  {
   "cell_type": "code",
   "execution_count": null,
   "metadata": {},
   "outputs": [],
   "source": [
    "from matplotlib import plt"
   ]
  }
 ],
 "metadata": {
  "kernelspec": {
   "display_name": "jax",
   "language": "python",
   "name": "python3"
  },
  "language_info": {
   "codemirror_mode": {
    "name": "ipython",
    "version": 3
   },
   "file_extension": ".py",
   "mimetype": "text/x-python",
   "name": "python",
   "nbconvert_exporter": "python",
   "pygments_lexer": "ipython3",
   "version": "3.11.7"
  }
 },
 "nbformat": 4,
 "nbformat_minor": 2
}
