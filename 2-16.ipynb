{
 "cells": [
  {
   "cell_type": "code",
   "execution_count": 1,
   "metadata": {},
   "outputs": [],
   "source": [
    "from sympy import *\n",
    "from sympy.physics.quantum import *\n",
    "from sympy.physics.quantum.qubit import *"
   ]
  },
  {
   "cell_type": "code",
   "execution_count": 2,
   "metadata": {},
   "outputs": [],
   "source": [
    "init_printing(use_unicode=True)"
   ]
  },
  {
   "cell_type": "code",
   "execution_count": 3,
   "metadata": {},
   "outputs": [],
   "source": [
    "a1, a2, a3, a4, a5, a6, a7, a8 = symbols('a1:9')"
   ]
  },
  {
   "cell_type": "code",
   "execution_count": 4,
   "metadata": {},
   "outputs": [],
   "source": [
    "b1, b2, b3, b4, b5, b6, b7, b8 = symbols('b1:9')"
   ]
  },
  {
   "cell_type": "code",
   "execution_count": 5,
   "metadata": {},
   "outputs": [
    {
     "data": {
      "text/latex": [
       "$\\displaystyle \\left[\\begin{matrix}a_{1} & a_{2}\\\\a_{3} & a_{4}\\end{matrix}\\right]$"
      ],
      "text/plain": [
       "⎡a₁  a₂⎤\n",
       "⎢      ⎥\n",
       "⎣a₃  a₄⎦"
      ]
     },
     "execution_count": 5,
     "metadata": {},
     "output_type": "execute_result"
    }
   ],
   "source": [
    "A_1 = Matrix([[a1, a2], [a3, a4]]); A_1"
   ]
  },
  {
   "cell_type": "code",
   "execution_count": 6,
   "metadata": {},
   "outputs": [
    {
     "data": {
      "text/latex": [
       "$\\displaystyle \\left[\\begin{matrix}a_{5} & a_{6}\\\\a_{7} & a_{8}\\end{matrix}\\right]$"
      ],
      "text/plain": [
       "⎡a₅  a₆⎤\n",
       "⎢      ⎥\n",
       "⎣a₇  a₈⎦"
      ]
     },
     "execution_count": 6,
     "metadata": {},
     "output_type": "execute_result"
    }
   ],
   "source": [
    "A_2 = Matrix([[a5, a6], [a7, a8]]); A_2"
   ]
  },
  {
   "cell_type": "code",
   "execution_count": 7,
   "metadata": {},
   "outputs": [
    {
     "data": {
      "text/latex": [
       "$\\displaystyle \\left[\\begin{matrix}b_{1} & b_{2}\\\\b_{3} & b_{4}\\end{matrix}\\right]$"
      ],
      "text/plain": [
       "⎡b₁  b₂⎤\n",
       "⎢      ⎥\n",
       "⎣b₃  b₄⎦"
      ]
     },
     "execution_count": 7,
     "metadata": {},
     "output_type": "execute_result"
    }
   ],
   "source": [
    "B_1 = Matrix([[b1, b2], [b3, b4]]); B_1"
   ]
  },
  {
   "cell_type": "code",
   "execution_count": 8,
   "metadata": {},
   "outputs": [
    {
     "data": {
      "text/latex": [
       "$\\displaystyle \\left[\\begin{matrix}b_{5} & b_{6}\\\\b_{7} & b_{8}\\end{matrix}\\right]$"
      ],
      "text/plain": [
       "⎡b₅  b₆⎤\n",
       "⎢      ⎥\n",
       "⎣b₇  b₈⎦"
      ]
     },
     "execution_count": 8,
     "metadata": {},
     "output_type": "execute_result"
    }
   ],
   "source": [
    "B_2 = Matrix([[b5, b6], [b7, b8]]); B_2"
   ]
  },
  {
   "cell_type": "code",
   "execution_count": 10,
   "metadata": {},
   "outputs": [
    {
     "data": {
      "text/latex": [
       "$\\displaystyle \\left[\\begin{matrix}a_{1} a_{5} + a_{2} a_{7} & a_{1} a_{6} + a_{2} a_{8}\\\\a_{3} a_{5} + a_{4} a_{7} & a_{3} a_{6} + a_{4} a_{8}\\end{matrix}\\right]$"
      ],
      "text/plain": [
       "⎡a₁⋅a₅ + a₂⋅a₇  a₁⋅a₆ + a₂⋅a₈⎤\n",
       "⎢                            ⎥\n",
       "⎣a₃⋅a₅ + a₄⋅a₇  a₃⋅a₆ + a₄⋅a₈⎦"
      ]
     },
     "execution_count": 10,
     "metadata": {},
     "output_type": "execute_result"
    }
   ],
   "source": [
    "A = A_1 * A_2; A"
   ]
  },
  {
   "cell_type": "code",
   "execution_count": 11,
   "metadata": {},
   "outputs": [
    {
     "data": {
      "text/latex": [
       "$\\displaystyle \\left[\\begin{matrix}b_{1} b_{5} + b_{2} b_{7} & b_{1} b_{6} + b_{2} b_{8}\\\\b_{3} b_{5} + b_{4} b_{7} & b_{3} b_{6} + b_{4} b_{8}\\end{matrix}\\right]$"
      ],
      "text/plain": [
       "⎡b₁⋅b₅ + b₂⋅b₇  b₁⋅b₆ + b₂⋅b₈⎤\n",
       "⎢                            ⎥\n",
       "⎣b₃⋅b₅ + b₄⋅b₇  b₃⋅b₆ + b₄⋅b₈⎦"
      ]
     },
     "execution_count": 11,
     "metadata": {},
     "output_type": "execute_result"
    }
   ],
   "source": [
    "B = B_1 * B_2; B"
   ]
  },
  {
   "cell_type": "code",
   "execution_count": 26,
   "metadata": {},
   "outputs": [
    {
     "data": {
      "text/latex": [
       "$\\displaystyle \\left[\\begin{matrix}a_{1} a_{5} b_{1} b_{5} + a_{1} a_{5} b_{2} b_{7} + a_{2} a_{7} b_{1} b_{5} + a_{2} a_{7} b_{2} b_{7} & a_{1} a_{5} b_{1} b_{6} + a_{1} a_{5} b_{2} b_{8} + a_{2} a_{7} b_{1} b_{6} + a_{2} a_{7} b_{2} b_{8} & a_{1} a_{6} b_{1} b_{5} + a_{1} a_{6} b_{2} b_{7} + a_{2} a_{8} b_{1} b_{5} + a_{2} a_{8} b_{2} b_{7} & a_{1} a_{6} b_{1} b_{6} + a_{1} a_{6} b_{2} b_{8} + a_{2} a_{8} b_{1} b_{6} + a_{2} a_{8} b_{2} b_{8}\\\\a_{1} a_{5} b_{3} b_{5} + a_{1} a_{5} b_{4} b_{7} + a_{2} a_{7} b_{3} b_{5} + a_{2} a_{7} b_{4} b_{7} & a_{1} a_{5} b_{3} b_{6} + a_{1} a_{5} b_{4} b_{8} + a_{2} a_{7} b_{3} b_{6} + a_{2} a_{7} b_{4} b_{8} & a_{1} a_{6} b_{3} b_{5} + a_{1} a_{6} b_{4} b_{7} + a_{2} a_{8} b_{3} b_{5} + a_{2} a_{8} b_{4} b_{7} & a_{1} a_{6} b_{3} b_{6} + a_{1} a_{6} b_{4} b_{8} + a_{2} a_{8} b_{3} b_{6} + a_{2} a_{8} b_{4} b_{8}\\\\a_{3} a_{5} b_{1} b_{5} + a_{3} a_{5} b_{2} b_{7} + a_{4} a_{7} b_{1} b_{5} + a_{4} a_{7} b_{2} b_{7} & a_{3} a_{5} b_{1} b_{6} + a_{3} a_{5} b_{2} b_{8} + a_{4} a_{7} b_{1} b_{6} + a_{4} a_{7} b_{2} b_{8} & a_{3} a_{6} b_{1} b_{5} + a_{3} a_{6} b_{2} b_{7} + a_{4} a_{8} b_{1} b_{5} + a_{4} a_{8} b_{2} b_{7} & a_{3} a_{6} b_{1} b_{6} + a_{3} a_{6} b_{2} b_{8} + a_{4} a_{8} b_{1} b_{6} + a_{4} a_{8} b_{2} b_{8}\\\\a_{3} a_{5} b_{3} b_{5} + a_{3} a_{5} b_{4} b_{7} + a_{4} a_{7} b_{3} b_{5} + a_{4} a_{7} b_{4} b_{7} & a_{3} a_{5} b_{3} b_{6} + a_{3} a_{5} b_{4} b_{8} + a_{4} a_{7} b_{3} b_{6} + a_{4} a_{7} b_{4} b_{8} & a_{3} a_{6} b_{3} b_{5} + a_{3} a_{6} b_{4} b_{7} + a_{4} a_{8} b_{3} b_{5} + a_{4} a_{8} b_{4} b_{7} & a_{3} a_{6} b_{3} b_{6} + a_{3} a_{6} b_{4} b_{8} + a_{4} a_{8} b_{3} b_{6} + a_{4} a_{8} b_{4} b_{8}\\end{matrix}\\right]$"
      ],
      "text/plain": [
       "⎡a₁⋅a₅⋅b₁⋅b₅ + a₁⋅a₅⋅b₂⋅b₇ + a₂⋅a₇⋅b₁⋅b₅ + a₂⋅a₇⋅b₂⋅b₇  a₁⋅a₅⋅b₁⋅b₆ + a₁⋅a₅⋅b₂\n",
       "⎢                                                                             \n",
       "⎢a₁⋅a₅⋅b₃⋅b₅ + a₁⋅a₅⋅b₄⋅b₇ + a₂⋅a₇⋅b₃⋅b₅ + a₂⋅a₇⋅b₄⋅b₇  a₁⋅a₅⋅b₃⋅b₆ + a₁⋅a₅⋅b₄\n",
       "⎢                                                                             \n",
       "⎢a₃⋅a₅⋅b₁⋅b₅ + a₃⋅a₅⋅b₂⋅b₇ + a₄⋅a₇⋅b₁⋅b₅ + a₄⋅a₇⋅b₂⋅b₇  a₃⋅a₅⋅b₁⋅b₆ + a₃⋅a₅⋅b₂\n",
       "⎢                                                                             \n",
       "⎣a₃⋅a₅⋅b₃⋅b₅ + a₃⋅a₅⋅b₄⋅b₇ + a₄⋅a₇⋅b₃⋅b₅ + a₄⋅a₇⋅b₄⋅b₇  a₃⋅a₅⋅b₃⋅b₆ + a₃⋅a₅⋅b₄\n",
       "\n",
       "⋅b₈ + a₂⋅a₇⋅b₁⋅b₆ + a₂⋅a₇⋅b₂⋅b₈  a₁⋅a₆⋅b₁⋅b₅ + a₁⋅a₆⋅b₂⋅b₇ + a₂⋅a₈⋅b₁⋅b₅ + a₂⋅\n",
       "                                                                              \n",
       "⋅b₈ + a₂⋅a₇⋅b₃⋅b₆ + a₂⋅a₇⋅b₄⋅b₈  a₁⋅a₆⋅b₃⋅b₅ + a₁⋅a₆⋅b₄⋅b₇ + a₂⋅a₈⋅b₃⋅b₅ + a₂⋅\n",
       "                                                                              \n",
       "⋅b₈ + a₄⋅a₇⋅b₁⋅b₆ + a₄⋅a₇⋅b₂⋅b₈  a₃⋅a₆⋅b₁⋅b₅ + a₃⋅a₆⋅b₂⋅b₇ + a₄⋅a₈⋅b₁⋅b₅ + a₄⋅\n",
       "                                                                              \n",
       "⋅b₈ + a₄⋅a₇⋅b₃⋅b₆ + a₄⋅a₇⋅b₄⋅b₈  a₃⋅a₆⋅b₃⋅b₅ + a₃⋅a₆⋅b₄⋅b₇ + a₄⋅a₈⋅b₃⋅b₅ + a₄⋅\n",
       "\n",
       "a₈⋅b₂⋅b₇  a₁⋅a₆⋅b₁⋅b₆ + a₁⋅a₆⋅b₂⋅b₈ + a₂⋅a₈⋅b₁⋅b₆ + a₂⋅a₈⋅b₂⋅b₈⎤\n",
       "                                                               ⎥\n",
       "a₈⋅b₄⋅b₇  a₁⋅a₆⋅b₃⋅b₆ + a₁⋅a₆⋅b₄⋅b₈ + a₂⋅a₈⋅b₃⋅b₆ + a₂⋅a₈⋅b₄⋅b₈⎥\n",
       "                                                               ⎥\n",
       "a₈⋅b₂⋅b₇  a₃⋅a₆⋅b₁⋅b₆ + a₃⋅a₆⋅b₂⋅b₈ + a₄⋅a₈⋅b₁⋅b₆ + a₄⋅a₈⋅b₂⋅b₈⎥\n",
       "                                                               ⎥\n",
       "a₈⋅b₄⋅b₇  a₃⋅a₆⋅b₃⋅b₆ + a₃⋅a₆⋅b₄⋅b₈ + a₄⋅a₈⋅b₃⋅b₆ + a₄⋅a₈⋅b₄⋅b₈⎦"
      ]
     },
     "execution_count": 26,
     "metadata": {},
     "output_type": "execute_result"
    }
   ],
   "source": [
    "result_1 = TensorProduct(A, B).expand(); result_1"
   ]
  },
  {
   "cell_type": "code",
   "execution_count": 22,
   "metadata": {},
   "outputs": [
    {
     "data": {
      "text/latex": [
       "$\\displaystyle \\left[\\begin{matrix}a_{1} b_{1} & a_{1} b_{2} & a_{2} b_{1} & a_{2} b_{2}\\\\a_{1} b_{3} & a_{1} b_{4} & a_{2} b_{3} & a_{2} b_{4}\\\\a_{3} b_{1} & a_{3} b_{2} & a_{4} b_{1} & a_{4} b_{2}\\\\a_{3} b_{3} & a_{3} b_{4} & a_{4} b_{3} & a_{4} b_{4}\\end{matrix}\\right]$"
      ],
      "text/plain": [
       "⎡a₁⋅b₁  a₁⋅b₂  a₂⋅b₁  a₂⋅b₂⎤\n",
       "⎢                          ⎥\n",
       "⎢a₁⋅b₃  a₁⋅b₄  a₂⋅b₃  a₂⋅b₄⎥\n",
       "⎢                          ⎥\n",
       "⎢a₃⋅b₁  a₃⋅b₂  a₄⋅b₁  a₄⋅b₂⎥\n",
       "⎢                          ⎥\n",
       "⎣a₃⋅b₃  a₃⋅b₄  a₄⋅b₃  a₄⋅b₄⎦"
      ]
     },
     "execution_count": 22,
     "metadata": {},
     "output_type": "execute_result"
    }
   ],
   "source": [
    "P_1 = TensorProduct(A_1, B_1); P_1"
   ]
  },
  {
   "cell_type": "code",
   "execution_count": 23,
   "metadata": {},
   "outputs": [
    {
     "data": {
      "text/latex": [
       "$\\displaystyle \\left[\\begin{matrix}a_{5} b_{5} & a_{5} b_{6} & a_{6} b_{5} & a_{6} b_{6}\\\\a_{5} b_{7} & a_{5} b_{8} & a_{6} b_{7} & a_{6} b_{8}\\\\a_{7} b_{5} & a_{7} b_{6} & a_{8} b_{5} & a_{8} b_{6}\\\\a_{7} b_{7} & a_{7} b_{8} & a_{8} b_{7} & a_{8} b_{8}\\end{matrix}\\right]$"
      ],
      "text/plain": [
       "⎡a₅⋅b₅  a₅⋅b₆  a₆⋅b₅  a₆⋅b₆⎤\n",
       "⎢                          ⎥\n",
       "⎢a₅⋅b₇  a₅⋅b₈  a₆⋅b₇  a₆⋅b₈⎥\n",
       "⎢                          ⎥\n",
       "⎢a₇⋅b₅  a₇⋅b₆  a₈⋅b₅  a₈⋅b₆⎥\n",
       "⎢                          ⎥\n",
       "⎣a₇⋅b₇  a₇⋅b₈  a₈⋅b₇  a₈⋅b₈⎦"
      ]
     },
     "execution_count": 23,
     "metadata": {},
     "output_type": "execute_result"
    }
   ],
   "source": [
    "P_2 = TensorProduct(A_2, B_2); P_2"
   ]
  },
  {
   "cell_type": "code",
   "execution_count": 27,
   "metadata": {},
   "outputs": [
    {
     "data": {
      "text/latex": [
       "$\\displaystyle \\left[\\begin{matrix}a_{1} a_{5} b_{1} b_{5} + a_{1} a_{5} b_{2} b_{7} + a_{2} a_{7} b_{1} b_{5} + a_{2} a_{7} b_{2} b_{7} & a_{1} a_{5} b_{1} b_{6} + a_{1} a_{5} b_{2} b_{8} + a_{2} a_{7} b_{1} b_{6} + a_{2} a_{7} b_{2} b_{8} & a_{1} a_{6} b_{1} b_{5} + a_{1} a_{6} b_{2} b_{7} + a_{2} a_{8} b_{1} b_{5} + a_{2} a_{8} b_{2} b_{7} & a_{1} a_{6} b_{1} b_{6} + a_{1} a_{6} b_{2} b_{8} + a_{2} a_{8} b_{1} b_{6} + a_{2} a_{8} b_{2} b_{8}\\\\a_{1} a_{5} b_{3} b_{5} + a_{1} a_{5} b_{4} b_{7} + a_{2} a_{7} b_{3} b_{5} + a_{2} a_{7} b_{4} b_{7} & a_{1} a_{5} b_{3} b_{6} + a_{1} a_{5} b_{4} b_{8} + a_{2} a_{7} b_{3} b_{6} + a_{2} a_{7} b_{4} b_{8} & a_{1} a_{6} b_{3} b_{5} + a_{1} a_{6} b_{4} b_{7} + a_{2} a_{8} b_{3} b_{5} + a_{2} a_{8} b_{4} b_{7} & a_{1} a_{6} b_{3} b_{6} + a_{1} a_{6} b_{4} b_{8} + a_{2} a_{8} b_{3} b_{6} + a_{2} a_{8} b_{4} b_{8}\\\\a_{3} a_{5} b_{1} b_{5} + a_{3} a_{5} b_{2} b_{7} + a_{4} a_{7} b_{1} b_{5} + a_{4} a_{7} b_{2} b_{7} & a_{3} a_{5} b_{1} b_{6} + a_{3} a_{5} b_{2} b_{8} + a_{4} a_{7} b_{1} b_{6} + a_{4} a_{7} b_{2} b_{8} & a_{3} a_{6} b_{1} b_{5} + a_{3} a_{6} b_{2} b_{7} + a_{4} a_{8} b_{1} b_{5} + a_{4} a_{8} b_{2} b_{7} & a_{3} a_{6} b_{1} b_{6} + a_{3} a_{6} b_{2} b_{8} + a_{4} a_{8} b_{1} b_{6} + a_{4} a_{8} b_{2} b_{8}\\\\a_{3} a_{5} b_{3} b_{5} + a_{3} a_{5} b_{4} b_{7} + a_{4} a_{7} b_{3} b_{5} + a_{4} a_{7} b_{4} b_{7} & a_{3} a_{5} b_{3} b_{6} + a_{3} a_{5} b_{4} b_{8} + a_{4} a_{7} b_{3} b_{6} + a_{4} a_{7} b_{4} b_{8} & a_{3} a_{6} b_{3} b_{5} + a_{3} a_{6} b_{4} b_{7} + a_{4} a_{8} b_{3} b_{5} + a_{4} a_{8} b_{4} b_{7} & a_{3} a_{6} b_{3} b_{6} + a_{3} a_{6} b_{4} b_{8} + a_{4} a_{8} b_{3} b_{6} + a_{4} a_{8} b_{4} b_{8}\\end{matrix}\\right]$"
      ],
      "text/plain": [
       "⎡a₁⋅a₅⋅b₁⋅b₅ + a₁⋅a₅⋅b₂⋅b₇ + a₂⋅a₇⋅b₁⋅b₅ + a₂⋅a₇⋅b₂⋅b₇  a₁⋅a₅⋅b₁⋅b₆ + a₁⋅a₅⋅b₂\n",
       "⎢                                                                             \n",
       "⎢a₁⋅a₅⋅b₃⋅b₅ + a₁⋅a₅⋅b₄⋅b₇ + a₂⋅a₇⋅b₃⋅b₅ + a₂⋅a₇⋅b₄⋅b₇  a₁⋅a₅⋅b₃⋅b₆ + a₁⋅a₅⋅b₄\n",
       "⎢                                                                             \n",
       "⎢a₃⋅a₅⋅b₁⋅b₅ + a₃⋅a₅⋅b₂⋅b₇ + a₄⋅a₇⋅b₁⋅b₅ + a₄⋅a₇⋅b₂⋅b₇  a₃⋅a₅⋅b₁⋅b₆ + a₃⋅a₅⋅b₂\n",
       "⎢                                                                             \n",
       "⎣a₃⋅a₅⋅b₃⋅b₅ + a₃⋅a₅⋅b₄⋅b₇ + a₄⋅a₇⋅b₃⋅b₅ + a₄⋅a₇⋅b₄⋅b₇  a₃⋅a₅⋅b₃⋅b₆ + a₃⋅a₅⋅b₄\n",
       "\n",
       "⋅b₈ + a₂⋅a₇⋅b₁⋅b₆ + a₂⋅a₇⋅b₂⋅b₈  a₁⋅a₆⋅b₁⋅b₅ + a₁⋅a₆⋅b₂⋅b₇ + a₂⋅a₈⋅b₁⋅b₅ + a₂⋅\n",
       "                                                                              \n",
       "⋅b₈ + a₂⋅a₇⋅b₃⋅b₆ + a₂⋅a₇⋅b₄⋅b₈  a₁⋅a₆⋅b₃⋅b₅ + a₁⋅a₆⋅b₄⋅b₇ + a₂⋅a₈⋅b₃⋅b₅ + a₂⋅\n",
       "                                                                              \n",
       "⋅b₈ + a₄⋅a₇⋅b₁⋅b₆ + a₄⋅a₇⋅b₂⋅b₈  a₃⋅a₆⋅b₁⋅b₅ + a₃⋅a₆⋅b₂⋅b₇ + a₄⋅a₈⋅b₁⋅b₅ + a₄⋅\n",
       "                                                                              \n",
       "⋅b₈ + a₄⋅a₇⋅b₃⋅b₆ + a₄⋅a₇⋅b₄⋅b₈  a₃⋅a₆⋅b₃⋅b₅ + a₃⋅a₆⋅b₄⋅b₇ + a₄⋅a₈⋅b₃⋅b₅ + a₄⋅\n",
       "\n",
       "a₈⋅b₂⋅b₇  a₁⋅a₆⋅b₁⋅b₆ + a₁⋅a₆⋅b₂⋅b₈ + a₂⋅a₈⋅b₁⋅b₆ + a₂⋅a₈⋅b₂⋅b₈⎤\n",
       "                                                               ⎥\n",
       "a₈⋅b₄⋅b₇  a₁⋅a₆⋅b₃⋅b₆ + a₁⋅a₆⋅b₄⋅b₈ + a₂⋅a₈⋅b₃⋅b₆ + a₂⋅a₈⋅b₄⋅b₈⎥\n",
       "                                                               ⎥\n",
       "a₈⋅b₂⋅b₇  a₃⋅a₆⋅b₁⋅b₆ + a₃⋅a₆⋅b₂⋅b₈ + a₄⋅a₈⋅b₁⋅b₆ + a₄⋅a₈⋅b₂⋅b₈⎥\n",
       "                                                               ⎥\n",
       "a₈⋅b₄⋅b₇  a₃⋅a₆⋅b₃⋅b₆ + a₃⋅a₆⋅b₄⋅b₈ + a₄⋅a₈⋅b₃⋅b₆ + a₄⋅a₈⋅b₄⋅b₈⎦"
      ]
     },
     "execution_count": 27,
     "metadata": {},
     "output_type": "execute_result"
    }
   ],
   "source": [
    "result_2 = simplify(P_1 * P_2).expand(); result_2"
   ]
  },
  {
   "cell_type": "code",
   "execution_count": 28,
   "metadata": {},
   "outputs": [
    {
     "data": {
      "text/plain": [
       "True"
      ]
     },
     "execution_count": 28,
     "metadata": {},
     "output_type": "execute_result"
    }
   ],
   "source": [
    "result_1 == result_2"
   ]
  },
  {
   "cell_type": "code",
   "execution_count": null,
   "metadata": {},
   "outputs": [],
   "source": []
  }
 ],
 "metadata": {
  "kernelspec": {
   "display_name": "jax",
   "language": "python",
   "name": "python3"
  },
  "language_info": {
   "codemirror_mode": {
    "name": "ipython",
    "version": 3
   },
   "file_extension": ".py",
   "mimetype": "text/x-python",
   "name": "python",
   "nbconvert_exporter": "python",
   "pygments_lexer": "ipython3",
   "version": "3.10.12"
  },
  "orig_nbformat": 4
 },
 "nbformat": 4,
 "nbformat_minor": 2
}
