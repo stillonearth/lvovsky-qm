{
 "cells": [
  {
   "cell_type": "code",
   "execution_count": 1,
   "metadata": {},
   "outputs": [],
   "source": [
    "from sympy import *\n",
    "from sympy.physics.quantum import *\n",
    "from sympy.physics.quantum.qubit import *"
   ]
  },
  {
   "cell_type": "code",
   "execution_count": 7,
   "metadata": {},
   "outputs": [],
   "source": [
    "M, E, V0, h = symbols(\"M, E, V0, h\", real=True, positive=True)"
   ]
  },
  {
   "cell_type": "code",
   "execution_count": 8,
   "metadata": {},
   "outputs": [
    {
     "data": {
      "text/latex": [
       "$\\displaystyle \\frac{\\sqrt{2} \\sqrt{E} \\sqrt{M}}{h}$"
      ],
      "text/plain": [
       "sqrt(2)*sqrt(E)*sqrt(M)/h"
      ]
     },
     "execution_count": 8,
     "metadata": {},
     "output_type": "execute_result"
    }
   ],
   "source": [
    "k0 = sqrt(2*M*E) / h; k0"
   ]
  },
  {
   "cell_type": "code",
   "execution_count": 9,
   "metadata": {},
   "outputs": [
    {
     "data": {
      "text/latex": [
       "$\\displaystyle \\frac{\\sqrt{2} \\sqrt{M} \\sqrt{E - V_{0}}}{h}$"
      ],
      "text/plain": [
       "sqrt(2)*sqrt(M)*sqrt(E - V0)/h"
      ]
     },
     "execution_count": 9,
     "metadata": {},
     "output_type": "execute_result"
    }
   ],
   "source": [
    "k1 = sqrt(2*M*(E-V0)) / h; k1"
   ]
  },
  {
   "cell_type": "code",
   "execution_count": 71,
   "metadata": {},
   "outputs": [],
   "source": [
    "k0, k1 = symbols(\"k0, k1\", real=True, positive=True)"
   ]
  },
  {
   "cell_type": "code",
   "execution_count": 139,
   "metadata": {},
   "outputs": [],
   "source": [
    "A, B, C, D, F, G, l = symbols(\"A, B, C, D, F, G, l\")"
   ]
  },
  {
   "cell_type": "code",
   "execution_count": 140,
   "metadata": {},
   "outputs": [
    {
     "data": {
      "text/latex": [
       "$\\displaystyle A + B = C + D$"
      ],
      "text/plain": [
       "Eq(A + B, C + D)"
      ]
     },
     "execution_count": 140,
     "metadata": {},
     "output_type": "execute_result"
    }
   ],
   "source": [
    "eq1 = Eq(A + B, C + D); eq1"
   ]
  },
  {
   "cell_type": "code",
   "execution_count": 141,
   "metadata": {},
   "outputs": [
    {
     "data": {
      "text/latex": [
       "$\\displaystyle i k_{0} \\left(A - B\\right) = i k_{1} \\left(C - D\\right)$"
      ],
      "text/plain": [
       "Eq(I*k0*(A - B), I*k1*(C - D))"
      ]
     },
     "execution_count": 141,
     "metadata": {},
     "output_type": "execute_result"
    }
   ],
   "source": [
    "eq2 = Eq(I*k0*(A - B), I*k1*(C - D)); eq2"
   ]
  },
  {
   "cell_type": "code",
   "execution_count": 142,
   "metadata": {},
   "outputs": [
    {
     "data": {
      "text/latex": [
       "$\\displaystyle C e^{i k_{1} l} + D e^{- i k_{1} l} = F + G$"
      ],
      "text/plain": [
       "Eq(C*exp(I*k1*l) + D*exp(-I*k1*l), F + G)"
      ]
     },
     "execution_count": 142,
     "metadata": {},
     "output_type": "execute_result"
    }
   ],
   "source": [
    "eq3 = Eq(C*exp(I*k1*l) + D*exp(-I*k1*l), F + G); eq3"
   ]
  },
  {
   "cell_type": "code",
   "execution_count": 148,
   "metadata": {},
   "outputs": [
    {
     "data": {
      "text/latex": [
       "$\\displaystyle k_{1} \\left(i C e^{k_{1} l} - i D e^{- k_{1} l}\\right) = k_{0} \\left(F - G\\right)$"
      ],
      "text/plain": [
       "Eq(k1*(I*C*exp(k1*l) - I*D*exp(-k1*l)), k0*(F - G))"
      ]
     },
     "execution_count": 148,
     "metadata": {},
     "output_type": "execute_result"
    }
   ],
   "source": [
    "eq4 = Eq(k1*(I*C*exp(k1*l) - I*D*exp(-k1*l)), k0*(F-G)); eq4"
   ]
  },
  {
   "cell_type": "code",
   "execution_count": 149,
   "metadata": {},
   "outputs": [],
   "source": [
    "solution = solve([eq1, eq2, eq3.subs(G, 0), eq4.subs(G, 0)], [A, B, C, D]);"
   ]
  },
  {
   "cell_type": "code",
   "execution_count": 150,
   "metadata": {},
   "outputs": [
    {
     "data": {
      "text/latex": [
       "$\\displaystyle \\frac{F \\left(- i k_{0}^{2} e^{k_{1} l} + i k_{0}^{2} e^{k_{1} l \\left(1 + 2 i\\right)} - i k_{0} k_{1} e^{k_{1} l} + k_{0} k_{1} e^{i k_{1} l} - i k_{0} k_{1} e^{k_{1} l \\left(1 + 2 i\\right)} + k_{0} k_{1} e^{k_{1} l \\left(2 + i\\right)} + k_{1}^{2} e^{i k_{1} l} - k_{1}^{2} e^{k_{1} l \\left(2 + i\\right)}\\right)}{2 k_{0} k_{1} \\left(e^{2 k_{1} l} + e^{2 i k_{1} l}\\right)}$"
      ],
      "text/plain": [
       "F*(-I*k0**2*exp(k1*l) + I*k0**2*exp(k1*l*(1 + 2*I)) - I*k0*k1*exp(k1*l) + k0*k1*exp(I*k1*l) - I*k0*k1*exp(k1*l*(1 + 2*I)) + k0*k1*exp(k1*l*(2 + I)) + k1**2*exp(I*k1*l) - k1**2*exp(k1*l*(2 + I)))/(2*k0*k1*(exp(2*k1*l) + exp(2*I*k1*l)))"
      ]
     },
     "execution_count": 150,
     "metadata": {},
     "output_type": "execute_result"
    }
   ],
   "source": [
    "A_sol = simplify(solution[A]); A_sol"
   ]
  },
  {
   "cell_type": "code",
   "execution_count": 151,
   "metadata": {},
   "outputs": [
    {
     "data": {
      "text/latex": [
       "$\\displaystyle \\frac{F \\left(- i k_{0}^{2} e^{k_{1} l} + i k_{0}^{2} e^{k_{1} l \\left(1 + 2 i\\right)} + i k_{0} k_{1} e^{k_{1} l} + k_{0} k_{1} e^{i k_{1} l} + i k_{0} k_{1} e^{k_{1} l \\left(1 + 2 i\\right)} + k_{0} k_{1} e^{k_{1} l \\left(2 + i\\right)} - k_{1}^{2} e^{i k_{1} l} + k_{1}^{2} e^{k_{1} l \\left(2 + i\\right)}\\right)}{2 k_{0} k_{1} \\left(e^{2 k_{1} l} + e^{2 i k_{1} l}\\right)}$"
      ],
      "text/plain": [
       "F*(-I*k0**2*exp(k1*l) + I*k0**2*exp(k1*l*(1 + 2*I)) + I*k0*k1*exp(k1*l) + k0*k1*exp(I*k1*l) + I*k0*k1*exp(k1*l*(1 + 2*I)) + k0*k1*exp(k1*l*(2 + I)) - k1**2*exp(I*k1*l) + k1**2*exp(k1*l*(2 + I)))/(2*k0*k1*(exp(2*k1*l) + exp(2*I*k1*l)))"
      ]
     },
     "execution_count": 151,
     "metadata": {},
     "output_type": "execute_result"
    }
   ],
   "source": [
    "B_sol = simplify(solution[B]); B_sol"
   ]
  },
  {
   "cell_type": "code",
   "execution_count": 156,
   "metadata": {},
   "outputs": [
    {
     "data": {
      "text/latex": [
       "$\\displaystyle 4 k_{0}^{2} k_{1}^{2} \\left|{\\frac{e^{2 k_{1} l} + e^{2 i k_{1} l}}{i k_{0}^{2} e^{k_{1} l} - i k_{0}^{2} e^{k_{1} l \\left(1 + 2 i\\right)} + i k_{0} k_{1} e^{k_{1} l} - k_{0} k_{1} e^{i k_{1} l} + i k_{0} k_{1} e^{k_{1} l \\left(1 + 2 i\\right)} - k_{0} k_{1} e^{k_{1} l \\left(2 + i\\right)} - k_{1}^{2} e^{i k_{1} l} + k_{1}^{2} e^{k_{1} l \\left(2 + i\\right)}}}\\right|^{2}$"
      ],
      "text/plain": [
       "4*k0**2*k1**2*Abs((exp(2*k1*l) + exp(2*I*k1*l))/(I*k0**2*exp(k1*l) - I*k0**2*exp(k1*l*(1 + 2*I)) + I*k0*k1*exp(k1*l) - k0*k1*exp(I*k1*l) + I*k0*k1*exp(k1*l*(1 + 2*I)) - k0*k1*exp(k1*l*(2 + I)) - k1**2*exp(I*k1*l) + k1**2*exp(k1*l*(2 + I))))**2"
      ]
     },
     "execution_count": 156,
     "metadata": {},
     "output_type": "execute_result"
    }
   ],
   "source": [
    "coef_f_a = simplify(abs(F / A_sol) ** 2); coef_f_a"
   ]
  },
  {
   "cell_type": "code",
   "execution_count": 157,
   "metadata": {},
   "outputs": [
    {
     "data": {
      "text/latex": [
       "$\\displaystyle \\left|{\\frac{- i k_{0}^{2} e^{k_{1} l} + i k_{0}^{2} e^{k_{1} l \\left(1 + 2 i\\right)} + i k_{0} k_{1} e^{k_{1} l} + k_{0} k_{1} e^{i k_{1} l} + i k_{0} k_{1} e^{k_{1} l \\left(1 + 2 i\\right)} + k_{0} k_{1} e^{k_{1} l \\left(2 + i\\right)} - k_{1}^{2} e^{i k_{1} l} + k_{1}^{2} e^{k_{1} l \\left(2 + i\\right)}}{i k_{0}^{2} e^{k_{1} l} - i k_{0}^{2} e^{k_{1} l \\left(1 + 2 i\\right)} + i k_{0} k_{1} e^{k_{1} l} - k_{0} k_{1} e^{i k_{1} l} + i k_{0} k_{1} e^{k_{1} l \\left(1 + 2 i\\right)} - k_{0} k_{1} e^{k_{1} l \\left(2 + i\\right)} - k_{1}^{2} e^{i k_{1} l} + k_{1}^{2} e^{k_{1} l \\left(2 + i\\right)}}}\\right|^{2}$"
      ],
      "text/plain": [
       "Abs((-I*k0**2*exp(k1*l) + I*k0**2*exp(k1*l*(1 + 2*I)) + I*k0*k1*exp(k1*l) + k0*k1*exp(I*k1*l) + I*k0*k1*exp(k1*l*(1 + 2*I)) + k0*k1*exp(k1*l*(2 + I)) - k1**2*exp(I*k1*l) + k1**2*exp(k1*l*(2 + I)))/(I*k0**2*exp(k1*l) - I*k0**2*exp(k1*l*(1 + 2*I)) + I*k0*k1*exp(k1*l) - k0*k1*exp(I*k1*l) + I*k0*k1*exp(k1*l*(1 + 2*I)) - k0*k1*exp(k1*l*(2 + I)) - k1**2*exp(I*k1*l) + k1**2*exp(k1*l*(2 + I))))**2"
      ]
     },
     "execution_count": 157,
     "metadata": {},
     "output_type": "execute_result"
    }
   ],
   "source": [
    "coef_b_a = simplify(abs(B_sol / A_sol) ** 2); coef_b_a"
   ]
  },
  {
   "cell_type": "code",
   "execution_count": null,
   "metadata": {},
   "outputs": [],
   "source": [
    "## close but not equal to book solution"
   ]
  }
 ],
 "metadata": {
  "kernelspec": {
   "display_name": "quantum",
   "language": "python",
   "name": "python3"
  },
  "language_info": {
   "codemirror_mode": {
    "name": "ipython",
    "version": 3
   },
   "file_extension": ".py",
   "mimetype": "text/x-python",
   "name": "python",
   "nbconvert_exporter": "python",
   "pygments_lexer": "ipython3",
   "version": "3.11.5"
  }
 },
 "nbformat": 4,
 "nbformat_minor": 2
}
