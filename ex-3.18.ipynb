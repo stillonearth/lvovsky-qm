{
 "cells": [
  {
   "cell_type": "code",
   "execution_count": 1,
   "metadata": {},
   "outputs": [],
   "source": [
    "from sympy import *\n",
    "from sympy import init_printing\n",
    "from sympy.physics.quantum import Dagger\n",
    "\n",
    "init_printing(use_latex=\"mathjax\")"
   ]
  },
  {
   "cell_type": "code",
   "execution_count": 3,
   "metadata": {},
   "outputs": [],
   "source": [
    "a, n = symbols('a n', real=True, positive=True)"
   ]
  },
  {
   "cell_type": "code",
   "execution_count": 16,
   "metadata": {},
   "outputs": [
    {
     "data": {
      "text/latex": [
       "$\\displaystyle e^{- \\frac{a^{2}}{2}} \\sum_{n=0}^{\\infty} \\frac{a^{n}}{\\sqrt{n!}}$"
      ],
      "text/plain": [
       "        ∞         \n",
       "      _____       \n",
       "   2  ╲           \n",
       " -a    ╲          \n",
       " ────   ╲      n  \n",
       "  2      ╲    a   \n",
       "ℯ    ⋅   ╱  ──────\n",
       "        ╱     ____\n",
       "       ╱    ╲╱ n! \n",
       "      ╱           \n",
       "      ‾‾‾‾‾       \n",
       "      n = 0       "
      ]
     },
     "execution_count": 16,
     "metadata": {},
     "output_type": "execute_result"
    }
   ],
   "source": [
    "alpha = exp(-(abs(a)**2)/2) * Sum((a**n)/sqrt(factorial(n)), (n, 0, oo)); alpha"
   ]
  },
  {
   "cell_type": "code",
   "execution_count": 18,
   "metadata": {},
   "outputs": [
    {
     "data": {
      "text/latex": [
       "$\\displaystyle e^{- a^{2}} \\left(\\sum_{n=0}^{\\infty} \\frac{a^{n}}{\\sqrt{\\Gamma\\left(n + 1\\right)}}\\right)^{2}$"
      ],
      "text/plain": [
       "                         2\n",
       "     ⎛  ∞               ⎞ \n",
       "     ⎜_____             ⎟ \n",
       "     ⎜╲                 ⎟ \n",
       "     ⎜ ╲                ⎟ \n",
       "   2 ⎜  ╲         n     ⎟ \n",
       " -a  ⎜   ╲       a      ⎟ \n",
       "ℯ   ⋅⎜   ╱  ────────────⎟ \n",
       "     ⎜  ╱     __________⎟ \n",
       "     ⎜ ╱    ╲╱ Γ(n + 1) ⎟ \n",
       "     ⎜╱                 ⎟ \n",
       "     ⎜‾‾‾‾‾             ⎟ \n",
       "     ⎝n = 0             ⎠ "
      ]
     },
     "execution_count": 18,
     "metadata": {},
     "output_type": "execute_result"
    }
   ],
   "source": [
    "S = simplify(alpha * alpha); S"
   ]
  },
  {
   "cell_type": "code",
   "execution_count": 24,
   "metadata": {},
   "outputs": [
    {
     "data": {
      "text/latex": [
       "$\\displaystyle \\left(\\sqrt{\\left(\\sum_{n=0}^{\\infty} \\frac{a^{n}}{\\sqrt{\\Gamma\\left(n + 1\\right)}}^{\\dagger}\\right)^{2}}\\right) e^{- a^{2}} \\left|{\\sum_{n=0}^{\\infty} \\frac{a^{n}}{\\sqrt{\\Gamma\\left(n + 1\\right)}}}\\right|$"
      ],
      "text/plain": [
       "               __________________________                          \n",
       "              ╱                        2                           \n",
       "             ╱  ⎛                    †⎞                            \n",
       "            ╱   ⎜⎛  ∞               ⎞ ⎟        │  ∞               │\n",
       "           ╱    ⎜⎜_____             ⎟ ⎟        │_____             │\n",
       "          ╱     ⎜⎜╲                 ⎟ ⎟        │╲                 │\n",
       "         ╱      ⎜⎜ ╲                ⎟ ⎟        │ ╲                │\n",
       "        ╱       ⎜⎜  ╲         n     ⎟ ⎟      2 │  ╲         n     │\n",
       "       ╱        ⎜⎜   ╲       a      ⎟ ⎟    -a  │   ╲       a      │\n",
       "      ╱         ⎜⎜   ╱  ────────────⎟ ⎟  ⋅ℯ   ⋅│   ╱  ────────────│\n",
       "     ╱          ⎜⎜  ╱     __________⎟ ⎟        │  ╱     __________│\n",
       "    ╱           ⎜⎜ ╱    ╲╱ Γ(n + 1) ⎟ ⎟        │ ╱    ╲╱ Γ(n + 1) │\n",
       "   ╱            ⎜⎜╱                 ⎟ ⎟        │╱                 │\n",
       "  ╱             ⎜⎜‾‾‾‾‾             ⎟ ⎟        │‾‾‾‾‾             │\n",
       "╲╱              ⎝⎝n = 0             ⎠ ⎠        │n = 0             │"
      ]
     },
     "execution_count": 24,
     "metadata": {},
     "output_type": "execute_result"
    }
   ],
   "source": [
    "exp = simplify(sqrt(Dagger(S) * S)); exp"
   ]
  },
  {
   "cell_type": "code",
   "execution_count": 31,
   "metadata": {},
   "outputs": [
    {
     "data": {
      "text/latex": [
       "$\\displaystyle \\lim_{a \\to 0^+}\\left(\\left(\\sqrt{\\left(\\sum_{n=0}^{\\infty} \\frac{a^{n}}{\\sqrt{\\Gamma\\left(n + 1\\right)}}^{\\dagger}\\right)^{2}}\\right) e^{- a^{2}} \\left|{\\sum_{n=0}^{\\infty} \\frac{a^{n}}{\\sqrt{\\Gamma\\left(n + 1\\right)}}}\\right|\\right)$"
      ],
      "text/plain": [
       "     ⎛               __________________________                          ⎞\n",
       "     ⎜              ╱                        2                           ⎟\n",
       "     ⎜             ╱  ⎛                    †⎞                            ⎟\n",
       "     ⎜            ╱   ⎜⎛  ∞               ⎞ ⎟        │  ∞               │⎟\n",
       "     ⎜           ╱    ⎜⎜_____             ⎟ ⎟        │_____             │⎟\n",
       "     ⎜          ╱     ⎜⎜╲                 ⎟ ⎟        │╲                 │⎟\n",
       "     ⎜         ╱      ⎜⎜ ╲                ⎟ ⎟        │ ╲                │⎟\n",
       "     ⎜        ╱       ⎜⎜  ╲         n     ⎟ ⎟      2 │  ╲         n     │⎟\n",
       "     ⎜       ╱        ⎜⎜   ╲       a      ⎟ ⎟    -a  │   ╲       a      │⎟\n",
       " lim ⎜      ╱         ⎜⎜   ╱  ────────────⎟ ⎟  ⋅ℯ   ⋅│   ╱  ────────────│⎟\n",
       "a─→0⁺⎜     ╱          ⎜⎜  ╱     __________⎟ ⎟        │  ╱     __________│⎟\n",
       "     ⎜    ╱           ⎜⎜ ╱    ╲╱ Γ(n + 1) ⎟ ⎟        │ ╱    ╲╱ Γ(n + 1) │⎟\n",
       "     ⎜   ╱            ⎜⎜╱                 ⎟ ⎟        │╱                 │⎟\n",
       "     ⎜  ╱             ⎜⎜‾‾‾‾‾             ⎟ ⎟        │‾‾‾‾‾             │⎟\n",
       "     ⎝╲╱              ⎝⎝n = 0             ⎠ ⎠        │n = 0             │⎠"
      ]
     },
     "execution_count": 31,
     "metadata": {},
     "output_type": "execute_result"
    }
   ],
   "source": [
    "limit(exp, a, -0)"
   ]
  },
  {
   "cell_type": "code",
   "execution_count": 32,
   "metadata": {},
   "outputs": [
    {
     "data": {
      "text/latex": [
       "$\\displaystyle e^{- a^{2}} \\left(\\sum_{n=0}^{\\infty} \\frac{a^{n}}{\\sqrt{\\Gamma\\left(n + 1\\right)}}\\right)^{2}$"
      ],
      "text/plain": [
       "                         2\n",
       "     ⎛  ∞               ⎞ \n",
       "     ⎜_____             ⎟ \n",
       "     ⎜╲                 ⎟ \n",
       "     ⎜ ╲                ⎟ \n",
       "   2 ⎜  ╲         n     ⎟ \n",
       " -a  ⎜   ╲       a      ⎟ \n",
       "ℯ   ⋅⎜   ╱  ────────────⎟ \n",
       "     ⎜  ╱     __________⎟ \n",
       "     ⎜ ╱    ╲╱ Γ(n + 1) ⎟ \n",
       "     ⎜╱                 ⎟ \n",
       "     ⎜‾‾‾‾‾             ⎟ \n",
       "     ⎝n = 0             ⎠ "
      ]
     },
     "execution_count": 32,
     "metadata": {},
     "output_type": "execute_result"
    }
   ],
   "source": [
    "S"
   ]
  },
  {
   "cell_type": "code",
   "execution_count": 35,
   "metadata": {},
   "outputs": [
    {
     "data": {
      "text/latex": [
       "$\\displaystyle -5$"
      ],
      "text/plain": [
       "-5"
      ]
     },
     "execution_count": 35,
     "metadata": {},
     "output_type": "execute_result"
    }
   ],
   "source": [
    "-5^0"
   ]
  },
  {
   "cell_type": "code",
   "execution_count": 36,
   "metadata": {},
   "outputs": [
    {
     "data": {
      "text/latex": [
       "$\\displaystyle 1$"
      ],
      "text/plain": [
       "1"
      ]
     },
     "execution_count": 36,
     "metadata": {},
     "output_type": "execute_result"
    }
   ],
   "source": [
    "factorial(0)"
   ]
  },
  {
   "cell_type": "code",
   "execution_count": 37,
   "metadata": {},
   "outputs": [],
   "source": [
    "l = symbols(\"l\")"
   ]
  },
  {
   "cell_type": "code",
   "execution_count": 39,
   "metadata": {},
   "outputs": [
    {
     "data": {
      "text/latex": [
       "$\\displaystyle 0$"
      ],
      "text/plain": [
       "0"
      ]
     },
     "execution_count": 39,
     "metadata": {},
     "output_type": "execute_result"
    }
   ],
   "source": [
    "l**1 + (-l)**1"
   ]
  },
  {
   "cell_type": "code",
   "execution_count": null,
   "metadata": {},
   "outputs": [],
   "source": []
  }
 ],
 "metadata": {
  "kernelspec": {
   "display_name": "quantum",
   "language": "python",
   "name": "python3"
  },
  "language_info": {
   "codemirror_mode": {
    "name": "ipython",
    "version": 3
   },
   "file_extension": ".py",
   "mimetype": "text/x-python",
   "name": "python",
   "nbconvert_exporter": "python",
   "pygments_lexer": "ipython3",
   "version": "3.11.5"
  }
 },
 "nbformat": 4,
 "nbformat_minor": 2
}
