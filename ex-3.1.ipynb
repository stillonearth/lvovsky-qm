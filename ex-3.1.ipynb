{
  "nbformat": 4,
  "nbformat_minor": 0,
  "metadata": {
    "colab": {
      "provenance": []
    },
    "kernelspec": {
      "name": "python3",
      "display_name": "Python 3"
    },
    "language_info": {
      "name": "python"
    }
  },
  "cells": [
    {
      "cell_type": "code",
      "execution_count": 16,
      "metadata": {
        "id": "rIvGvjPVhky2"
      },
      "outputs": [],
      "source": [
        "# prompt: import sympy for quantum\n",
        "\n",
        "from sympy import *\n",
        "from sympy import init_printing\n",
        "from sympy.physics.quantum import Dagger\n",
        "\n",
        "init_printing(use_latex=\"mathjax\")\n"
      ]
    },
    {
      "cell_type": "code",
      "source": [
        "A, x, k, p, h_hat = symbols(\"A, x, k, p, hhat\", real=True, nonzero=True)"
      ],
      "metadata": {
        "id": "B-dfYJNxhpYv"
      },
      "execution_count": 17,
      "outputs": []
    },
    {
      "cell_type": "code",
      "source": [
        "#A = 1 / (sp.exp(k) * sp.pi**(1./4)); A"
      ],
      "metadata": {
        "id": "TCufWgaopVng"
      },
      "execution_count": 3,
      "outputs": []
    },
    {
      "cell_type": "code",
      "source": [
        "Psi_x = A * x * exp(-k**2 * x**2 / 2) ; Psi_x"
      ],
      "metadata": {
        "colab": {
          "base_uri": "https://localhost:8080/",
          "height": 43
        },
        "id": "rPaXkZOwht2v",
        "outputId": "e3dfbc63-6bbd-41c0-c7bc-111422d3ffd7"
      },
      "execution_count": 18,
      "outputs": [
        {
          "output_type": "execute_result",
          "data": {
            "text/plain": [
              "       2  2 \n",
              "     -k ⋅x  \n",
              "     ───────\n",
              "        2   \n",
              "A⋅x⋅ℯ       "
            ],
            "text/latex": "$\\displaystyle A x e^{- \\frac{k^{2} x^{2}}{2}}$"
          },
          "metadata": {},
          "execution_count": 18
        }
      ]
    },
    {
      "cell_type": "code",
      "source": [
        "expression = Psi_x * exp(-sp.I*p*x/h_hat); expression"
      ],
      "metadata": {
        "colab": {
          "base_uri": "https://localhost:8080/",
          "height": 43
        },
        "id": "c6maFz0niajo",
        "outputId": "b0010697-c5d0-4b0a-c845-8b4f932032d0"
      },
      "execution_count": 19,
      "outputs": [
        {
          "output_type": "execute_result",
          "data": {
            "text/plain": [
              "       2  2          \n",
              "     -k ⋅x    -ⅈ⋅p⋅x \n",
              "     ───────  ───────\n",
              "        2        ĥ  \n",
              "A⋅x⋅ℯ       ⋅ℯ       "
            ],
            "text/latex": "$\\displaystyle A x e^{- \\frac{k^{2} x^{2}}{2}} e^{- \\frac{i p x}{\\hat{h}}}$"
          },
          "metadata": {},
          "execution_count": 19
        }
      ]
    },
    {
      "cell_type": "code",
      "source": [
        "expression = simplify(expression); expression"
      ],
      "metadata": {
        "colab": {
          "base_uri": "https://localhost:8080/",
          "height": 45
        },
        "id": "2Y2EKq_dpkgs",
        "outputId": "51d61ed4-b739-4e9f-dcb3-ab47459578cd"
      },
      "execution_count": 20,
      "outputs": [
        {
          "output_type": "execute_result",
          "data": {
            "text/plain": [
              "        ⎛ 2        ⎞\n",
              "        ⎜k ⋅x   ⅈ⋅p⎟\n",
              "     -x⋅⎜──── + ───⎟\n",
              "        ⎝ 2      ĥ⎠\n",
              "A⋅x⋅ℯ               "
            ],
            "text/latex": "$\\displaystyle A x e^{- x \\left(\\frac{k^{2} x}{2} + \\frac{i p}{\\hat{h}}\\right)}$"
          },
          "metadata": {},
          "execution_count": 20
        }
      ]
    },
    {
      "cell_type": "code",
      "source": [
        "psi_p = 1 / (pi * 2) * integrate(expression, x )\n",
        "psi_p"
      ],
      "metadata": {
        "colab": {
          "base_uri": "https://localhost:8080/",
          "height": 60
        },
        "id": "J6dFHegNh4Pc",
        "outputId": "964bec41-231f-4fd5-d6a9-919545400ef4"
      },
      "execution_count": 23,
      "outputs": [
        {
          "output_type": "execute_result",
          "data": {
            "text/plain": [
              "  ⌠                       \n",
              "  ⎮      2  2             \n",
              "  ⎮    -k ⋅x    -ⅈ⋅p⋅x    \n",
              "  ⎮    ───────  ───────   \n",
              "  ⎮       2        ĥ     \n",
              "A⋅⎮ x⋅ℯ       ⋅ℯ        dx\n",
              "  ⌡                       \n",
              "──────────────────────────\n",
              "           2⋅π            "
            ],
            "text/latex": "$\\displaystyle \\frac{A \\int x e^{- \\frac{k^{2} x^{2}}{2}} e^{- \\frac{i p x}{\\hat{h}}}\\, dx}{2 \\pi}$"
          },
          "metadata": {},
          "execution_count": 23
        }
      ]
    },
    {
      "cell_type": "code",
      "source": [
        "psi_p = sp.simplify(psi_p); psi_p"
      ],
      "metadata": {
        "colab": {
          "base_uri": "https://localhost:8080/",
          "height": 60
        },
        "id": "sxyHYZF6pvdh",
        "outputId": "742662ff-60af-4d3c-a0f5-563ee05aa3b2"
      },
      "execution_count": 24,
      "outputs": [
        {
          "output_type": "execute_result",
          "data": {
            "text/plain": [
              "  ⌠                       \n",
              "  ⎮      2  2             \n",
              "  ⎮    -k ⋅x    -ⅈ⋅p⋅x    \n",
              "  ⎮    ───────  ───────   \n",
              "  ⎮       2        ĥ     \n",
              "A⋅⎮ x⋅ℯ       ⋅ℯ        dx\n",
              "  ⌡                       \n",
              "──────────────────────────\n",
              "           2⋅π            "
            ],
            "text/latex": "$\\displaystyle \\frac{A \\int x e^{- \\frac{k^{2} x^{2}}{2}} e^{- \\frac{i p x}{\\hat{h}}}\\, dx}{2 \\pi}$"
          },
          "metadata": {},
          "execution_count": 24
        }
      ]
    },
    {
      "cell_type": "code",
      "source": [
        "x_mean = sp.integrate(x * abs(Psi_x) **2, x); x_mean"
      ],
      "metadata": {
        "colab": {
          "base_uri": "https://localhost:8080/",
          "height": 58
        },
        "id": "7xUCtStuh9Iv",
        "outputId": "d94e2d2e-4968-453a-cfba-64362bdf34e4"
      },
      "execution_count": 25,
      "outputs": [
        {
          "output_type": "execute_result",
          "data": {
            "text/plain": [
              "                     2  2\n",
              "⎛   2  2  2    2⎞  -k ⋅x \n",
              "⎝- A ⋅k ⋅x  - A ⎠⋅ℯ      \n",
              "─────────────────────────\n",
              "              4          \n",
              "           2⋅k           "
            ],
            "text/latex": "$\\displaystyle \\frac{\\left(- A^{2} k^{2} x^{2} - A^{2}\\right) e^{- k^{2} x^{2}}}{2 k^{4}}$"
          },
          "metadata": {},
          "execution_count": 25
        }
      ]
    },
    {
      "cell_type": "code",
      "source": [
        "x_square_mean = sp.integrate(x**2 * abs(Psi_x) **2, x); x_square_mean"
      ],
      "metadata": {
        "colab": {
          "base_uri": "https://localhost:8080/",
          "height": 68
        },
        "id": "YWqqbifumoHN",
        "outputId": "80c1e5ba-fd9a-47e1-8b62-1fb3e73fd7cd"
      },
      "execution_count": 26,
      "outputs": [
        {
          "output_type": "execute_result",
          "data": {
            "text/plain": [
              "   ⎛        2  2          2  2                  ⎞\n",
              "   ⎜   3  -k ⋅x         -k ⋅x                   ⎟\n",
              " 2 ⎜  x ⋅ℯ         3⋅x⋅ℯ         3⋅√π⋅erf(x⋅│k│)⎟\n",
              "A ⋅⎜- ────────── - ─────────── + ───────────────⎟\n",
              "   ⎜        2             4             4       ⎟\n",
              "   ⎝     2⋅k           4⋅k           8⋅k ⋅│k│   ⎠"
            ],
            "text/latex": "$\\displaystyle A^{2} \\left(- \\frac{x^{3} e^{- k^{2} x^{2}}}{2 k^{2}} - \\frac{3 x e^{- k^{2} x^{2}}}{4 k^{4}} + \\frac{3 \\sqrt{\\pi} \\operatorname{erf}{\\left(x \\left|{k}\\right| \\right)}}{8 k^{4} \\left|{k}\\right|}\\right)$"
          },
          "metadata": {},
          "execution_count": 26
        }
      ]
    },
    {
      "cell_type": "code",
      "source": [
        "x_mse = sp.simplify(x_square_mean - x_mean**2); x_mse"
      ],
      "metadata": {
        "colab": {
          "base_uri": "https://localhost:8080/",
          "height": 70
        },
        "id": "BzoHk2_WnPrH",
        "outputId": "d7d29aaa-4ac8-423a-a6f9-b7da32a1eedf"
      },
      "execution_count": 27,
      "outputs": [
        {
          "output_type": "execute_result",
          "data": {
            "text/plain": [
              "   ⎛                  2          ⎛                                 2  2       \n",
              " 2 ⎜     2 ⎛ 2  2    ⎞         4 ⎜     2  3                       k ⋅x        \n",
              "A ⋅⎝- 2⋅A ⋅⎝k ⋅x  + 1⎠ ⋅│k│ + k ⋅⎝- 4⋅k ⋅x ⋅│k│ - 6⋅x⋅│k│ + 3⋅√π⋅ℯ     ⋅erf(x⋅\n",
              "──────────────────────────────────────────────────────────────────────────────\n",
              "                                                  8                           \n",
              "                                               8⋅k ⋅│k│                       \n",
              "\n",
              "    ⎞   2  2⎞      2  2\n",
              "    ⎟  k ⋅x ⎟  -2⋅k ⋅x \n",
              "│k│)⎠⋅ℯ     ⎠⋅ℯ        \n",
              "───────────────────────\n",
              "                       \n",
              "                       "
            ],
            "text/latex": "$\\displaystyle \\frac{A^{2} \\left(- 2 A^{2} \\left(k^{2} x^{2} + 1\\right)^{2} \\left|{k}\\right| + k^{4} \\left(- 4 k^{2} x^{3} \\left|{k}\\right| - 6 x \\left|{k}\\right| + 3 \\sqrt{\\pi} e^{k^{2} x^{2}} \\operatorname{erf}{\\left(x \\left|{k}\\right| \\right)}\\right) e^{k^{2} x^{2}}\\right) e^{- 2 k^{2} x^{2}}}{8 k^{8} \\left|{k}\\right|}$"
          },
          "metadata": {},
          "execution_count": 27
        }
      ]
    },
    {
      "cell_type": "code",
      "source": [
        "p_mean = sp.integrate(Dagger(psi_p)*p*psi_p, p); p_mean"
      ],
      "metadata": {
        "colab": {
          "base_uri": "https://localhost:8080/",
          "height": 66
        },
        "id": "2fVJXrv6niia",
        "outputId": "645a1223-6318-4984-d300-8bc1cb7b1460"
      },
      "execution_count": 28,
      "outputs": [
        {
          "output_type": "execute_result",
          "data": {
            "text/plain": [
              "   ⌠                                                     \n",
              "   ⎮   ⌠                        ⌠                        \n",
              "   ⎮   ⎮      2  2              ⎮      2  2              \n",
              "   ⎮   ⎮    -k ⋅x    -ⅈ⋅p⋅x     ⎮    -k ⋅x    ⅈ⋅p⋅x      \n",
              "   ⎮   ⎮    ───────  ───────    ⎮    ───────  ─────      \n",
              " 2 ⎮   ⎮       2        ĥ      ⎮       2       ĥ       \n",
              "A ⋅⎮ p⋅⎮ x⋅ℯ       ⋅ℯ        dx⋅⎮ x⋅ℯ       ⋅ℯ      dx dp\n",
              "   ⎮   ⌡                        ⌡                        \n",
              "   ⌡                                                     \n",
              "─────────────────────────────────────────────────────────\n",
              "                              2                          \n",
              "                           4⋅π                           "
            ],
            "text/latex": "$\\displaystyle \\frac{A^{2} \\int p \\left(\\int x e^{- \\frac{k^{2} x^{2}}{2}} e^{- \\frac{i p x}{\\hat{h}}}\\, dx\\right) \\int x e^{- \\frac{k^{2} x^{2}}{2}} e^{\\frac{i p x}{\\hat{h}}}\\, dx\\, dp}{4 \\pi^{2}}$"
          },
          "metadata": {},
          "execution_count": 28
        }
      ]
    },
    {
      "cell_type": "code",
      "source": [
        "p_mean_square = sp.integrate(Dagger(psi_p)*p**2*psi_p, p); p_mean_square"
      ],
      "metadata": {
        "colab": {
          "base_uri": "https://localhost:8080/",
          "height": 66
        },
        "id": "md2G2_IZoDVS",
        "outputId": "ad8b2dad-de69-404a-cee4-15d982ddbf27"
      },
      "execution_count": 29,
      "outputs": [
        {
          "output_type": "execute_result",
          "data": {
            "text/plain": [
              "   ⌠                                                      \n",
              "   ⎮    ⌠                        ⌠                        \n",
              "   ⎮    ⎮      2  2              ⎮      2  2              \n",
              "   ⎮    ⎮    -k ⋅x    -ⅈ⋅p⋅x     ⎮    -k ⋅x    ⅈ⋅p⋅x      \n",
              "   ⎮    ⎮    ───────  ───────    ⎮    ───────  ─────      \n",
              " 2 ⎮  2 ⎮       2        ĥ      ⎮       2       ĥ       \n",
              "A ⋅⎮ p ⋅⎮ x⋅ℯ       ⋅ℯ        dx⋅⎮ x⋅ℯ       ⋅ℯ      dx dp\n",
              "   ⎮    ⌡                        ⌡                        \n",
              "   ⌡                                                      \n",
              "──────────────────────────────────────────────────────────\n",
              "                              2                           \n",
              "                           4⋅π                            "
            ],
            "text/latex": "$\\displaystyle \\frac{A^{2} \\int p^{2} \\left(\\int x e^{- \\frac{k^{2} x^{2}}{2}} e^{- \\frac{i p x}{\\hat{h}}}\\, dx\\right) \\int x e^{- \\frac{k^{2} x^{2}}{2}} e^{\\frac{i p x}{\\hat{h}}}\\, dx\\, dp}{4 \\pi^{2}}$"
          },
          "metadata": {},
          "execution_count": 29
        }
      ]
    },
    {
      "cell_type": "code",
      "source": [
        "p_mean_mse = p_mean_square - p_mean**2; p_mean_mse"
      ],
      "metadata": {
        "colab": {
          "base_uri": "https://localhost:8080/",
          "height": 69
        },
        "id": "hVk2JSrVoHKt",
        "outputId": "deddc93b-7e70-493d-9e04-91ea468dd8b4"
      },
      "execution_count": 30,
      "outputs": [
        {
          "output_type": "execute_result",
          "data": {
            "text/plain": [
              "                                                             2                \n",
              "     ⎛⌠                                                     ⎞       ⌠         \n",
              "     ⎜⎮   ⌠                        ⌠                        ⎟       ⎮    ⌠    \n",
              "     ⎜⎮   ⎮      2  2              ⎮      2  2              ⎟       ⎮    ⎮    \n",
              "     ⎜⎮   ⎮    -k ⋅x    -ⅈ⋅p⋅x     ⎮    -k ⋅x    ⅈ⋅p⋅x      ⎟       ⎮    ⎮    \n",
              "     ⎜⎮   ⎮    ───────  ───────    ⎮    ───────  ─────      ⎟       ⎮    ⎮    \n",
              "   4 ⎜⎮   ⎮       2        ĥ      ⎮       2       ĥ       ⎟     2 ⎮  2 ⎮    \n",
              "  A ⋅⎜⎮ p⋅⎮ x⋅ℯ       ⋅ℯ        dx⋅⎮ x⋅ℯ       ⋅ℯ      dx dp⎟    A ⋅⎮ p ⋅⎮ x⋅ℯ\n",
              "     ⎜⎮   ⌡                        ⌡                        ⎟       ⎮    ⌡    \n",
              "     ⎝⌡                                                     ⎠       ⌡         \n",
              "- ──────────────────────────────────────────────────────────── + ─────────────\n",
              "                                 4                                            \n",
              "                             16⋅π                                             \n",
              "\n",
              "                                             \n",
              "                                             \n",
              "                    ⌠                        \n",
              "  2  2              ⎮      2  2              \n",
              "-k ⋅x    -ⅈ⋅p⋅x     ⎮    -k ⋅x    ⅈ⋅p⋅x      \n",
              "───────  ───────    ⎮    ───────  ─────      \n",
              "   2        ĥ      ⎮       2       ĥ       \n",
              "       ⋅ℯ        dx⋅⎮ x⋅ℯ       ⋅ℯ      dx dp\n",
              "                    ⌡                        \n",
              "                                             \n",
              "─────────────────────────────────────────────\n",
              "                 2                           \n",
              "              4⋅π                            "
            ],
            "text/latex": "$\\displaystyle - \\frac{A^{4} \\left(\\int p \\left(\\int x e^{- \\frac{k^{2} x^{2}}{2}} e^{- \\frac{i p x}{\\hat{h}}}\\, dx\\right) \\int x e^{- \\frac{k^{2} x^{2}}{2}} e^{\\frac{i p x}{\\hat{h}}}\\, dx\\, dp\\right)^{2}}{16 \\pi^{4}} + \\frac{A^{2} \\int p^{2} \\left(\\int x e^{- \\frac{k^{2} x^{2}}{2}} e^{- \\frac{i p x}{\\hat{h}}}\\, dx\\right) \\int x e^{- \\frac{k^{2} x^{2}}{2}} e^{\\frac{i p x}{\\hat{h}}}\\, dx\\, dp}{4 \\pi^{2}}$"
          },
          "metadata": {},
          "execution_count": 30
        }
      ]
    },
    {
      "cell_type": "code",
      "source": [
        "simplify(p_mean_mse * x_mse)"
      ],
      "metadata": {
        "colab": {
          "base_uri": "https://localhost:8080/",
          "height": 100
        },
        "id": "-JAsQldWoPFu",
        "outputId": "fcdab120-4c79-4e1a-a424-5415256d2552"
      },
      "execution_count": 31,
      "outputs": [
        {
          "output_type": "execute_result",
          "data": {
            "text/plain": [
              "   ⎛                                                           2              \n",
              "   ⎜   ⎛⌠                                                     ⎞         ⌠     \n",
              "   ⎜   ⎜⎮   ⌠                        ⌠                        ⎟         ⎮    ⌠\n",
              "   ⎜   ⎜⎮   ⎮      2  2              ⎮      2  2              ⎟         ⎮    ⎮\n",
              "   ⎜   ⎜⎮   ⎮    -k ⋅x    -ⅈ⋅p⋅x     ⎮    -k ⋅x    ⅈ⋅p⋅x      ⎟         ⎮    ⎮\n",
              "   ⎜   ⎜⎮   ⎮    ───────  ───────    ⎮    ───────  ─────      ⎟         ⎮    ⎮\n",
              " 4 ⎜ 2 ⎜⎮   ⎮       2        ĥ      ⎮       2       ĥ       ⎟       2 ⎮  2 ⎮\n",
              "A ⋅⎜A ⋅⎜⎮ p⋅⎮ x⋅ℯ       ⋅ℯ        dx⋅⎮ x⋅ℯ       ⋅ℯ      dx dp⎟  - 4⋅π ⋅⎮ p ⋅⎮\n",
              "   ⎜   ⎜⎮   ⌡                        ⌡                        ⎟         ⎮    ⌡\n",
              "   ⎝   ⎝⌡                                                     ⎠         ⌡     \n",
              "──────────────────────────────────────────────────────────────────────────────\n",
              "                                                                              \n",
              "                                                                              \n",
              "\n",
              "                                                 ⎞                            \n",
              "                                                 ⎟                            \n",
              "                        ⌠                        ⎟                            \n",
              "      2  2              ⎮      2  2              ⎟                            \n",
              "    -k ⋅x    -ⅈ⋅p⋅x     ⎮    -k ⋅x    ⅈ⋅p⋅x      ⎟                            \n",
              "    ───────  ───────    ⎮    ───────  ─────      ⎟ ⎛                2         \n",
              "       2        ĥ      ⎮       2       ĥ       ⎟ ⎜   2 ⎛ 2  2    ⎞         4\n",
              " x⋅ℯ       ⋅ℯ        dx⋅⎮ x⋅ℯ       ⋅ℯ      dx dp⎟⋅⎝2⋅A ⋅⎝k ⋅x  + 1⎠ ⋅│k│ + k \n",
              "                        ⌡                        ⎟                            \n",
              "                                                 ⎠                            \n",
              "──────────────────────────────────────────────────────────────────────────────\n",
              "                                4  8                                          \n",
              "                           128⋅π ⋅k ⋅│k│                                      \n",
              "\n",
              "                                                                   \n",
              "                                                                   \n",
              "                                                                   \n",
              "                                                                   \n",
              "                                                                   \n",
              " ⎛                               2  2           ⎞   2  2⎞      2  2\n",
              " ⎜   2  3                       k ⋅x            ⎟  k ⋅x ⎟  -2⋅k ⋅x \n",
              "⋅⎝4⋅k ⋅x ⋅│k│ + 6⋅x⋅│k│ - 3⋅√π⋅ℯ     ⋅erf(x⋅│k│)⎠⋅ℯ     ⎠⋅ℯ        \n",
              "                                                                   \n",
              "                                                                   \n",
              "───────────────────────────────────────────────────────────────────\n",
              "                                                                   \n",
              "                                                                   "
            ],
            "text/latex": "$\\displaystyle \\frac{A^{4} \\left(A^{2} \\left(\\int p \\left(\\int x e^{- \\frac{k^{2} x^{2}}{2}} e^{- \\frac{i p x}{\\hat{h}}}\\, dx\\right) \\int x e^{- \\frac{k^{2} x^{2}}{2}} e^{\\frac{i p x}{\\hat{h}}}\\, dx\\, dp\\right)^{2} - 4 \\pi^{2} \\int p^{2} \\left(\\int x e^{- \\frac{k^{2} x^{2}}{2}} e^{- \\frac{i p x}{\\hat{h}}}\\, dx\\right) \\int x e^{- \\frac{k^{2} x^{2}}{2}} e^{\\frac{i p x}{\\hat{h}}}\\, dx\\, dp\\right) \\left(2 A^{2} \\left(k^{2} x^{2} + 1\\right)^{2} \\left|{k}\\right| + k^{4} \\cdot \\left(4 k^{2} x^{3} \\left|{k}\\right| + 6 x \\left|{k}\\right| - 3 \\sqrt{\\pi} e^{k^{2} x^{2}} \\operatorname{erf}{\\left(x \\left|{k}\\right| \\right)}\\right) e^{k^{2} x^{2}}\\right) e^{- 2 k^{2} x^{2}}}{128 \\pi^{4} k^{8} \\left|{k}\\right|}$"
          },
          "metadata": {},
          "execution_count": 31
        }
      ]
    },
    {
      "cell_type": "code",
      "source": [],
      "metadata": {
        "id": "oNHUiUkjoU5l"
      },
      "execution_count": 31,
      "outputs": []
    }
  ]
}