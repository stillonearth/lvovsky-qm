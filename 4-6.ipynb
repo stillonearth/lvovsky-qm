{
 "cells": [
  {
   "cell_type": "code",
   "execution_count": 1,
   "metadata": {},
   "outputs": [],
   "source": [
    "from sympy import *\n",
    "from sympy.physics.quantum import *\n",
    "from sympy.physics.quantum.qubit import *"
   ]
  },
  {
   "cell_type": "code",
   "execution_count": 2,
   "metadata": {},
   "outputs": [
    {
     "data": {
      "text/latex": [
       "$\\displaystyle \\left[\\begin{matrix}0 & 1.73205080756888 ħ & 0 & 0\\\\0 & 0 & 2.0 ħ & 0\\\\0 & 0 & 0 & 1.73205080756888 ħ\\\\0 & 0 & 0 & 0\\end{matrix}\\right]$"
      ],
      "text/plain": [
       "Matrix([\n",
       "[0, 1.73205080756888*ħ,     0,                  0],\n",
       "[0,                  0, 2.0*ħ,                  0],\n",
       "[0,                  0,     0, 1.73205080756888*ħ],\n",
       "[0,                  0,     0,                  0]])"
      ]
     },
     "execution_count": 2,
     "metadata": {},
     "output_type": "execute_result"
    }
   ],
   "source": [
    "l = 3/2  # Пример для l=1\n",
    "hbar = symbols('ħ', real=true)\n",
    "dim = int(2*l + 1)\n",
    "L_plus = Matrix.zeros(dim)\n",
    "L_minus = Matrix.zeros(dim)\n",
    "\n",
    "for i in range(dim):\n",
    "    m = l - i\n",
    "    element_plus = hbar * sqrt(l*(l+1) - m*(m+1))\n",
    "    element_minus = hbar * sqrt(l*(l+1) - m*(m-1))\n",
    "    L_plus[i-1, i+1-1] = element_plus\n",
    "    # L_minus[i+1, i] = element_minus  \n",
    "\n",
    "L_plus\n"
   ]
  },
  {
   "cell_type": "code",
   "execution_count": 3,
   "metadata": {},
   "outputs": [
    {
     "data": {
      "text/latex": [
       "$\\displaystyle \\left[\\begin{matrix}0 & 0 & 0 & 0\\\\1.73205080756888 ħ & 0 & 0 & 0\\\\0 & 2.0 ħ & 0 & 0\\\\0 & 0 & 1.73205080756888 ħ & 0\\end{matrix}\\right]$"
      ],
      "text/plain": [
       "Matrix([\n",
       "[                 0,     0,                  0, 0],\n",
       "[1.73205080756888*ħ,     0,                  0, 0],\n",
       "[                 0, 2.0*ħ,                  0, 0],\n",
       "[                 0,     0, 1.73205080756888*ħ, 0]])"
      ]
     },
     "execution_count": 3,
     "metadata": {},
     "output_type": "execute_result"
    }
   ],
   "source": [
    "L_minus = Dagger(L_plus); L_minus"
   ]
  },
  {
   "cell_type": "code",
   "execution_count": 4,
   "metadata": {},
   "outputs": [
    {
     "data": {
      "text/latex": [
       "$\\displaystyle \\left[\\begin{matrix}0 & 0.866025403784439 ħ & 0 & 0\\\\0.866025403784439 ħ & 0 & 1.0 ħ & 0\\\\0 & 1.0 ħ & 0 & 0.866025403784439 ħ\\\\0 & 0 & 0.866025403784439 ħ & 0\\end{matrix}\\right]$"
      ],
      "text/plain": [
       "Matrix([\n",
       "[                  0, 0.866025403784439*ħ,                   0,                   0],\n",
       "[0.866025403784439*ħ,                   0,               1.0*ħ,                   0],\n",
       "[                  0,               1.0*ħ,                   0, 0.866025403784439*ħ],\n",
       "[                  0,                   0, 0.866025403784439*ħ,                   0]])"
      ]
     },
     "execution_count": 4,
     "metadata": {},
     "output_type": "execute_result"
    }
   ],
   "source": [
    "L_x = (L_plus + L_minus) / 2; L_x"
   ]
  },
  {
   "cell_type": "code",
   "execution_count": 5,
   "metadata": {},
   "outputs": [
    {
     "data": {
      "text/latex": [
       "$\\displaystyle \\left[\\begin{matrix}0 & - 0.866025403784439 i ħ & 0 & 0\\\\0.866025403784439 i ħ & 0 & - 1.0 i ħ & 0\\\\0 & 1.0 i ħ & 0 & - 0.866025403784439 i ħ\\\\0 & 0 & 0.866025403784439 i ħ & 0\\end{matrix}\\right]$"
      ],
      "text/plain": [
       "Matrix([\n",
       "[                    0, -0.866025403784439*I*ħ,                     0,                      0],\n",
       "[0.866025403784439*I*ħ,                      0,              -1.0*I*ħ,                      0],\n",
       "[                    0,                1.0*I*ħ,                     0, -0.866025403784439*I*ħ],\n",
       "[                    0,                      0, 0.866025403784439*I*ħ,                      0]])"
      ]
     },
     "execution_count": 5,
     "metadata": {},
     "output_type": "execute_result"
    }
   ],
   "source": [
    "L_y = (L_plus - L_minus) / (2*I); L_y"
   ]
  },
  {
   "cell_type": "code",
   "execution_count": 10,
   "metadata": {},
   "outputs": [
    {
     "data": {
      "text/latex": [
       "$\\displaystyle \\left[\\begin{matrix}1.5 ħ & 0 & 0 & 0\\\\0 & 0.5 ħ & 0 & 0\\\\0 & 0 & - 0.5 ħ & 0\\\\0 & 0 & 0 & - 1.5 ħ\\end{matrix}\\right]$"
      ],
      "text/plain": [
       "Matrix([\n",
       "[1.5*ħ,     0,      0,      0],\n",
       "[    0, 0.5*ħ,      0,      0],\n",
       "[    0,     0, -0.5*ħ,      0],\n",
       "[    0,     0,      0, -1.5*ħ]])"
      ]
     },
     "execution_count": 10,
     "metadata": {},
     "output_type": "execute_result"
    }
   ],
   "source": [
    "L_z = hbar * Matrix([\n",
    "    [3/2, 0, 0, 0],\n",
    "    [0, 1/2, 0, 0],\n",
    "    [0, 0, -1/2, 0],\n",
    "    [0, 0, 0, -3/2],\n",
    "  ]); L_z"
   ]
  },
  {
   "cell_type": "code",
   "execution_count": 11,
   "metadata": {},
   "outputs": [
    {
     "data": {
      "text/latex": [
       "$\\displaystyle \\left[\\begin{matrix}3.75 ħ^{2} & 0 & 0 & 0\\\\0 & 3.75 ħ^{2} & 0 & 0\\\\0 & 0 & 3.75 ħ^{2} & 0\\\\0 & 0 & 0 & 3.75 ħ^{2}\\end{matrix}\\right]$"
      ],
      "text/plain": [
       "Matrix([\n",
       "[3.75*ħ**2,         0,         0,         0],\n",
       "[        0, 3.75*ħ**2,         0,         0],\n",
       "[        0,         0, 3.75*ħ**2,         0],\n",
       "[        0,         0,         0, 3.75*ħ**2]])"
      ]
     },
     "execution_count": 11,
     "metadata": {},
     "output_type": "execute_result"
    }
   ],
   "source": [
    "L_x**2 + L_y**2 + L_z**2"
   ]
  },
  {
   "cell_type": "code",
   "execution_count": 12,
   "metadata": {},
   "outputs": [
    {
     "data": {
      "text/latex": [
       "$\\displaystyle \\left[\\begin{matrix}3.75 ħ^{2} & 0 & 0 & 0\\\\0 & 3.75 ħ^{2} & 0 & 0\\\\0 & 0 & 3.75 ħ^{2} & 0\\\\0 & 0 & 0 & 3.75 ħ^{2}\\end{matrix}\\right]$"
      ],
      "text/plain": [
       "Matrix([\n",
       "[3.75*ħ**2,         0,         0,         0],\n",
       "[        0, 3.75*ħ**2,         0,         0],\n",
       "[        0,         0, 3.75*ħ**2,         0],\n",
       "[        0,         0,         0, 3.75*ħ**2]])"
      ]
     },
     "execution_count": 12,
     "metadata": {},
     "output_type": "execute_result"
    }
   ],
   "source": [
    "L_2 = L_plus * L_minus + L_z**2 - hbar * L_z; L_2"
   ]
  },
  {
   "cell_type": "code",
   "execution_count": 13,
   "metadata": {},
   "outputs": [
    {
     "data": {
      "text/latex": [
       "$\\displaystyle \\left[\\begin{matrix}3.75 ħ^{2} & 0 & 0 & 0\\\\0 & 3.75 ħ^{2} & 0 & 0\\\\0 & 0 & 3.75 ħ^{2} & 0\\\\0 & 0 & 0 & 3.75 ħ^{2}\\end{matrix}\\right]$"
      ],
      "text/plain": [
       "Matrix([\n",
       "[3.75*ħ**2,         0,         0,         0],\n",
       "[        0, 3.75*ħ**2,         0,         0],\n",
       "[        0,         0, 3.75*ħ**2,         0],\n",
       "[        0,         0,         0, 3.75*ħ**2]])"
      ]
     },
     "execution_count": 13,
     "metadata": {},
     "output_type": "execute_result"
    }
   ],
   "source": [
    "L_2 = L_minus * L_plus + L_z**2 + hbar * L_z; L_2"
   ]
  },
  {
   "cell_type": "code",
   "execution_count": 14,
   "metadata": {},
   "outputs": [],
   "source": [
    "# solved"
   ]
  },
  {
   "cell_type": "code",
   "execution_count": null,
   "metadata": {},
   "outputs": [
    {
     "data": {
      "text/latex": [
       "$\\displaystyle \\left[\\begin{matrix}0 & - 0.866025403784439 ħ^{2} & 0 & 0\\\\0.866025403784439 ħ^{2} & 0 & - 1.0 ħ^{2} & 0\\\\0 & 1.0 ħ^{2} & 0 & - 0.866025403784439 ħ^{2}\\\\0 & 0 & 0.866025403784439 ħ^{2} & 0\\end{matrix}\\right]$"
      ],
      "text/plain": [
       "Matrix([\n",
       "[                     0, -0.866025403784439*ħ**2,                      0,                       0],\n",
       "[0.866025403784439*ħ**2,                       0,              -1.0*ħ**2,                       0],\n",
       "[                     0,                1.0*ħ**2,                      0, -0.866025403784439*ħ**2],\n",
       "[                     0,                       0, 0.866025403784439*ħ**2,                       0]])"
      ]
     },
     "execution_count": 19,
     "metadata": {},
     "output_type": "execute_result"
    }
   ],
   "source": [
    "# commutator [Lx, Lz]\n",
    "\n",
    "L_x * L_z - L_z * L_x"
   ]
  },
  {
   "cell_type": "code",
   "execution_count": 20,
   "metadata": {},
   "outputs": [
    {
     "data": {
      "text/latex": [
       "$\\displaystyle \\left[\\begin{matrix}1.5 i ħ^{2} & 0 & 0 & 0\\\\0 & 0.5 i ħ^{2} & 0 & 0\\\\0 & 0 & - 0.5 i ħ^{2} & 0\\\\0 & 0 & 0 & - 1.5 i ħ^{2}\\end{matrix}\\right]$"
      ],
      "text/plain": [
       "Matrix([\n",
       "[1.5*I*ħ**2,          0,           0,           0],\n",
       "[         0, 0.5*I*ħ**2,           0,           0],\n",
       "[         0,          0, -0.5*I*ħ**2,           0],\n",
       "[         0,          0,           0, -1.5*I*ħ**2]])"
      ]
     },
     "execution_count": 20,
     "metadata": {},
     "output_type": "execute_result"
    }
   ],
   "source": [
    "# commutator [Lx, Ly]\n",
    "\n",
    "L_x * L_y - L_y * L_x"
   ]
  },
  {
   "cell_type": "code",
   "execution_count": 21,
   "metadata": {},
   "outputs": [
    {
     "data": {
      "text/latex": [
       "$\\displaystyle \\left[\\begin{matrix}0 & 0.866025403784439 i ħ^{2} & 0 & 0\\\\0.866025403784439 i ħ^{2} & 0 & 1.0 i ħ^{2} & 0\\\\0 & 1.0 i ħ^{2} & 0 & 0.866025403784439 i ħ^{2}\\\\0 & 0 & 0.866025403784439 i ħ^{2} & 0\\end{matrix}\\right]$"
      ],
      "text/plain": [
       "Matrix([\n",
       "[                       0, 0.866025403784439*I*ħ**2,                        0,                        0],\n",
       "[0.866025403784439*I*ħ**2,                        0,               1.0*I*ħ**2,                        0],\n",
       "[                       0,               1.0*I*ħ**2,                        0, 0.866025403784439*I*ħ**2],\n",
       "[                       0,                        0, 0.866025403784439*I*ħ**2,                        0]])"
      ]
     },
     "execution_count": 21,
     "metadata": {},
     "output_type": "execute_result"
    }
   ],
   "source": [
    "# commutator [Ly, Lz]\n",
    "\n",
    "L_y * L_z - L_z * L_y"
   ]
  },
  {
   "cell_type": "code",
   "execution_count": null,
   "metadata": {},
   "outputs": [],
   "source": []
  }
 ],
 "metadata": {
  "kernelspec": {
   "display_name": "quantum",
   "language": "python",
   "name": "python3"
  },
  "language_info": {
   "codemirror_mode": {
    "name": "ipython",
    "version": 3
   },
   "file_extension": ".py",
   "mimetype": "text/x-python",
   "name": "python",
   "nbconvert_exporter": "python",
   "pygments_lexer": "ipython3",
   "version": "3.11.5"
  }
 },
 "nbformat": 4,
 "nbformat_minor": 2
}
