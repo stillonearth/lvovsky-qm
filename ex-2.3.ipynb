{
 "cells": [
  {
   "cell_type": "code",
   "execution_count": 1,
   "metadata": {},
   "outputs": [],
   "source": [
    "from sympy import *\n",
    "from sympy.physics.quantum import *\n",
    "from sympy.physics.quantum.qubit import *"
   ]
  },
  {
   "cell_type": "code",
   "execution_count": 27,
   "metadata": {},
   "outputs": [
    {
     "data": {
      "text/latex": [
       "$\\displaystyle \\left[\\begin{matrix}1\\\\0\\end{matrix}\\right]$"
      ],
      "text/plain": [
       "Matrix([\n",
       "[1],\n",
       "[0]])"
      ]
     },
     "execution_count": 27,
     "metadata": {},
     "output_type": "execute_result"
    }
   ],
   "source": [
    "H = Matrix([1, 0]); H"
   ]
  },
  {
   "cell_type": "code",
   "execution_count": 28,
   "metadata": {},
   "outputs": [
    {
     "data": {
      "text/latex": [
       "$\\displaystyle \\left[\\begin{matrix}0\\\\1\\end{matrix}\\right]$"
      ],
      "text/plain": [
       "Matrix([\n",
       "[0],\n",
       "[1]])"
      ]
     },
     "execution_count": 28,
     "metadata": {},
     "output_type": "execute_result"
    }
   ],
   "source": [
    "V = Matrix([0, 1]); V"
   ]
  },
  {
   "cell_type": "code",
   "execution_count": 29,
   "metadata": {},
   "outputs": [
    {
     "data": {
      "text/latex": [
       "$\\displaystyle \\left[\\begin{matrix}0 & 1\\\\1 & 0\\end{matrix}\\right]$"
      ],
      "text/plain": [
       "Matrix([\n",
       "[0, 1],\n",
       "[1, 0]])"
      ]
     },
     "execution_count": 29,
     "metadata": {},
     "output_type": "execute_result"
    }
   ],
   "source": [
    "б_x = H * Dagger(V) + V * Dagger(H); б_x"
   ]
  },
  {
   "cell_type": "code",
   "execution_count": 34,
   "metadata": {},
   "outputs": [],
   "source": [
    "h, omega, t = symbols(\"h omega t\");"
   ]
  },
  {
   "cell_type": "code",
   "execution_count": 35,
   "metadata": {},
   "outputs": [
    {
     "data": {
      "text/latex": [
       "$\\displaystyle \\left[\\begin{matrix}0 & 0 & 0 & h \\omega\\\\0 & 0 & h \\omega & 0\\\\0 & h \\omega & 0 & 0\\\\h \\omega & 0 & 0 & 0\\end{matrix}\\right]$"
      ],
      "text/plain": [
       "Matrix([\n",
       "[      0,       0,       0, h*omega],\n",
       "[      0,       0, h*omega,       0],\n",
       "[      0, h*omega,       0,       0],\n",
       "[h*omega,       0,       0,       0]])"
      ]
     },
     "execution_count": 35,
     "metadata": {},
     "output_type": "execute_result"
    }
   ],
   "source": [
    "hamiltonian = h * omega * TensorProduct(б_x, б_x); hamiltonian"
   ]
  },
  {
   "cell_type": "code",
   "execution_count": 36,
   "metadata": {},
   "outputs": [
    {
     "data": {
      "text/latex": [
       "$\\displaystyle \\left[\\begin{matrix}1\\\\0\\\\0\\\\0\\end{matrix}\\right]$"
      ],
      "text/plain": [
       "Matrix([\n",
       "[1],\n",
       "[0],\n",
       "[0],\n",
       "[0]])"
      ]
     },
     "execution_count": 36,
     "metadata": {},
     "output_type": "execute_result"
    }
   ],
   "source": [
    "state_0 = TensorProduct(H, H); state_0"
   ]
  },
  {
   "cell_type": "code",
   "execution_count": 37,
   "metadata": {},
   "outputs": [
    {
     "data": {
      "text/latex": [
       "$\\displaystyle \\left[\\begin{matrix}\\frac{e^{i \\omega t}}{2} + \\frac{e^{- i \\omega t}}{2} & 0 & 0 & - \\frac{e^{i \\omega t}}{2} + \\frac{e^{- i \\omega t}}{2}\\\\0 & \\frac{e^{i \\omega t}}{2} + \\frac{e^{- i \\omega t}}{2} & - \\frac{e^{i \\omega t}}{2} + \\frac{e^{- i \\omega t}}{2} & 0\\\\0 & - \\frac{e^{i \\omega t}}{2} + \\frac{e^{- i \\omega t}}{2} & \\frac{e^{i \\omega t}}{2} + \\frac{e^{- i \\omega t}}{2} & 0\\\\- \\frac{e^{i \\omega t}}{2} + \\frac{e^{- i \\omega t}}{2} & 0 & 0 & \\frac{e^{i \\omega t}}{2} + \\frac{e^{- i \\omega t}}{2}\\end{matrix}\\right]$"
      ],
      "text/plain": [
       "Matrix([\n",
       "[ exp(I*omega*t)/2 + exp(-I*omega*t)/2,                                     0,                                     0, -exp(I*omega*t)/2 + exp(-I*omega*t)/2],\n",
       "[                                    0,  exp(I*omega*t)/2 + exp(-I*omega*t)/2, -exp(I*omega*t)/2 + exp(-I*omega*t)/2,                                     0],\n",
       "[                                    0, -exp(I*omega*t)/2 + exp(-I*omega*t)/2,  exp(I*omega*t)/2 + exp(-I*omega*t)/2,                                     0],\n",
       "[-exp(I*omega*t)/2 + exp(-I*omega*t)/2,                                     0,                                     0,  exp(I*omega*t)/2 + exp(-I*omega*t)/2]])"
      ]
     },
     "execution_count": 37,
     "metadata": {},
     "output_type": "execute_result"
    }
   ],
   "source": [
    "U_t = exp((-I/h)*hamiltonian*t); U_t"
   ]
  },
  {
   "cell_type": "code",
   "execution_count": 40,
   "metadata": {},
   "outputs": [
    {
     "data": {
      "text/latex": [
       "$\\displaystyle \\left[\\begin{matrix}\\cos{\\left(\\omega t \\right)}\\\\0\\\\0\\\\- i \\sin{\\left(\\omega t \\right)}\\end{matrix}\\right]$"
      ],
      "text/plain": [
       "Matrix([\n",
       "[   cos(omega*t)],\n",
       "[              0],\n",
       "[              0],\n",
       "[-I*sin(omega*t)]])"
      ]
     },
     "execution_count": 40,
     "metadata": {},
     "output_type": "execute_result"
    }
   ],
   "source": [
    "psi_t = U_t * state_0; simplify(psi_t)"
   ]
  },
  {
   "cell_type": "code",
   "execution_count": null,
   "metadata": {},
   "outputs": [],
   "source": []
  }
 ],
 "metadata": {
  "kernelspec": {
   "display_name": "quantum",
   "language": "python",
   "name": "python3"
  },
  "language_info": {
   "codemirror_mode": {
    "name": "ipython",
    "version": 3
   },
   "file_extension": ".py",
   "mimetype": "text/x-python",
   "name": "python",
   "nbconvert_exporter": "python",
   "pygments_lexer": "ipython3",
   "version": "3.11.5"
  }
 },
 "nbformat": 4,
 "nbformat_minor": 2
}
