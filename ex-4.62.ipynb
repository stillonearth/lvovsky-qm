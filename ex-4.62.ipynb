{
 "cells": [
  {
   "cell_type": "code",
   "execution_count": 1,
   "metadata": {},
   "outputs": [],
   "source": [
    "from sympy import *\n",
    "from sympy import init_printing\n",
    "from sympy.physics.quantum import Dagger\n",
    "from sympy.physics.quantum.qubit import *\n",
    "\n",
    "init_printing(use_latex=\"mathjax\")"
   ]
  },
  {
   "cell_type": "code",
   "execution_count": 2,
   "metadata": {},
   "outputs": [],
   "source": [
    "from sympy.physics.matrices import msigma"
   ]
  },
  {
   "cell_type": "code",
   "execution_count": 3,
   "metadata": {},
   "outputs": [],
   "source": [
    "theta0, phi0 = symbols(\"theta0, phi0\", real=True);"
   ]
  },
  {
   "cell_type": "markdown",
   "metadata": {},
   "source": [
    "# a)"
   ]
  },
  {
   "cell_type": "code",
   "execution_count": 4,
   "metadata": {},
   "outputs": [
    {
     "data": {
      "text/latex": [
       "$\\displaystyle \\left[\\begin{matrix}\\cos{\\left(\\frac{\\theta_{0}}{2} \\right)}\\\\e^{i \\phi_{0}} \\sin{\\left(\\frac{\\theta_{0}}{2} \\right)}\\end{matrix}\\right]$"
      ],
      "text/plain": [
       "⎡      ⎛θ₀⎞   ⎤\n",
       "⎢   cos⎜──⎟   ⎥\n",
       "⎢      ⎝2 ⎠   ⎥\n",
       "⎢             ⎥\n",
       "⎢ ⅈ⋅φ₀    ⎛θ₀⎞⎥\n",
       "⎢ℯ    ⋅sin⎜──⎟⎥\n",
       "⎣         ⎝2 ⎠⎦"
      ]
     },
     "execution_count": 4,
     "metadata": {},
     "output_type": "execute_result"
    }
   ],
   "source": [
    "psi0 = Matrix([cos(theta0/2),  exp(I * phi0) * sin (theta0 / 2) ]); psi0"
   ]
  },
  {
   "cell_type": "code",
   "execution_count": 5,
   "metadata": {},
   "outputs": [],
   "source": [
    "gamma, bz = symbols(\"gamma, bz\", real=True)"
   ]
  },
  {
   "cell_type": "code",
   "execution_count": 6,
   "metadata": {},
   "outputs": [
    {
     "data": {
      "text/latex": [
       "$\\displaystyle \\left[\\begin{matrix}- bz \\gamma & 0\\\\0 & bz \\gamma\\end{matrix}\\right]$"
      ],
      "text/plain": [
       "⎡-bz⋅γ   0  ⎤\n",
       "⎢           ⎥\n",
       "⎣  0    bz⋅γ⎦"
      ]
     },
     "execution_count": 6,
     "metadata": {},
     "output_type": "execute_result"
    }
   ],
   "source": [
    "H = - gamma * bz * msigma(3); H"
   ]
  },
  {
   "cell_type": "code",
   "execution_count": 7,
   "metadata": {},
   "outputs": [],
   "source": [
    "t, h = symbols(\"t, h\", real=True)"
   ]
  },
  {
   "cell_type": "code",
   "execution_count": 8,
   "metadata": {},
   "outputs": [
    {
     "data": {
      "text/latex": [
       "$\\displaystyle \\left[\\begin{matrix}e^{\\frac{i bz \\gamma t}{h}} & 0\\\\0 & e^{- \\frac{i bz \\gamma t}{h}}\\end{matrix}\\right]$"
      ],
      "text/plain": [
       "⎡ ⅈ⋅bz⋅γ⋅t             ⎤\n",
       "⎢ ────────             ⎥\n",
       "⎢    h                 ⎥\n",
       "⎢ℯ               0     ⎥\n",
       "⎢                      ⎥\n",
       "⎢            -ⅈ⋅bz⋅γ⋅t ⎥\n",
       "⎢            ──────────⎥\n",
       "⎢                h     ⎥\n",
       "⎣    0      ℯ          ⎦"
      ]
     },
     "execution_count": 8,
     "metadata": {},
     "output_type": "execute_result"
    }
   ],
   "source": [
    "U_t = exp(-I * H * t / h); U_t"
   ]
  },
  {
   "cell_type": "code",
   "execution_count": 9,
   "metadata": {},
   "outputs": [
    {
     "data": {
      "text/latex": [
       "$\\displaystyle \\left[\\begin{matrix}e^{\\frac{i bz \\gamma t}{h}} \\cos{\\left(\\frac{\\theta_{0}}{2} \\right)}\\\\e^{i \\phi_{0}} e^{- \\frac{i bz \\gamma t}{h}} \\sin{\\left(\\frac{\\theta_{0}}{2} \\right)}\\end{matrix}\\right]$"
      ],
      "text/plain": [
       "⎡     ⅈ⋅bz⋅γ⋅t            ⎤\n",
       "⎢     ────────            ⎥\n",
       "⎢        h        ⎛θ₀⎞    ⎥\n",
       "⎢    ℯ        ⋅cos⎜──⎟    ⎥\n",
       "⎢                 ⎝2 ⎠    ⎥\n",
       "⎢                         ⎥\n",
       "⎢       -ⅈ⋅bz⋅γ⋅t         ⎥\n",
       "⎢       ──────────        ⎥\n",
       "⎢ ⅈ⋅φ₀      h         ⎛θ₀⎞⎥\n",
       "⎢ℯ    ⋅ℯ          ⋅sin⎜──⎟⎥\n",
       "⎣                     ⎝2 ⎠⎦"
      ]
     },
     "execution_count": 9,
     "metadata": {},
     "output_type": "execute_result"
    }
   ],
   "source": [
    "psi_t =  U_t * psi0; psi_t"
   ]
  },
  {
   "cell_type": "code",
   "execution_count": 10,
   "metadata": {},
   "outputs": [
    {
     "data": {
      "text/latex": [
       "$\\displaystyle \\left[\\begin{matrix}e^{\\frac{i bz \\gamma t}{h}} \\cos{\\left(\\frac{\\theta_{0}}{2} \\right)}\\\\e^{i \\left(- \\frac{bz \\gamma t}{h} + \\phi_{0}\\right)} \\sin{\\left(\\frac{\\theta_{0}}{2} \\right)}\\end{matrix}\\right]$"
      ],
      "text/plain": [
       "⎡     ⅈ⋅bz⋅γ⋅t             ⎤\n",
       "⎢     ────────             ⎥\n",
       "⎢        h        ⎛θ₀⎞     ⎥\n",
       "⎢    ℯ        ⋅cos⎜──⎟     ⎥\n",
       "⎢                 ⎝2 ⎠     ⎥\n",
       "⎢                          ⎥\n",
       "⎢   ⎛  bz⋅γ⋅t     ⎞        ⎥\n",
       "⎢ ⅈ⋅⎜- ────── + φ₀⎟        ⎥\n",
       "⎢   ⎝    h        ⎠    ⎛θ₀⎞⎥\n",
       "⎢ℯ                 ⋅sin⎜──⎟⎥\n",
       "⎣                      ⎝2 ⎠⎦"
      ]
     },
     "execution_count": 10,
     "metadata": {},
     "output_type": "execute_result"
    }
   ],
   "source": [
    "psi_t_a = simplify(psi_t); psi_t_a"
   ]
  },
  {
   "cell_type": "markdown",
   "metadata": {},
   "source": [
    "# b)"
   ]
  },
  {
   "cell_type": "code",
   "execution_count": 11,
   "metadata": {},
   "outputs": [],
   "source": [
    "By = symbols(\"By\")"
   ]
  },
  {
   "cell_type": "code",
   "execution_count": 12,
   "metadata": {},
   "outputs": [
    {
     "data": {
      "text/latex": [
       "$\\displaystyle \\left[\\begin{matrix}0 & i By \\gamma\\\\- i By \\gamma & 0\\end{matrix}\\right]$"
      ],
      "text/plain": [
       "⎡   0     ⅈ⋅By⋅γ⎤\n",
       "⎢               ⎥\n",
       "⎣-ⅈ⋅By⋅γ    0   ⎦"
      ]
     },
     "execution_count": 12,
     "metadata": {},
     "output_type": "execute_result"
    }
   ],
   "source": [
    "H = - gamma * By * msigma(2); H"
   ]
  },
  {
   "cell_type": "code",
   "execution_count": 13,
   "metadata": {},
   "outputs": [
    {
     "data": {
      "text/latex": [
       "$\\displaystyle \\left[\\begin{matrix}\\frac{e^{\\frac{i By \\gamma t}{h}}}{2} + \\frac{e^{- \\frac{i By \\gamma t}{h}}}{2} & - \\frac{i e^{\\frac{i By \\gamma t}{h}}}{2} + \\frac{i e^{- \\frac{i By \\gamma t}{h}}}{2}\\\\\\frac{i e^{\\frac{i By \\gamma t}{h}}}{2} - \\frac{i e^{- \\frac{i By \\gamma t}{h}}}{2} & \\frac{e^{\\frac{i By \\gamma t}{h}}}{2} + \\frac{e^{- \\frac{i By \\gamma t}{h}}}{2}\\end{matrix}\\right]$"
      ],
      "text/plain": [
       "⎡   ⅈ⋅By⋅γ⋅t    -ⅈ⋅By⋅γ⋅t          ⅈ⋅By⋅γ⋅t      -ⅈ⋅By⋅γ⋅t ⎤\n",
       "⎢   ────────    ──────────         ────────      ──────────⎥\n",
       "⎢      h            h                 h              h     ⎥\n",
       "⎢  ℯ           ℯ                ⅈ⋅ℯ           ⅈ⋅ℯ          ⎥\n",
       "⎢  ───────── + ───────────    - ─────────── + ─────────────⎥\n",
       "⎢      2            2                2              2      ⎥\n",
       "⎢                                                          ⎥\n",
       "⎢   ⅈ⋅By⋅γ⋅t      -ⅈ⋅By⋅γ⋅t       ⅈ⋅By⋅γ⋅t    -ⅈ⋅By⋅γ⋅t    ⎥\n",
       "⎢   ────────      ──────────      ────────    ──────────   ⎥\n",
       "⎢      h              h              h            h        ⎥\n",
       "⎢ⅈ⋅ℯ           ⅈ⋅ℯ               ℯ           ℯ             ⎥\n",
       "⎢─────────── - ─────────────     ───────── + ───────────   ⎥\n",
       "⎣     2              2               2            2        ⎦"
      ]
     },
     "execution_count": 13,
     "metadata": {},
     "output_type": "execute_result"
    }
   ],
   "source": [
    "U_t = exp(-I * H * t / h); U_t"
   ]
  },
  {
   "cell_type": "code",
   "execution_count": 14,
   "metadata": {},
   "outputs": [
    {
     "data": {
      "text/latex": [
       "$\\displaystyle \\left[\\begin{matrix}1\\\\0\\end{matrix}\\right]$"
      ],
      "text/plain": [
       "⎡1⎤\n",
       "⎢ ⎥\n",
       "⎣0⎦"
      ]
     },
     "execution_count": 14,
     "metadata": {},
     "output_type": "execute_result"
    }
   ],
   "source": [
    "psi0 = Matrix([1, 0]); psi0"
   ]
  },
  {
   "cell_type": "code",
   "execution_count": 15,
   "metadata": {},
   "outputs": [
    {
     "data": {
      "text/latex": [
       "$\\displaystyle \\left[\\begin{matrix}\\frac{e^{\\frac{i By \\gamma t}{h}}}{2} + \\frac{e^{- \\frac{i By \\gamma t}{h}}}{2}\\\\\\frac{i e^{\\frac{i By \\gamma t}{h}}}{2} - \\frac{i e^{- \\frac{i By \\gamma t}{h}}}{2}\\end{matrix}\\right]$"
      ],
      "text/plain": [
       "⎡   ⅈ⋅By⋅γ⋅t    -ⅈ⋅By⋅γ⋅t   ⎤\n",
       "⎢   ────────    ──────────  ⎥\n",
       "⎢      h            h       ⎥\n",
       "⎢  ℯ           ℯ            ⎥\n",
       "⎢  ───────── + ───────────  ⎥\n",
       "⎢      2            2       ⎥\n",
       "⎢                           ⎥\n",
       "⎢   ⅈ⋅By⋅γ⋅t      -ⅈ⋅By⋅γ⋅t ⎥\n",
       "⎢   ────────      ──────────⎥\n",
       "⎢      h              h     ⎥\n",
       "⎢ⅈ⋅ℯ           ⅈ⋅ℯ          ⎥\n",
       "⎢─────────── - ─────────────⎥\n",
       "⎣     2              2      ⎦"
      ]
     },
     "execution_count": 15,
     "metadata": {},
     "output_type": "execute_result"
    }
   ],
   "source": [
    "psi_t = U_t * psi0; psi_t"
   ]
  },
  {
   "cell_type": "code",
   "execution_count": 16,
   "metadata": {},
   "outputs": [
    {
     "data": {
      "text/latex": [
       "$\\displaystyle \\left[\\begin{matrix}\\cos{\\left(\\frac{By \\gamma t}{h} \\right)}\\\\- \\sin{\\left(\\frac{By \\gamma t}{h} \\right)}\\end{matrix}\\right]$"
      ],
      "text/plain": [
       "⎡   ⎛By⋅γ⋅t⎞ ⎤\n",
       "⎢cos⎜──────⎟ ⎥\n",
       "⎢   ⎝  h   ⎠ ⎥\n",
       "⎢            ⎥\n",
       "⎢    ⎛By⋅γ⋅t⎞⎥\n",
       "⎢-sin⎜──────⎟⎥\n",
       "⎣    ⎝  h   ⎠⎦"
      ]
     },
     "execution_count": 16,
     "metadata": {},
     "output_type": "execute_result"
    }
   ],
   "source": [
    "psi_t_b = simplify(psi_t); psi_t_b"
   ]
  },
  {
   "cell_type": "markdown",
   "metadata": {},
   "source": [
    "# c)"
   ]
  },
  {
   "cell_type": "code",
   "execution_count": 17,
   "metadata": {},
   "outputs": [],
   "source": [
    "Bx = sin(theta0); By = 0; Bz = cos(theta0)"
   ]
  },
  {
   "cell_type": "code",
   "execution_count": 18,
   "metadata": {},
   "outputs": [
    {
     "data": {
      "text/latex": [
       "$\\displaystyle \\left[\\begin{matrix}- \\gamma \\cos{\\left(\\theta_{0} \\right)} & - \\gamma \\sin{\\left(\\theta_{0} \\right)}\\\\- \\gamma \\sin{\\left(\\theta_{0} \\right)} & \\gamma \\cos{\\left(\\theta_{0} \\right)}\\end{matrix}\\right]$"
      ],
      "text/plain": [
       "⎡-γ⋅cos(θ₀)  -γ⋅sin(θ₀)⎤\n",
       "⎢                      ⎥\n",
       "⎣-γ⋅sin(θ₀)  γ⋅cos(θ₀) ⎦"
      ]
     },
     "execution_count": 18,
     "metadata": {},
     "output_type": "execute_result"
    }
   ],
   "source": [
    "H = - gamma * (Bx * msigma(1) + By * msigma(2) + Bz * msigma(3)); H; H"
   ]
  },
  {
   "cell_type": "code",
   "execution_count": 19,
   "metadata": {},
   "outputs": [
    {
     "data": {
      "text/latex": [
       "$\\displaystyle \\left[\\begin{matrix}\\frac{e^{- \\frac{i \\gamma t}{h}} \\sin^{2}{\\left(\\theta_{0} \\right)}}{2 \\left(\\cos{\\left(\\theta_{0} \\right)} + 1\\right)} - \\frac{e^{\\frac{i \\gamma t}{h}} \\sin^{2}{\\left(\\theta_{0} \\right)}}{2 \\left(\\cos{\\left(\\theta_{0} \\right)} - 1\\right)} & - \\frac{\\left(1 - \\frac{\\sin^{2}{\\left(\\theta_{0} \\right)}}{2 \\cos{\\left(\\theta_{0} \\right)} + 2}\\right) e^{- \\frac{i \\gamma t}{h}} \\sin{\\left(\\theta_{0} \\right)}}{\\cos{\\left(\\theta_{0} \\right)} + 1} - \\frac{e^{\\frac{i \\gamma t}{h}} \\sin^{3}{\\left(\\theta_{0} \\right)}}{\\left(\\cos{\\left(\\theta_{0} \\right)} - 1\\right) \\left(2 \\cos{\\left(\\theta_{0} \\right)} + 2\\right)}\\\\\\frac{e^{\\frac{i \\gamma t}{h}} \\sin{\\left(\\theta_{0} \\right)}}{2} - \\frac{e^{- \\frac{i \\gamma t}{h}} \\sin{\\left(\\theta_{0} \\right)}}{2} & \\left(1 - \\frac{\\sin^{2}{\\left(\\theta_{0} \\right)}}{2 \\cos{\\left(\\theta_{0} \\right)} + 2}\\right) e^{- \\frac{i \\gamma t}{h}} + \\frac{e^{\\frac{i \\gamma t}{h}} \\sin^{2}{\\left(\\theta_{0} \\right)}}{2 \\cos{\\left(\\theta_{0} \\right)} + 2}\\end{matrix}\\right]$"
      ],
      "text/plain": [
       "⎡                                                            -ⅈ⋅γ⋅t           \n",
       "⎢ -ⅈ⋅γ⋅t              ⅈ⋅γ⋅t             ⎛          2      ⎞  ───────          \n",
       "⎢ ───────             ─────             ⎜       sin (θ₀)  ⎟     h             \n",
       "⎢    h       2          h      2        ⎜1 - ─────────────⎟⋅ℯ       ⋅sin(θ₀)  \n",
       "⎢ℯ       ⋅sin (θ₀)   ℯ     ⋅sin (θ₀)    ⎝    2⋅cos(θ₀) + 2⎠                   \n",
       "⎢───────────────── - ───────────────  - ──────────────────────────────────── -\n",
       "⎢ 2⋅(cos(θ₀) + 1)    2⋅(cos(θ₀) - 1)                cos(θ₀) + 1               \n",
       "⎢                                                                             \n",
       "⎢  ⅈ⋅γ⋅t            -ⅈ⋅γ⋅t                                                    \n",
       "⎢  ─────            ───────                                            -ⅈ⋅γ⋅t \n",
       "⎢    h                 h                          ⎛          2      ⎞  ───────\n",
       "⎢ ℯ     ⋅sin(θ₀)   ℯ       ⋅sin(θ₀)               ⎜       sin (θ₀)  ⎟     h   \n",
       "⎢ ────────────── - ────────────────               ⎜1 - ─────────────⎟⋅ℯ       \n",
       "⎣       2                 2                       ⎝    2⋅cos(θ₀) + 2⎠         \n",
       "\n",
       "                              ⎤\n",
       "         ⅈ⋅γ⋅t                ⎥\n",
       "         ─────                ⎥\n",
       "           h      3           ⎥\n",
       "        ℯ     ⋅sin (θ₀)       ⎥\n",
       " ─────────────────────────────⎥\n",
       " (cos(θ₀) - 1)⋅(2⋅cos(θ₀) + 2)⎥\n",
       "                              ⎥\n",
       "    ⅈ⋅γ⋅t                     ⎥\n",
       "    ─────                     ⎥\n",
       "      h      2                ⎥\n",
       "   ℯ     ⋅sin (θ₀)            ⎥\n",
       " + ───────────────            ⎥\n",
       "    2⋅cos(θ₀) + 2             ⎦"
      ]
     },
     "execution_count": 19,
     "metadata": {},
     "output_type": "execute_result"
    }
   ],
   "source": [
    "U_t = exp(-I * H * t / h); U_t"
   ]
  },
  {
   "cell_type": "code",
   "execution_count": 20,
   "metadata": {},
   "outputs": [
    {
     "data": {
      "text/latex": [
       "$\\displaystyle \\left[\\begin{matrix}\\frac{e^{- \\frac{i \\gamma t}{h}} \\sin^{2}{\\left(\\theta_{0} \\right)}}{2 \\left(\\cos{\\left(\\theta_{0} \\right)} + 1\\right)} - \\frac{e^{\\frac{i \\gamma t}{h}} \\sin^{2}{\\left(\\theta_{0} \\right)}}{2 \\left(\\cos{\\left(\\theta_{0} \\right)} - 1\\right)}\\\\\\frac{e^{\\frac{i \\gamma t}{h}} \\sin{\\left(\\theta_{0} \\right)}}{2} - \\frac{e^{- \\frac{i \\gamma t}{h}} \\sin{\\left(\\theta_{0} \\right)}}{2}\\end{matrix}\\right]$"
      ],
      "text/plain": [
       "⎡ -ⅈ⋅γ⋅t              ⅈ⋅γ⋅t         ⎤\n",
       "⎢ ───────             ─────         ⎥\n",
       "⎢    h       2          h      2    ⎥\n",
       "⎢ℯ       ⋅sin (θ₀)   ℯ     ⋅sin (θ₀)⎥\n",
       "⎢───────────────── - ───────────────⎥\n",
       "⎢ 2⋅(cos(θ₀) + 1)    2⋅(cos(θ₀) - 1)⎥\n",
       "⎢                                   ⎥\n",
       "⎢  ⅈ⋅γ⋅t            -ⅈ⋅γ⋅t          ⎥\n",
       "⎢  ─────            ───────         ⎥\n",
       "⎢    h                 h            ⎥\n",
       "⎢ ℯ     ⋅sin(θ₀)   ℯ       ⋅sin(θ₀) ⎥\n",
       "⎢ ────────────── - ──────────────── ⎥\n",
       "⎣       2                 2         ⎦"
      ]
     },
     "execution_count": 20,
     "metadata": {},
     "output_type": "execute_result"
    }
   ],
   "source": [
    "psi_t =  U_t * psi0; psi_t"
   ]
  },
  {
   "cell_type": "code",
   "execution_count": 21,
   "metadata": {},
   "outputs": [
    {
     "data": {
      "text/latex": [
       "$\\displaystyle \\left[\\begin{matrix}\\frac{\\left(e^{\\frac{2 i \\gamma t}{h}} \\cos{\\left(\\theta_{0} \\right)} + e^{\\frac{2 i \\gamma t}{h}} - \\cos{\\left(\\theta_{0} \\right)} + 1\\right) e^{- \\frac{i \\gamma t}{h}}}{2}\\\\i \\sin{\\left(\\theta_{0} \\right)} \\sin{\\left(\\frac{\\gamma t}{h} \\right)}\\end{matrix}\\right]$"
      ],
      "text/plain": [
       "⎡⎛ 2⋅ⅈ⋅γ⋅t            2⋅ⅈ⋅γ⋅t              ⎞  -ⅈ⋅γ⋅t ⎤\n",
       "⎢⎜ ───────            ───────              ⎟  ───────⎥\n",
       "⎢⎜    h                  h                 ⎟     h   ⎥\n",
       "⎢⎝ℯ       ⋅cos(θ₀) + ℯ        - cos(θ₀) + 1⎠⋅ℯ       ⎥\n",
       "⎢────────────────────────────────────────────────────⎥\n",
       "⎢                         2                          ⎥\n",
       "⎢                                                    ⎥\n",
       "⎢                              ⎛γ⋅t⎞                 ⎥\n",
       "⎢                 ⅈ⋅sin(θ₀)⋅sin⎜───⎟                 ⎥\n",
       "⎣                              ⎝ h ⎠                 ⎦"
      ]
     },
     "execution_count": 21,
     "metadata": {},
     "output_type": "execute_result"
    }
   ],
   "source": [
    "psi_t_c = simplify(psi_t); psi_t_c"
   ]
  },
  {
   "cell_type": "markdown",
   "metadata": {},
   "source": [
    "# plot a)"
   ]
  },
  {
   "cell_type": "code",
   "execution_count": 22,
   "metadata": {},
   "outputs": [],
   "source": [
    "import sympy as sp\n",
    "\n",
    "\n",
    "def state_to_bloch_sphere(state_vector):\n",
    "    \"\"\"\n",
    "    Convert a quantum state vector in the canonical basis to its corresponding\n",
    "    angles on the Bloch sphere.\n",
    "\n",
    "    Parameters:\n",
    "    - state_vector: A 2x1 sympy Matrix containing the amplitudes |0⟩ and |1⟩.\n",
    "    \n",
    "    Returns:\n",
    "    - bloch_angles: A tuple (phi, theta) representing the azimuthal and polar\n",
    "                    angles on the Bloch sphere.\n",
    "    \"\"\"\n",
    "    # Extract coefficients for |0⟩ and |1⟩\n",
    "    alpha = state_vector[0]\n",
    "    beta = state_vector[1]\n",
    "\n",
    "    # Calculate magnitudes of alpha and beta\n",
    "    abs_alpha = sp.Abs(alpha)\n",
    "    abs_beta = sp.Abs(beta)\n",
    "\n",
    "    # Compute theta from the magnitude of alpha\n",
    "    theta_half = sp.acos(abs_alpha)\n",
    "    theta = 2 * theta_half\n",
    "\n",
    "    # Compute phi using the phase difference between beta and alpha\n",
    "    if abs_beta != 0:\n",
    "        arg_alpha = sp.arg(alpha) if alpha != 0 else 0\n",
    "        arg_beta = sp.arg(beta)\n",
    "        phi = arg_beta - arg_alpha\n",
    "    else:\n",
    "        # If beta is zero, phi is undefined; conventionally set to 0\n",
    "        phi = 0\n",
    "\n",
    "    return Matrix([phi.simplify(), theta.simplify()])"
   ]
  },
  {
   "cell_type": "code",
   "execution_count": 23,
   "metadata": {},
   "outputs": [
    {
     "data": {
      "text/latex": [
       "$\\displaystyle \\left[\\begin{matrix}- \\arg{\\left(e^{i t} \\right)} + \\arg{\\left(e^{- i \\left(t - 0.23\\right)} \\right)}\\\\0.5\\end{matrix}\\right]$"
      ],
      "text/plain": [
       "⎡     ⎛ ⅈ⋅t⎞      ⎛ -ⅈ⋅(t - 0.23)⎞⎤\n",
       "⎢- arg⎝ℯ   ⎠ + arg⎝ℯ             ⎠⎥\n",
       "⎢                                 ⎥\n",
       "⎣               0.5               ⎦"
      ]
     },
     "execution_count": 23,
     "metadata": {},
     "output_type": "execute_result"
    }
   ],
   "source": [
    "angles_t_a = state_to_bloch_sphere(psi_t_a.subs({gamma: 1, h: 1, bz:1, theta0: 0.5, phi0:0.23})); angles_t_a"
   ]
  },
  {
   "cell_type": "code",
   "execution_count": 24,
   "metadata": {},
   "outputs": [],
   "source": [
    "import numpy as np\n",
    "\n",
    "time_values = np.linspace(0, 10, 500)"
   ]
  },
  {
   "cell_type": "code",
   "execution_count": 25,
   "metadata": {},
   "outputs": [],
   "source": [
    "def bloch_sphere_coordinates(state):\n",
    "    theta = state[0]\n",
    "    phi = state[1]\n",
    "\n",
    "    x = (sin(theta) * cos(phi)).subs({t:t}).evalf()\n",
    "    y = (sin(theta) * sin(phi)).subs({t:t}).evalf()\n",
    "    z = (cos(theta)).subs({t:t}).evalf()\n",
    "\n",
    "    return (x, y, z)"
   ]
  },
  {
   "cell_type": "code",
   "execution_count": 26,
   "metadata": {},
   "outputs": [
    {
     "name": "stdout",
     "output_type": "stream",
     "text": [
      "(-0.877582561890373*sin(arg(exp(I*t)) - arg(exp(-I*(t - 0.23)))), -0.479425538604203*sin(arg(exp(I*t)) - arg(exp(-I*(t - 0.23)))), cos(arg(exp(I*t)) - arg(exp(-I*(t - 0.23)))))\n"
     ]
    }
   ],
   "source": []
  },
  {
   "cell_type": "code",
   "execution_count": 27,
   "metadata": {},
   "outputs": [],
   "source": [
    "angle_values = [bloch_sphere_coordinates(angles_t_a.subs({t: 2})) for t in time_values]"
   ]
  },
  {
   "cell_type": "code",
   "execution_count": 28,
   "metadata": {},
   "outputs": [
    {
     "data": {
      "text/latex": [
       "$\\displaystyle \\left( - 0.877582561890373 \\sin{\\left(\\arg{\\left(e^{i t} \\right)} - \\arg{\\left(e^{- i \\left(t - 0.23\\right)} \\right)} \\right)}, \\  - 0.479425538604203 \\sin{\\left(\\arg{\\left(e^{i t} \\right)} - \\arg{\\left(e^{- i \\left(t - 0.23\\right)} \\right)} \\right)}, \\  \\cos{\\left(\\arg{\\left(e^{i t} \\right)} - \\arg{\\left(e^{- i \\left(t - 0.23\\right)} \\right)} \\right)}\\right)$"
      ],
      "text/plain": [
       "⎛                      ⎛   ⎛ ⅈ⋅t⎞      ⎛ -ⅈ⋅(t - 0.23)⎞⎞                      \n",
       "⎝-0.877582561890373⋅sin⎝arg⎝ℯ   ⎠ - arg⎝ℯ             ⎠⎠, -0.479425538604203⋅s\n",
       "\n",
       "  ⎛   ⎛ ⅈ⋅t⎞      ⎛ -ⅈ⋅(t - 0.23)⎞⎞     ⎛   ⎛ ⅈ⋅t⎞      ⎛ -ⅈ⋅(t - 0.23)⎞⎞⎞\n",
       "in⎝arg⎝ℯ   ⎠ - arg⎝ℯ             ⎠⎠, cos⎝arg⎝ℯ   ⎠ - arg⎝ℯ             ⎠⎠⎠"
      ]
     },
     "execution_count": 28,
     "metadata": {},
     "output_type": "execute_result"
    }
   ],
   "source": [
    "bloch_sphere_coordinates(angles_t_a.subs({t: 2}))"
   ]
  },
  {
   "cell_type": "code",
   "execution_count": 29,
   "metadata": {},
   "outputs": [
    {
     "data": {
      "text/latex": [
       "$\\displaystyle \\left( - 0.877582561890373 \\sin{\\left(\\arg{\\left(e^{i t} \\right)} - \\arg{\\left(e^{- i \\left(t - 0.23\\right)} \\right)} \\right)}, \\  - 0.479425538604203 \\sin{\\left(\\arg{\\left(e^{i t} \\right)} - \\arg{\\left(e^{- i \\left(t - 0.23\\right)} \\right)} \\right)}, \\  \\cos{\\left(\\arg{\\left(e^{i t} \\right)} - \\arg{\\left(e^{- i \\left(t - 0.23\\right)} \\right)} \\right)}\\right)$"
      ],
      "text/plain": [
       "⎛                      ⎛   ⎛ ⅈ⋅t⎞      ⎛ -ⅈ⋅(t - 0.23)⎞⎞                      \n",
       "⎝-0.877582561890373⋅sin⎝arg⎝ℯ   ⎠ - arg⎝ℯ             ⎠⎠, -0.479425538604203⋅s\n",
       "\n",
       "  ⎛   ⎛ ⅈ⋅t⎞      ⎛ -ⅈ⋅(t - 0.23)⎞⎞     ⎛   ⎛ ⅈ⋅t⎞      ⎛ -ⅈ⋅(t - 0.23)⎞⎞⎞\n",
       "in⎝arg⎝ℯ   ⎠ - arg⎝ℯ             ⎠⎠, cos⎝arg⎝ℯ   ⎠ - arg⎝ℯ             ⎠⎠⎠"
      ]
     },
     "execution_count": 29,
     "metadata": {},
     "output_type": "execute_result"
    }
   ],
   "source": [
    "bloch_sphere_coordinates(angles_t_a.subs({t: 2}))"
   ]
  },
  {
   "cell_type": "code",
   "execution_count": 30,
   "metadata": {},
   "outputs": [
    {
     "data": {
      "text/latex": [
       "$\\displaystyle \\left( - 0.877582561890373 \\sin{\\left(\\arg{\\left(e^{i t} \\right)} - \\arg{\\left(e^{- i \\left(t - 0.23\\right)} \\right)} \\right)}, \\  - 0.479425538604203 \\sin{\\left(\\arg{\\left(e^{i t} \\right)} - \\arg{\\left(e^{- i \\left(t - 0.23\\right)} \\right)} \\right)}, \\  \\cos{\\left(\\arg{\\left(e^{i t} \\right)} - \\arg{\\left(e^{- i \\left(t - 0.23\\right)} \\right)} \\right)}\\right)$"
      ],
      "text/plain": [
       "⎛                      ⎛   ⎛ ⅈ⋅t⎞      ⎛ -ⅈ⋅(t - 0.23)⎞⎞                      \n",
       "⎝-0.877582561890373⋅sin⎝arg⎝ℯ   ⎠ - arg⎝ℯ             ⎠⎠, -0.479425538604203⋅s\n",
       "\n",
       "  ⎛   ⎛ ⅈ⋅t⎞      ⎛ -ⅈ⋅(t - 0.23)⎞⎞     ⎛   ⎛ ⅈ⋅t⎞      ⎛ -ⅈ⋅(t - 0.23)⎞⎞⎞\n",
       "in⎝arg⎝ℯ   ⎠ - arg⎝ℯ             ⎠⎠, cos⎝arg⎝ℯ   ⎠ - arg⎝ℯ             ⎠⎠⎠"
      ]
     },
     "execution_count": 30,
     "metadata": {},
     "output_type": "execute_result"
    }
   ],
   "source": [
    "angle_values[0]"
   ]
  },
  {
   "cell_type": "code",
   "execution_count": null,
   "metadata": {},
   "outputs": [],
   "source": []
  }
 ],
 "metadata": {
  "kernelspec": {
   "display_name": "quantum",
   "language": "python",
   "name": "python3"
  },
  "language_info": {
   "codemirror_mode": {
    "name": "ipython",
    "version": 3
   },
   "file_extension": ".py",
   "mimetype": "text/x-python",
   "name": "python",
   "nbconvert_exporter": "python",
   "pygments_lexer": "ipython3",
   "version": "3.11.5"
  }
 },
 "nbformat": 4,
 "nbformat_minor": 2
}
