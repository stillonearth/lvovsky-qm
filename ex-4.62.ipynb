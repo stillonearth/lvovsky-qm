{
 "cells": [
  {
   "cell_type": "code",
   "execution_count": 1,
   "metadata": {},
   "outputs": [],
   "source": [
    "from sympy import *\n",
    "from sympy import init_printing\n",
    "from sympy.physics.quantum import Dagger\n",
    "from sympy.physics.quantum.qubit import *\n",
    "\n",
    "init_printing(use_latex=\"mathjax\")"
   ]
  },
  {
   "cell_type": "code",
   "execution_count": 145,
   "metadata": {},
   "outputs": [],
   "source": [
    "from sympy.physics.matrices import msigma"
   ]
  },
  {
   "cell_type": "code",
   "execution_count": 146,
   "metadata": {},
   "outputs": [],
   "source": [
    "theta0, phi0 = symbols(\"theta0, phi0\", real=True);"
   ]
  },
  {
   "cell_type": "markdown",
   "metadata": {},
   "source": [
    "# a)"
   ]
  },
  {
   "cell_type": "code",
   "execution_count": 178,
   "metadata": {},
   "outputs": [
    {
     "data": {
      "text/latex": [
       "$\\displaystyle \\left[\\begin{matrix}\\cos{\\left(\\frac{\\theta_{0}}{2} \\right)}\\\\e^{i \\phi_{0}} \\sin{\\left(\\frac{\\theta_{0}}{2} \\right)}\\end{matrix}\\right]$"
      ],
      "text/plain": [
       "⎡      ⎛θ₀⎞   ⎤\n",
       "⎢   cos⎜──⎟   ⎥\n",
       "⎢      ⎝2 ⎠   ⎥\n",
       "⎢             ⎥\n",
       "⎢ ⅈ⋅φ₀    ⎛θ₀⎞⎥\n",
       "⎢ℯ    ⋅sin⎜──⎟⎥\n",
       "⎣         ⎝2 ⎠⎦"
      ]
     },
     "execution_count": 178,
     "metadata": {},
     "output_type": "execute_result"
    }
   ],
   "source": [
    "psi0 = Matrix([cos(theta0/2),  exp(I * phi0) * sin (theta0 / 2) ]); psi0"
   ]
  },
  {
   "cell_type": "code",
   "execution_count": 179,
   "metadata": {},
   "outputs": [],
   "source": [
    "gamma, bz = symbols(\"gamma, bz\", real=True)"
   ]
  },
  {
   "cell_type": "code",
   "execution_count": 180,
   "metadata": {},
   "outputs": [
    {
     "data": {
      "text/latex": [
       "$\\displaystyle \\left[\\begin{matrix}- bz \\gamma & 0\\\\0 & bz \\gamma\\end{matrix}\\right]$"
      ],
      "text/plain": [
       "⎡-bz⋅γ   0  ⎤\n",
       "⎢           ⎥\n",
       "⎣  0    bz⋅γ⎦"
      ]
     },
     "execution_count": 180,
     "metadata": {},
     "output_type": "execute_result"
    }
   ],
   "source": [
    "H = - gamma * bz * msigma(3); H"
   ]
  },
  {
   "cell_type": "code",
   "execution_count": 181,
   "metadata": {},
   "outputs": [],
   "source": [
    "t, h = symbols(\"t, h\", real=True)"
   ]
  },
  {
   "cell_type": "code",
   "execution_count": 182,
   "metadata": {},
   "outputs": [
    {
     "data": {
      "text/latex": [
       "$\\displaystyle \\left[\\begin{matrix}e^{\\frac{i bz \\gamma t}{h}} & 0\\\\0 & e^{- \\frac{i bz \\gamma t}{h}}\\end{matrix}\\right]$"
      ],
      "text/plain": [
       "⎡ ⅈ⋅bz⋅γ⋅t             ⎤\n",
       "⎢ ────────             ⎥\n",
       "⎢    h                 ⎥\n",
       "⎢ℯ               0     ⎥\n",
       "⎢                      ⎥\n",
       "⎢            -ⅈ⋅bz⋅γ⋅t ⎥\n",
       "⎢            ──────────⎥\n",
       "⎢                h     ⎥\n",
       "⎣    0      ℯ          ⎦"
      ]
     },
     "execution_count": 182,
     "metadata": {},
     "output_type": "execute_result"
    }
   ],
   "source": [
    "U_t = exp(-I * H * t / h); U_t"
   ]
  },
  {
   "cell_type": "code",
   "execution_count": 183,
   "metadata": {},
   "outputs": [
    {
     "data": {
      "text/latex": [
       "$\\displaystyle \\left[\\begin{matrix}e^{\\frac{i bz \\gamma t}{h}} \\cos{\\left(\\frac{\\theta_{0}}{2} \\right)}\\\\e^{i \\phi_{0}} e^{- \\frac{i bz \\gamma t}{h}} \\sin{\\left(\\frac{\\theta_{0}}{2} \\right)}\\end{matrix}\\right]$"
      ],
      "text/plain": [
       "⎡     ⅈ⋅bz⋅γ⋅t            ⎤\n",
       "⎢     ────────            ⎥\n",
       "⎢        h        ⎛θ₀⎞    ⎥\n",
       "⎢    ℯ        ⋅cos⎜──⎟    ⎥\n",
       "⎢                 ⎝2 ⎠    ⎥\n",
       "⎢                         ⎥\n",
       "⎢       -ⅈ⋅bz⋅γ⋅t         ⎥\n",
       "⎢       ──────────        ⎥\n",
       "⎢ ⅈ⋅φ₀      h         ⎛θ₀⎞⎥\n",
       "⎢ℯ    ⋅ℯ          ⋅sin⎜──⎟⎥\n",
       "⎣                     ⎝2 ⎠⎦"
      ]
     },
     "execution_count": 183,
     "metadata": {},
     "output_type": "execute_result"
    }
   ],
   "source": [
    "psi_t =  U_t * psi0; psi_t"
   ]
  },
  {
   "cell_type": "code",
   "execution_count": 184,
   "metadata": {},
   "outputs": [
    {
     "data": {
      "text/latex": [
       "$\\displaystyle \\left[\\begin{matrix}e^{\\frac{i bz \\gamma t}{h}} \\cos{\\left(\\frac{\\theta_{0}}{2} \\right)}\\\\e^{i \\left(- \\frac{bz \\gamma t}{h} + \\phi_{0}\\right)} \\sin{\\left(\\frac{\\theta_{0}}{2} \\right)}\\end{matrix}\\right]$"
      ],
      "text/plain": [
       "⎡     ⅈ⋅bz⋅γ⋅t             ⎤\n",
       "⎢     ────────             ⎥\n",
       "⎢        h        ⎛θ₀⎞     ⎥\n",
       "⎢    ℯ        ⋅cos⎜──⎟     ⎥\n",
       "⎢                 ⎝2 ⎠     ⎥\n",
       "⎢                          ⎥\n",
       "⎢   ⎛  bz⋅γ⋅t     ⎞        ⎥\n",
       "⎢ ⅈ⋅⎜- ────── + φ₀⎟        ⎥\n",
       "⎢   ⎝    h        ⎠    ⎛θ₀⎞⎥\n",
       "⎢ℯ                 ⋅sin⎜──⎟⎥\n",
       "⎣                      ⎝2 ⎠⎦"
      ]
     },
     "execution_count": 184,
     "metadata": {},
     "output_type": "execute_result"
    }
   ],
   "source": [
    "psi_t_a = simplify(psi_t); psi_t_a\n",
    "\n",
    "# ok"
   ]
  },
  {
   "cell_type": "markdown",
   "metadata": {},
   "source": [
    "# b)"
   ]
  },
  {
   "cell_type": "code",
   "execution_count": 185,
   "metadata": {},
   "outputs": [],
   "source": [
    "by = symbols(\"by\")"
   ]
  },
  {
   "cell_type": "code",
   "execution_count": 186,
   "metadata": {},
   "outputs": [
    {
     "data": {
      "text/latex": [
       "$\\displaystyle \\left[\\begin{matrix}0 & i by \\gamma\\\\- i by \\gamma & 0\\end{matrix}\\right]$"
      ],
      "text/plain": [
       "⎡   0     ⅈ⋅by⋅γ⎤\n",
       "⎢               ⎥\n",
       "⎣-ⅈ⋅by⋅γ    0   ⎦"
      ]
     },
     "execution_count": 186,
     "metadata": {},
     "output_type": "execute_result"
    }
   ],
   "source": [
    "H = - gamma * by * msigma(2); H"
   ]
  },
  {
   "cell_type": "code",
   "execution_count": 187,
   "metadata": {},
   "outputs": [
    {
     "data": {
      "text/latex": [
       "$\\displaystyle \\left[\\begin{matrix}\\frac{e^{\\frac{i by \\gamma t}{h}}}{2} + \\frac{e^{- \\frac{i by \\gamma t}{h}}}{2} & - \\frac{i e^{\\frac{i by \\gamma t}{h}}}{2} + \\frac{i e^{- \\frac{i by \\gamma t}{h}}}{2}\\\\\\frac{i e^{\\frac{i by \\gamma t}{h}}}{2} - \\frac{i e^{- \\frac{i by \\gamma t}{h}}}{2} & \\frac{e^{\\frac{i by \\gamma t}{h}}}{2} + \\frac{e^{- \\frac{i by \\gamma t}{h}}}{2}\\end{matrix}\\right]$"
      ],
      "text/plain": [
       "⎡   ⅈ⋅by⋅γ⋅t    -ⅈ⋅by⋅γ⋅t          ⅈ⋅by⋅γ⋅t      -ⅈ⋅by⋅γ⋅t ⎤\n",
       "⎢   ────────    ──────────         ────────      ──────────⎥\n",
       "⎢      h            h                 h              h     ⎥\n",
       "⎢  ℯ           ℯ                ⅈ⋅ℯ           ⅈ⋅ℯ          ⎥\n",
       "⎢  ───────── + ───────────    - ─────────── + ─────────────⎥\n",
       "⎢      2            2                2              2      ⎥\n",
       "⎢                                                          ⎥\n",
       "⎢   ⅈ⋅by⋅γ⋅t      -ⅈ⋅by⋅γ⋅t       ⅈ⋅by⋅γ⋅t    -ⅈ⋅by⋅γ⋅t    ⎥\n",
       "⎢   ────────      ──────────      ────────    ──────────   ⎥\n",
       "⎢      h              h              h            h        ⎥\n",
       "⎢ⅈ⋅ℯ           ⅈ⋅ℯ               ℯ           ℯ             ⎥\n",
       "⎢─────────── - ─────────────     ───────── + ───────────   ⎥\n",
       "⎣     2              2               2            2        ⎦"
      ]
     },
     "execution_count": 187,
     "metadata": {},
     "output_type": "execute_result"
    }
   ],
   "source": [
    "U_t = exp(-I * H * t / h); U_t"
   ]
  },
  {
   "cell_type": "code",
   "execution_count": 188,
   "metadata": {},
   "outputs": [
    {
     "data": {
      "text/latex": [
       "$\\displaystyle \\left[\\begin{matrix}1\\\\0\\end{matrix}\\right]$"
      ],
      "text/plain": [
       "⎡1⎤\n",
       "⎢ ⎥\n",
       "⎣0⎦"
      ]
     },
     "execution_count": 188,
     "metadata": {},
     "output_type": "execute_result"
    }
   ],
   "source": [
    "psi0 = Matrix([1, 0]); psi0"
   ]
  },
  {
   "cell_type": "code",
   "execution_count": 189,
   "metadata": {},
   "outputs": [
    {
     "data": {
      "text/latex": [
       "$\\displaystyle \\left[\\begin{matrix}\\frac{e^{\\frac{i by \\gamma t}{h}}}{2} + \\frac{e^{- \\frac{i by \\gamma t}{h}}}{2}\\\\\\frac{i e^{\\frac{i by \\gamma t}{h}}}{2} - \\frac{i e^{- \\frac{i by \\gamma t}{h}}}{2}\\end{matrix}\\right]$"
      ],
      "text/plain": [
       "⎡   ⅈ⋅by⋅γ⋅t    -ⅈ⋅by⋅γ⋅t   ⎤\n",
       "⎢   ────────    ──────────  ⎥\n",
       "⎢      h            h       ⎥\n",
       "⎢  ℯ           ℯ            ⎥\n",
       "⎢  ───────── + ───────────  ⎥\n",
       "⎢      2            2       ⎥\n",
       "⎢                           ⎥\n",
       "⎢   ⅈ⋅by⋅γ⋅t      -ⅈ⋅by⋅γ⋅t ⎥\n",
       "⎢   ────────      ──────────⎥\n",
       "⎢      h              h     ⎥\n",
       "⎢ⅈ⋅ℯ           ⅈ⋅ℯ          ⎥\n",
       "⎢─────────── - ─────────────⎥\n",
       "⎣     2              2      ⎦"
      ]
     },
     "execution_count": 189,
     "metadata": {},
     "output_type": "execute_result"
    }
   ],
   "source": [
    "psi_t = U_t * psi0; psi_t"
   ]
  },
  {
   "cell_type": "code",
   "execution_count": 191,
   "metadata": {},
   "outputs": [
    {
     "data": {
      "text/latex": [
       "$\\displaystyle \\left[\\begin{matrix}\\cos{\\left(\\frac{by \\gamma t}{h} \\right)}\\\\- \\sin{\\left(\\frac{by \\gamma t}{h} \\right)}\\end{matrix}\\right]$"
      ],
      "text/plain": [
       "⎡   ⎛by⋅γ⋅t⎞ ⎤\n",
       "⎢cos⎜──────⎟ ⎥\n",
       "⎢   ⎝  h   ⎠ ⎥\n",
       "⎢            ⎥\n",
       "⎢    ⎛by⋅γ⋅t⎞⎥\n",
       "⎢-sin⎜──────⎟⎥\n",
       "⎣    ⎝  h   ⎠⎦"
      ]
     },
     "execution_count": 191,
     "metadata": {},
     "output_type": "execute_result"
    }
   ],
   "source": [
    "psi_t_b = simplify(psi_t); psi_t_b\n",
    "# ok"
   ]
  },
  {
   "cell_type": "markdown",
   "metadata": {},
   "source": [
    "# c)"
   ]
  },
  {
   "cell_type": "code",
   "execution_count": 17,
   "metadata": {},
   "outputs": [],
   "source": [
    "Bx = sin(theta0); By = 0; Bz = cos(theta0)"
   ]
  },
  {
   "cell_type": "code",
   "execution_count": 18,
   "metadata": {},
   "outputs": [
    {
     "data": {
      "text/latex": [
       "$\\displaystyle \\left[\\begin{matrix}- \\gamma \\cos{\\left(\\theta_{0} \\right)} & - \\gamma \\sin{\\left(\\theta_{0} \\right)}\\\\- \\gamma \\sin{\\left(\\theta_{0} \\right)} & \\gamma \\cos{\\left(\\theta_{0} \\right)}\\end{matrix}\\right]$"
      ],
      "text/plain": [
       "⎡-γ⋅cos(θ₀)  -γ⋅sin(θ₀)⎤\n",
       "⎢                      ⎥\n",
       "⎣-γ⋅sin(θ₀)  γ⋅cos(θ₀) ⎦"
      ]
     },
     "execution_count": 18,
     "metadata": {},
     "output_type": "execute_result"
    }
   ],
   "source": [
    "H = - gamma * (Bx * msigma(1) + By * msigma(2) + Bz * msigma(3)); H; H"
   ]
  },
  {
   "cell_type": "code",
   "execution_count": 19,
   "metadata": {},
   "outputs": [
    {
     "data": {
      "text/latex": [
       "$\\displaystyle \\left[\\begin{matrix}\\frac{e^{- \\frac{i \\gamma t}{h}} \\sin^{2}{\\left(\\theta_{0} \\right)}}{2 \\left(\\cos{\\left(\\theta_{0} \\right)} + 1\\right)} - \\frac{e^{\\frac{i \\gamma t}{h}} \\sin^{2}{\\left(\\theta_{0} \\right)}}{2 \\left(\\cos{\\left(\\theta_{0} \\right)} - 1\\right)} & - \\frac{\\left(1 - \\frac{\\sin^{2}{\\left(\\theta_{0} \\right)}}{2 \\cos{\\left(\\theta_{0} \\right)} + 2}\\right) e^{- \\frac{i \\gamma t}{h}} \\sin{\\left(\\theta_{0} \\right)}}{\\cos{\\left(\\theta_{0} \\right)} + 1} - \\frac{e^{\\frac{i \\gamma t}{h}} \\sin^{3}{\\left(\\theta_{0} \\right)}}{\\left(\\cos{\\left(\\theta_{0} \\right)} - 1\\right) \\left(2 \\cos{\\left(\\theta_{0} \\right)} + 2\\right)}\\\\\\frac{e^{\\frac{i \\gamma t}{h}} \\sin{\\left(\\theta_{0} \\right)}}{2} - \\frac{e^{- \\frac{i \\gamma t}{h}} \\sin{\\left(\\theta_{0} \\right)}}{2} & \\left(1 - \\frac{\\sin^{2}{\\left(\\theta_{0} \\right)}}{2 \\cos{\\left(\\theta_{0} \\right)} + 2}\\right) e^{- \\frac{i \\gamma t}{h}} + \\frac{e^{\\frac{i \\gamma t}{h}} \\sin^{2}{\\left(\\theta_{0} \\right)}}{2 \\cos{\\left(\\theta_{0} \\right)} + 2}\\end{matrix}\\right]$"
      ],
      "text/plain": [
       "⎡                                                            -ⅈ⋅γ⋅t           \n",
       "⎢ -ⅈ⋅γ⋅t              ⅈ⋅γ⋅t             ⎛          2      ⎞  ───────          \n",
       "⎢ ───────             ─────             ⎜       sin (θ₀)  ⎟     h             \n",
       "⎢    h       2          h      2        ⎜1 - ─────────────⎟⋅ℯ       ⋅sin(θ₀)  \n",
       "⎢ℯ       ⋅sin (θ₀)   ℯ     ⋅sin (θ₀)    ⎝    2⋅cos(θ₀) + 2⎠                   \n",
       "⎢───────────────── - ───────────────  - ──────────────────────────────────── -\n",
       "⎢ 2⋅(cos(θ₀) + 1)    2⋅(cos(θ₀) - 1)                cos(θ₀) + 1               \n",
       "⎢                                                                             \n",
       "⎢  ⅈ⋅γ⋅t            -ⅈ⋅γ⋅t                                                    \n",
       "⎢  ─────            ───────                                            -ⅈ⋅γ⋅t \n",
       "⎢    h                 h                          ⎛          2      ⎞  ───────\n",
       "⎢ ℯ     ⋅sin(θ₀)   ℯ       ⋅sin(θ₀)               ⎜       sin (θ₀)  ⎟     h   \n",
       "⎢ ────────────── - ────────────────               ⎜1 - ─────────────⎟⋅ℯ       \n",
       "⎣       2                 2                       ⎝    2⋅cos(θ₀) + 2⎠         \n",
       "\n",
       "                              ⎤\n",
       "         ⅈ⋅γ⋅t                ⎥\n",
       "         ─────                ⎥\n",
       "           h      3           ⎥\n",
       "        ℯ     ⋅sin (θ₀)       ⎥\n",
       " ─────────────────────────────⎥\n",
       " (cos(θ₀) - 1)⋅(2⋅cos(θ₀) + 2)⎥\n",
       "                              ⎥\n",
       "    ⅈ⋅γ⋅t                     ⎥\n",
       "    ─────                     ⎥\n",
       "      h      2                ⎥\n",
       "   ℯ     ⋅sin (θ₀)            ⎥\n",
       " + ───────────────            ⎥\n",
       "    2⋅cos(θ₀) + 2             ⎦"
      ]
     },
     "execution_count": 19,
     "metadata": {},
     "output_type": "execute_result"
    }
   ],
   "source": [
    "U_t = exp(-I * H * t / h); U_t"
   ]
  },
  {
   "cell_type": "code",
   "execution_count": 20,
   "metadata": {},
   "outputs": [
    {
     "data": {
      "text/latex": [
       "$\\displaystyle \\left[\\begin{matrix}\\frac{e^{- \\frac{i \\gamma t}{h}} \\sin^{2}{\\left(\\theta_{0} \\right)}}{2 \\left(\\cos{\\left(\\theta_{0} \\right)} + 1\\right)} - \\frac{e^{\\frac{i \\gamma t}{h}} \\sin^{2}{\\left(\\theta_{0} \\right)}}{2 \\left(\\cos{\\left(\\theta_{0} \\right)} - 1\\right)}\\\\\\frac{e^{\\frac{i \\gamma t}{h}} \\sin{\\left(\\theta_{0} \\right)}}{2} - \\frac{e^{- \\frac{i \\gamma t}{h}} \\sin{\\left(\\theta_{0} \\right)}}{2}\\end{matrix}\\right]$"
      ],
      "text/plain": [
       "⎡ -ⅈ⋅γ⋅t              ⅈ⋅γ⋅t         ⎤\n",
       "⎢ ───────             ─────         ⎥\n",
       "⎢    h       2          h      2    ⎥\n",
       "⎢ℯ       ⋅sin (θ₀)   ℯ     ⋅sin (θ₀)⎥\n",
       "⎢───────────────── - ───────────────⎥\n",
       "⎢ 2⋅(cos(θ₀) + 1)    2⋅(cos(θ₀) - 1)⎥\n",
       "⎢                                   ⎥\n",
       "⎢  ⅈ⋅γ⋅t            -ⅈ⋅γ⋅t          ⎥\n",
       "⎢  ─────            ───────         ⎥\n",
       "⎢    h                 h            ⎥\n",
       "⎢ ℯ     ⋅sin(θ₀)   ℯ       ⋅sin(θ₀) ⎥\n",
       "⎢ ────────────── - ──────────────── ⎥\n",
       "⎣       2                 2         ⎦"
      ]
     },
     "execution_count": 20,
     "metadata": {},
     "output_type": "execute_result"
    }
   ],
   "source": [
    "psi_t =  U_t * psi0; psi_t"
   ]
  },
  {
   "cell_type": "code",
   "execution_count": 192,
   "metadata": {},
   "outputs": [
    {
     "data": {
      "text/latex": [
       "$\\displaystyle \\left[\\begin{matrix}\\cos{\\left(\\frac{by \\gamma t}{h} \\right)}\\\\- \\sin{\\left(\\frac{by \\gamma t}{h} \\right)}\\end{matrix}\\right]$"
      ],
      "text/plain": [
       "⎡   ⎛by⋅γ⋅t⎞ ⎤\n",
       "⎢cos⎜──────⎟ ⎥\n",
       "⎢   ⎝  h   ⎠ ⎥\n",
       "⎢            ⎥\n",
       "⎢    ⎛by⋅γ⋅t⎞⎥\n",
       "⎢-sin⎜──────⎟⎥\n",
       "⎣    ⎝  h   ⎠⎦"
      ]
     },
     "execution_count": 192,
     "metadata": {},
     "output_type": "execute_result"
    }
   ],
   "source": [
    "psi_t_c = simplify(psi_t); psi_t_c\n",
    "# ok"
   ]
  },
  {
   "cell_type": "markdown",
   "metadata": {},
   "source": [
    "plotting - minus\n",
    "\n",
    "probabilities: |<up|psi(t)>|^2"
   ]
  }
 ],
 "metadata": {
  "kernelspec": {
   "display_name": "quantum",
   "language": "python",
   "name": "python3"
  },
  "language_info": {
   "codemirror_mode": {
    "name": "ipython",
    "version": 3
   },
   "file_extension": ".py",
   "mimetype": "text/x-python",
   "name": "python",
   "nbconvert_exporter": "python",
   "pygments_lexer": "ipython3",
   "version": "3.11.5"
  }
 },
 "nbformat": 4,
 "nbformat_minor": 2
}
